{
 "cells": [
  {
   "cell_type": "code",
   "execution_count": 1,
   "metadata": {},
   "outputs": [],
   "source": [
    "import pandas as pd"
   ]
  },
  {
   "cell_type": "code",
   "execution_count": 6,
   "metadata": {},
   "outputs": [],
   "source": [
    "df_headline = pd.read_csv(\"resources/processed/train_noisy_headline_update.csv\", index_col=0)\n",
    "df_topic = pd.read_csv(\"resources/processed/train_not_noisy_topic_update.csv\", index_col=0)"
   ]
  },
  {
   "cell_type": "code",
   "execution_count": 9,
   "metadata": {},
   "outputs": [],
   "source": [
    "lst = []\n",
    "for _, row in df_headline.iterrows():\n",
    "    id = row['ID']\n",
    "    target = row['target']\n",
    "    target_name = row['target_name']\n",
    "    re_text = row['re_text']\n",
    "    lst.append([id, re_text, target, target_name])"
   ]
  },
  {
   "cell_type": "code",
   "execution_count": 10,
   "metadata": {},
   "outputs": [],
   "source": [
    "for _, row in df_topic.iterrows():\n",
    "    id = row['ID']\n",
    "    target = row['target']\n",
    "    target_name = row['target_name']\n",
    "    text = row['text']\n",
    "    lst.append([id, text, target, target_name])"
   ]
  },
  {
   "cell_type": "code",
   "execution_count": 11,
   "metadata": {},
   "outputs": [],
   "source": [
    "df_f = pd.DataFrame(lst, columns = ['ID', 'text', 'target', 'target_name'])"
   ]
  },
  {
   "cell_type": "code",
   "execution_count": 13,
   "metadata": {},
   "outputs": [],
   "source": [
    "df_f = df_f.sort_values(['ID'])"
   ]
  },
  {
   "cell_type": "code",
   "execution_count": 15,
   "metadata": {},
   "outputs": [],
   "source": [
    "df_f = df_f.reset_index(drop=True)"
   ]
  },
  {
   "cell_type": "code",
   "execution_count": 17,
   "metadata": {},
   "outputs": [],
   "source": [
    "df_f.to_csv(\"resources/processed/train_headline_topic_update.csv\", index=0, encoding='utf-8-sig')"
   ]
  }
 ],
 "metadata": {
  "kernelspec": {
   "display_name": ".venv_sh",
   "language": "python",
   "name": "python3"
  },
  "language_info": {
   "codemirror_mode": {
    "name": "ipython",
    "version": 3
   },
   "file_extension": ".py",
   "mimetype": "text/x-python",
   "name": "python",
   "nbconvert_exporter": "python",
   "pygments_lexer": "ipython3",
   "version": "3.10.13"
  }
 },
 "nbformat": 4,
 "nbformat_minor": 2
}
