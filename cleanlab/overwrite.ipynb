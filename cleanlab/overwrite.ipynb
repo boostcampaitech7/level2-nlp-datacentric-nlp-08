{
 "cells": [
  {
   "cell_type": "code",
   "execution_count": null,
   "metadata": {},
   "outputs": [],
   "source": [
    "import pandas as pd\n",
    "\n",
    "# Load the data\n",
    "train_noisy = pd.read_csv('output/train_noisy.csv')\n",
    "assemble = pd.read_csv('assemble_outputs.csv')\n",
    "\n",
    "# Get the ID values from train_noisy.csv\n",
    "train_noisy_ids = train_noisy['ID'].tolist()\n",
    "\n",
    "# Locate the corresponding target values in train_noisy.csv\n",
    "train_noisy_target = train_noisy.loc[train_noisy['ID'].isin(train_noisy_ids), 'target']\n",
    "\n",
    "# Update the target values in assemble.csv\n",
    "assemble.loc[assemble['ID'].isin(train_noisy_ids), 'target'] = train_noisy_target\n",
    "\n",
    "# Save the updated assemble.csv file\n",
    "assemble.to_csv('assemble_updated.csv', index=False)"
   ]
  }
 ],
 "metadata": {
  "kernelspec": {
   "display_name": "base",
   "language": "python",
   "name": "python3"
  },
  "language_info": {
   "codemirror_mode": {
    "name": "ipython",
    "version": 3
   },
   "file_extension": ".py",
   "mimetype": "text/x-python",
   "name": "python",
   "nbconvert_exporter": "python",
   "pygments_lexer": "ipython3",
   "version": "3.10.13"
  }
 },
 "nbformat": 4,
 "nbformat_minor": 2
}
