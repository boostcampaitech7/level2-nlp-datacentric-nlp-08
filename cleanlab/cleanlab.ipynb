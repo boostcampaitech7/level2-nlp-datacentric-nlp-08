{
 "cells": [
  {
   "cell_type": "code",
   "execution_count": 290,
   "metadata": {},
   "outputs": [],
   "source": [
    "class_names = ['생활문화', '스포츠', '정치', '사회', 'IT과학', '경제', '세계']\n",
    "\n",
    "# 클래스와 인덱스 매핑\n",
    "class_to_idx = {\n",
    "    '생활문화': 0,\n",
    "    '스포츠': 1,\n",
    "    '정치': 2,\n",
    "    '사회': 3,\n",
    "    'IT과학': 4,\n",
    "    '경제': 5,\n",
    "    '세계': 6\n",
    "}"
   ]
  },
  {
   "cell_type": "code",
   "execution_count": 291,
   "metadata": {},
   "outputs": [],
   "source": [
    "import torch\n",
    "import pandas as pd\n",
    "import numpy as np\n",
    "\n",
    "from torch.utils.data import Dataset, DataLoader\n",
    "\n",
    "import cleanlab\n",
    "from cleanlab.filter import find_label_issues"
   ]
  },
  {
   "cell_type": "code",
   "execution_count": 292,
   "metadata": {},
   "outputs": [],
   "source": [
    "train_df = pd.read_csv('../data/train/woosama_cleanlab.csv')\n",
    "preliminary_labels = train_df['target']"
   ]
  },
  {
   "cell_type": "code",
   "execution_count": 293,
   "metadata": {},
   "outputs": [],
   "source": [
    "output_df = pd.read_csv('output/sec_woosama_with_prob.csv')\n",
    "model_pred_probs = output_df[[f'prob_{i}' for i in range(7)]].values"
   ]
  },
  {
   "cell_type": "code",
   "execution_count": 294,
   "metadata": {},
   "outputs": [
    {
     "data": {
      "text/plain": [
       "array([False, False, False, ..., False, False, False])"
      ]
     },
     "execution_count": 294,
     "metadata": {},
     "output_type": "execute_result"
    }
   ],
   "source": [
    "# 초기 라벨과 모델 예측 확률을 통해 라벨 오류 의심 샘플 찾기\n",
    "label_issues = find_label_issues(\n",
    "    labels=preliminary_labels,       # 초기 라벨\n",
    "    pred_probs=model_pred_probs,     # 모델의 예측 확률\n",
    ")\n",
    "label_issues"
   ]
  },
  {
   "cell_type": "code",
   "execution_count": 295,
   "metadata": {},
   "outputs": [],
   "source": [
    "# from cleanlab.dataset import health_summary\n",
    "# health_stats = health_summary(\n",
    "#     labels=preliminary_labels,\n",
    "#     pred_probs=model_pred_probs,\n",
    "#     class_names=class_names\n",
    "# )"
   ]
  },
  {
   "cell_type": "code",
   "execution_count": 296,
   "metadata": {},
   "outputs": [
    {
     "data": {
      "text/plain": [
       "Index([513, 2239, 5639, 6562, 6785, 8010], dtype='int64')"
      ]
     },
     "execution_count": 296,
     "metadata": {},
     "output_type": "execute_result"
    }
   ],
   "source": [
    "# 라벨 오류 가능성이 있는 샘플의 인덱스만 추출\n",
    "label_issue_indices = np.where(label_issues)[0]\n",
    "\n",
    "# 오류 가능성이 높은 샘플의 인덱스만 리스트로 가져오기\n",
    "issue_indices = train_df.index[label_issue_indices]\n",
    "issue_indices"
   ]
  },
  {
   "cell_type": "code",
   "execution_count": 297,
   "metadata": {},
   "outputs": [],
   "source": [
    "train_df = train_df.drop(columns=['Unnamed: 0'])"
   ]
  },
  {
   "cell_type": "code",
   "execution_count": 298,
   "metadata": {},
   "outputs": [],
   "source": [
    "# 오류 샘플에서 모델이 예측한 라벨 보기\n",
    "corrected_labels = [model_pred_probs[idx].argmax() for idx in label_issue_indices]"
   ]
  },
  {
   "cell_type": "code",
   "execution_count": 299,
   "metadata": {},
   "outputs": [
    {
     "data": {
      "text/html": [
       "<div>\n",
       "<style scoped>\n",
       "    .dataframe tbody tr th:only-of-type {\n",
       "        vertical-align: middle;\n",
       "    }\n",
       "\n",
       "    .dataframe tbody tr th {\n",
       "        vertical-align: top;\n",
       "    }\n",
       "\n",
       "    .dataframe thead th {\n",
       "        text-align: right;\n",
       "    }\n",
       "</style>\n",
       "<table border=\"1\" class=\"dataframe\">\n",
       "  <thead>\n",
       "    <tr style=\"text-align: right;\">\n",
       "      <th></th>\n",
       "      <th>target</th>\n",
       "      <th>text</th>\n",
       "      <th>ID</th>\n",
       "      <th>target_name</th>\n",
       "      <th>re_text</th>\n",
       "    </tr>\n",
       "  </thead>\n",
       "  <tbody>\n",
       "    <tr>\n",
       "      <th>0</th>\n",
       "      <td>3</td>\n",
       "      <td>정보 공개 중요성, 투명한 정부 운영 필수</td>\n",
       "      <td>NaN</td>\n",
       "      <td>NaN</td>\n",
       "      <td>NaN</td>\n",
       "    </tr>\n",
       "    <tr>\n",
       "      <th>1</th>\n",
       "      <td>4</td>\n",
       "      <td>기술 발전과 인간 가치 중시, 현명한 사회 발전 방향 모색</td>\n",
       "      <td>NaN</td>\n",
       "      <td>NaN</td>\n",
       "      <td>NaN</td>\n",
       "    </tr>\n",
       "    <tr>\n",
       "      <th>2</th>\n",
       "      <td>4</td>\n",
       "      <td>데이터 분석 기반 의사결정 지원 시스템 개발, 효율적인 관리 시스템 구축</td>\n",
       "      <td>NaN</td>\n",
       "      <td>NaN</td>\n",
       "      <td>NaN</td>\n",
       "    </tr>\n",
       "    <tr>\n",
       "      <th>3</th>\n",
       "      <td>3</td>\n",
       "      <td>지식 기반 경제 구축을 위한 노력</td>\n",
       "      <td>NaN</td>\n",
       "      <td>NaN</td>\n",
       "      <td>NaN</td>\n",
       "    </tr>\n",
       "    <tr>\n",
       "      <th>4</th>\n",
       "      <td>3</td>\n",
       "      <td>지역 주민들의 의견 수렴, 맞춤형 정책 개발 추진</td>\n",
       "      <td>NaN</td>\n",
       "      <td>NaN</td>\n",
       "      <td>NaN</td>\n",
       "    </tr>\n",
       "    <tr>\n",
       "      <th>...</th>\n",
       "      <td>...</td>\n",
       "      <td>...</td>\n",
       "      <td>...</td>\n",
       "      <td>...</td>\n",
       "      <td>...</td>\n",
       "    </tr>\n",
       "    <tr>\n",
       "      <th>8412</th>\n",
       "      <td>6</td>\n",
       "      <td>트럼프 폭스뉴스 앵커들 충성도 점수매겨…10점만점에 12점도</td>\n",
       "      <td>ynat-v1_train_02795</td>\n",
       "      <td>세계</td>\n",
       "      <td>트럼프 폭스뉴스 앵커들 충성도 점수 매겨...10점 만점에 12점도</td>\n",
       "    </tr>\n",
       "    <tr>\n",
       "      <th>8413</th>\n",
       "      <td>4</td>\n",
       "      <td>삼성 갤럭시S9 정식 출시 첫 주말 이통시장 잠잠</td>\n",
       "      <td>ynat-v1_train_02796</td>\n",
       "      <td>정치</td>\n",
       "      <td>삼성 갤럭시S9 정식 출시 첫 주말 이통시장 잠잠</td>\n",
       "    </tr>\n",
       "    <tr>\n",
       "      <th>8414</th>\n",
       "      <td>4</td>\n",
       "      <td>텔레그램 텔레의 서 시간 다운 종</td>\n",
       "      <td>ynat-v1_train_02797</td>\n",
       "      <td>IT과학</td>\n",
       "      <td>텔레그램 등 아시아서 2시간 다운...카카오뱅크 서비스 장애 39분 지속(2보)</td>\n",
       "    </tr>\n",
       "    <tr>\n",
       "      <th>8415</th>\n",
       "      <td>1</td>\n",
       "      <td>인터뷰 류현진 친구에게 안타 맞는 것 싫어해…승부는 냉정</td>\n",
       "      <td>ynat-v1_train_02798</td>\n",
       "      <td>스포츠</td>\n",
       "      <td>인터뷰: 류현진, 친구에게 안타 맞는 것 싫어해...승부는 냉정</td>\n",
       "    </tr>\n",
       "    <tr>\n",
       "      <th>8416</th>\n",
       "      <td>3</td>\n",
       "      <td>지능정보사회 대비 국가 종합대책 마련</td>\n",
       "      <td>ynat-v1_train_02799</td>\n",
       "      <td>IT과학</td>\n",
       "      <td>지능정보사회 대비 국가 종합대책 마련</td>\n",
       "    </tr>\n",
       "  </tbody>\n",
       "</table>\n",
       "<p>8417 rows × 5 columns</p>\n",
       "</div>"
      ],
      "text/plain": [
       "      target                                      text                   ID  \\\n",
       "0          3                   정보 공개 중요성, 투명한 정부 운영 필수                  NaN   \n",
       "1          4          기술 발전과 인간 가치 중시, 현명한 사회 발전 방향 모색                  NaN   \n",
       "2          4  데이터 분석 기반 의사결정 지원 시스템 개발, 효율적인 관리 시스템 구축                  NaN   \n",
       "3          3                        지식 기반 경제 구축을 위한 노력                  NaN   \n",
       "4          3               지역 주민들의 의견 수렴, 맞춤형 정책 개발 추진                  NaN   \n",
       "...      ...                                       ...                  ...   \n",
       "8412       6         트럼프 폭스뉴스 앵커들 충성도 점수매겨…10점만점에 12점도  ynat-v1_train_02795   \n",
       "8413       4               삼성 갤럭시S9 정식 출시 첫 주말 이통시장 잠잠  ynat-v1_train_02796   \n",
       "8414       4                        텔레그램 텔레의 서 시간 다운 종  ynat-v1_train_02797   \n",
       "8415       1           인터뷰 류현진 친구에게 안타 맞는 것 싫어해…승부는 냉정  ynat-v1_train_02798   \n",
       "8416       3                      지능정보사회 대비 국가 종합대책 마련  ynat-v1_train_02799   \n",
       "\n",
       "     target_name                                       re_text  \n",
       "0            NaN                                           NaN  \n",
       "1            NaN                                           NaN  \n",
       "2            NaN                                           NaN  \n",
       "3            NaN                                           NaN  \n",
       "4            NaN                                           NaN  \n",
       "...          ...                                           ...  \n",
       "8412          세계         트럼프 폭스뉴스 앵커들 충성도 점수 매겨...10점 만점에 12점도  \n",
       "8413          정치                   삼성 갤럭시S9 정식 출시 첫 주말 이통시장 잠잠  \n",
       "8414        IT과학  텔레그램 등 아시아서 2시간 다운...카카오뱅크 서비스 장애 39분 지속(2보)  \n",
       "8415         스포츠           인터뷰: 류현진, 친구에게 안타 맞는 것 싫어해...승부는 냉정  \n",
       "8416        IT과학                          지능정보사회 대비 국가 종합대책 마련  \n",
       "\n",
       "[8417 rows x 5 columns]"
      ]
     },
     "execution_count": 299,
     "metadata": {},
     "output_type": "execute_result"
    }
   ],
   "source": [
    "# 라벨을 모델의 예측 라벨로 교체\n",
    "train_df.loc[label_issue_indices, 'target'] = corrected_labels\n",
    "train_df"
   ]
  },
  {
   "cell_type": "code",
   "execution_count": 288,
   "metadata": {},
   "outputs": [],
   "source": [
    "train_df = train_df.drop(columns=['Unnamed: 0.1'])\n",
    "train_df = train_df.drop(columns=['Unnamed: 0.2'])"
   ]
  },
  {
   "cell_type": "code",
   "execution_count": 230,
   "metadata": {},
   "outputs": [],
   "source": [
    "# from cleanlab.dataset import health_summary\n",
    "# health_stats = health_summary(\n",
    "#     labels=train_df['target'],\n",
    "#     pred_probs=model_pred_probs,\n",
    "#     class_names=class_names\n",
    "# )"
   ]
  },
  {
   "cell_type": "code",
   "execution_count": 300,
   "metadata": {},
   "outputs": [],
   "source": [
    "train_df.to_csv('../data/train/sec_woosama_cleanlab.csv')"
   ]
  },
  {
   "cell_type": "code",
   "execution_count": 301,
   "metadata": {},
   "outputs": [
    {
     "name": "stdout",
     "output_type": "stream",
     "text": [
      "        Count     Ratio\n",
      "target                 \n",
      "4        1433  0.170251\n",
      "1        1294  0.153736\n",
      "2        1230  0.146133\n",
      "5        1206  0.143281\n",
      "0        1149  0.136509\n",
      "6        1132  0.134490\n",
      "3         973  0.115599\n"
     ]
    }
   ],
   "source": [
    "# 각 target별 개수와 비율 구하기\n",
    "target_counts = train_df['target'].value_counts()\n",
    "target_ratios = train_df['target'].value_counts(normalize=True)\n",
    "\n",
    "# 결과 출력\n",
    "result_df = pd.DataFrame({\n",
    "    'Count': target_counts,\n",
    "    'Ratio': target_ratios\n",
    "})\n",
    "\n",
    "print(result_df)"
   ]
  }
 ],
 "metadata": {
  "kernelspec": {
   "display_name": "base",
   "language": "python",
   "name": "python3"
  },
  "language_info": {
   "codemirror_mode": {
    "name": "ipython",
    "version": 3
   },
   "file_extension": ".py",
   "mimetype": "text/x-python",
   "name": "python",
   "nbconvert_exporter": "python",
   "pygments_lexer": "ipython3",
   "version": "3.10.13"
  }
 },
 "nbformat": 4,
 "nbformat_minor": 2
}
