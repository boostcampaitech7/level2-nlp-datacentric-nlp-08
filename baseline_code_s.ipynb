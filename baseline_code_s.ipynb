{
  "cells": [
    {
      "cell_type": "markdown",
      "metadata": {
        "id": "hZFRz66WGJ0m"
      },
      "source": [
        "# Data-Centric NLP 대회: 주제 분류 프로젝트"
      ]
    },
    {
      "cell_type": "markdown",
      "metadata": {
        "id": "aJ-n74gNGJ0n"
      },
      "source": [
        "## Load Libraries"
      ]
    },
    {
      "cell_type": "code",
      "execution_count": 1,
      "metadata": {
        "id": "ieJqZz6WGJ0n"
      },
      "outputs": [],
      "source": [
        "import os\n",
        "import random\n",
        "import numpy as np\n",
        "import pandas as pd\n",
        "from tqdm import tqdm\n",
        "\n",
        "import torch\n",
        "from torch.utils.data import Dataset\n",
        "\n",
        "import evaluate\n",
        "from transformers import AutoModelForSequenceClassification, AutoTokenizer\n",
        "from transformers import DataCollatorWithPadding\n",
        "from transformers import TrainingArguments, Trainer\n",
        "\n",
        "from sklearn.model_selection import train_test_split"
      ]
    },
    {
      "cell_type": "markdown",
      "metadata": {
        "id": "c9MrGeVLGJ0o"
      },
      "source": [
        "## Set Hyperparameters"
      ]
    },
    {
      "cell_type": "code",
      "execution_count": 2,
      "metadata": {
        "id": "Rojb26TRGJ0o"
      },
      "outputs": [],
      "source": [
        "SEED = 456\n",
        "random.seed(SEED)\n",
        "np.random.seed(SEED)\n",
        "torch.manual_seed(SEED)\n",
        "torch.cuda.manual_seed(SEED)\n",
        "torch.cuda.manual_seed_all(SEED)"
      ]
    },
    {
      "cell_type": "code",
      "execution_count": 3,
      "metadata": {
        "colab": {
          "base_uri": "https://localhost:8080/"
        },
        "id": "NHiKw7tAGJ0o",
        "outputId": "fa675ab9-3221-4ef1-dabb-42e2aad2192c"
      },
      "outputs": [
        {
          "data": {
            "text/plain": [
              "device(type='cuda')"
            ]
          },
          "execution_count": 3,
          "metadata": {},
          "output_type": "execute_result"
        }
      ],
      "source": [
        "DEVICE = torch.device('cuda') if torch.cuda.is_available() else torch.device('cpu')\n",
        "DEVICE"
      ]
    },
    {
      "cell_type": "code",
      "execution_count": 4,
      "metadata": {
        "id": "ANUH4JCxGJ0o"
      },
      "outputs": [],
      "source": [
        "BASE_DIR = os.getcwd()\n",
        "DATA_DIR = os.path.join(BASE_DIR, './resources/processed/')\n",
        "OUTPUT_DIR = os.path.join(BASE_DIR, './resources/output')\n",
        "# DATA_DIR = os.path.join(BASE_DIR, './resources/raw_data/')\n",
        "# OUTPUT_DIR = os.path.join(BASE_DIR, './resources/output')"
      ]
    },
    {
      "cell_type": "markdown",
      "metadata": {
        "id": "MuP9IW9mGJ0o"
      },
      "source": [
        "## Load Tokenizer and Model"
      ]
    },
    {
      "cell_type": "code",
      "execution_count": 5,
      "metadata": {
        "id": "HH0lhDvhGJ0o"
      },
      "outputs": [
        {
          "name": "stderr",
          "output_type": "stream",
          "text": [
            "Some weights of BertForSequenceClassification were not initialized from the model checkpoint at klue/bert-base and are newly initialized: ['classifier.bias', 'classifier.weight']\n",
            "You should probably TRAIN this model on a down-stream task to be able to use it for predictions and inference.\n"
          ]
        }
      ],
      "source": [
        "model_name = 'klue/bert-base'\n",
        "tokenizer = AutoTokenizer.from_pretrained(model_name)\n",
        "model = AutoModelForSequenceClassification.from_pretrained(model_name, num_labels=7).to(DEVICE)"
      ]
    },
    {
      "cell_type": "markdown",
      "metadata": {
        "id": "-x2NvoGbGJ0o"
      },
      "source": [
        "## Define Dataset"
      ]
    },
    {
      "cell_type": "code",
      "execution_count": 29,
      "metadata": {
        "id": "gE13nELlGJ0o"
      },
      "outputs": [],
      "source": [
        "# data = pd.read_csv(os.path.join(DATA_DIR, 'train_v2.csv'))\n",
        "# data = pd.read_csv(os.path.join(DATA_DIR, 'train_headline_topic_inference.csv'))\n",
        "data = pd.read_csv(os.path.join(DATA_DIR, 'simon_dataset_duplicate_noise_only.csv'))\n",
        "# data = pd.read_csv(os.path.join(DATA_DIR, 'train.csv'))\n",
        "dataset_train, dataset_valid = train_test_split(data, test_size=0.3, random_state=SEED)"
      ]
    },
    {
      "cell_type": "code",
      "execution_count": 33,
      "metadata": {},
      "outputs": [
        {
          "name": "stdout",
          "output_type": "stream",
          "text": [
            "Train 데이터:\n",
            "5716\n",
            "\n",
            "Valid 데이터:\n",
            "632\n"
          ]
        }
      ],
      "source": [
        "# # target별로 그룹화하고 각 그룹에서 99%는 train, 1%는 valid로 분할\n",
        "# dataset_train = pd.DataFrame()\n",
        "# dataset_valid = pd.DataFrame()\n",
        "\n",
        "# for target, group in data.groupby('target'):\n",
        "#     n = len(group)\n",
        "#     valid_size = max(int(n * 0.1), 1)  # 최소 1개는 valid로\n",
        "    \n",
        "#     valid_indices = np.random.choice(group.index, size=valid_size, replace=False)\n",
        "#     train_indices = group.index.difference(valid_indices)\n",
        "    \n",
        "#     dataset_train = pd.concat([dataset_train, group.loc[train_indices]])\n",
        "#     dataset_valid = pd.concat([dataset_valid, group.loc[valid_indices]])\n",
        "\n",
        "# # 결과 출력\n",
        "# print(\"Train 데이터:\")\n",
        "# print(len(dataset_train))\n",
        "# print(\"\\nValid 데이터:\")\n",
        "# print(len(dataset_valid))"
      ]
    },
    {
      "cell_type": "code",
      "execution_count": 34,
      "metadata": {},
      "outputs": [
        {
          "data": {
            "text/plain": [
              "target\n",
              "6    825\n",
              "2    821\n",
              "5    818\n",
              "4    814\n",
              "0    814\n",
              "3    814\n",
              "1    810\n",
              "Name: count, dtype: int64"
            ]
          },
          "execution_count": 34,
          "metadata": {},
          "output_type": "execute_result"
        }
      ],
      "source": [
        "dataset_train['target'].value_counts()"
      ]
    },
    {
      "cell_type": "code",
      "execution_count": 35,
      "metadata": {},
      "outputs": [
        {
          "data": {
            "text/plain": [
              "target\n",
              "2    91\n",
              "6    91\n",
              "0    90\n",
              "1    90\n",
              "3    90\n",
              "4    90\n",
              "5    90\n",
              "Name: count, dtype: int64"
            ]
          },
          "execution_count": 35,
          "metadata": {},
          "output_type": "execute_result"
        }
      ],
      "source": [
        "dataset_valid['target'].value_counts()"
      ]
    },
    {
      "cell_type": "code",
      "execution_count": 27,
      "metadata": {},
      "outputs": [
        {
          "data": {
            "text/html": [
              "<div>\n",
              "<style scoped>\n",
              "    .dataframe tbody tr th:only-of-type {\n",
              "        vertical-align: middle;\n",
              "    }\n",
              "\n",
              "    .dataframe tbody tr th {\n",
              "        vertical-align: top;\n",
              "    }\n",
              "\n",
              "    .dataframe thead th {\n",
              "        text-align: right;\n",
              "    }\n",
              "</style>\n",
              "<table border=\"1\" class=\"dataframe\">\n",
              "  <thead>\n",
              "    <tr style=\"text-align: right;\">\n",
              "      <th></th>\n",
              "      <th>Unnamed: 0</th>\n",
              "      <th>ID</th>\n",
              "      <th>text</th>\n",
              "      <th>target</th>\n",
              "      <th>target_name</th>\n",
              "    </tr>\n",
              "  </thead>\n",
              "  <tbody>\n",
              "    <tr>\n",
              "      <th>2143</th>\n",
              "      <td>3356</td>\n",
              "      <td>ynat-v1_train_00918</td>\n",
              "      <td>미스터 션샤인, 팬들 기대 속 시즌2 제작 확정</td>\n",
              "      <td>0</td>\n",
              "      <td>생활문화</td>\n",
              "    </tr>\n",
              "    <tr>\n",
              "      <th>1780</th>\n",
              "      <td>2993</td>\n",
              "      <td>ynat-v1_train_00784</td>\n",
              "      <td>토 애 레 듀오 넷플 서 틀</td>\n",
              "      <td>0</td>\n",
              "      <td>생활문화</td>\n",
              "    </tr>\n",
              "    <tr>\n",
              "      <th>2028</th>\n",
              "      <td>3241</td>\n",
              "      <td>ynat-v1_train_00873</td>\n",
              "      <td>청 항 짙은 안 항공 회 지 운</td>\n",
              "      <td>0</td>\n",
              "      <td>생활문화</td>\n",
              "    </tr>\n",
              "    <tr>\n",
              "      <th>6333</th>\n",
              "      <td>7546</td>\n",
              "      <td>ynat-v1_train_02788</td>\n",
              "      <td>남원소식 춘향단장 모집</td>\n",
              "      <td>0</td>\n",
              "      <td>생활문화</td>\n",
              "    </tr>\n",
              "    <tr>\n",
              "      <th>3803</th>\n",
              "      <td>5016</td>\n",
              "      <td>ynat-v1_train_01638</td>\n",
              "      <td>H영 극단, 호주 무대서 첫 선...다양한 언어로 감동 전달</td>\n",
              "      <td>0</td>\n",
              "      <td>생활문화</td>\n",
              "    </tr>\n",
              "    <tr>\n",
              "      <th>...</th>\n",
              "      <td>...</td>\n",
              "      <td>...</td>\n",
              "      <td>...</td>\n",
              "      <td>...</td>\n",
              "      <td>...</td>\n",
              "    </tr>\n",
              "    <tr>\n",
              "      <th>3289</th>\n",
              "      <td>4502</td>\n",
              "      <td>ynat-v1_train_01380</td>\n",
              "      <td>'렉스트 X1 출시 기념 이벤트 중)&gt;행7재 I동 무계약</td>\n",
              "      <td>6</td>\n",
              "      <td>세계</td>\n",
              "    </tr>\n",
              "    <tr>\n",
              "      <th>1019</th>\n",
              "      <td>2232</td>\n",
              "      <td>ynat-v1_train_00482</td>\n",
              "      <td>올해 노벨상 수상자들, 글로벌 무대에서 업적 발표</td>\n",
              "      <td>6</td>\n",
              "      <td>세계</td>\n",
              "    </tr>\n",
              "    <tr>\n",
              "      <th>163</th>\n",
              "      <td>1376</td>\n",
              "      <td>ynat-v1_train_00067</td>\n",
              "      <td>삼성, 갤럭시 S9 퀀텀 패키지 5천대 한정 판매 개시</td>\n",
              "      <td>6</td>\n",
              "      <td>세계</td>\n",
              "    </tr>\n",
              "    <tr>\n",
              "      <th>142</th>\n",
              "      <td>1355</td>\n",
              "      <td>ynat-v1_train_00058</td>\n",
              "      <td>M2 치료제 개발, 미국 임플란트 시장 본격화</td>\n",
              "      <td>6</td>\n",
              "      <td>세계</td>\n",
              "    </tr>\n",
              "    <tr>\n",
              "      <th>3594</th>\n",
              "      <td>4807</td>\n",
              "      <td>ynat-v1_train_01533</td>\n",
              "      <td>미국, 2분기 군사 훈련 종료 후 북핵 대응 태세 강화</td>\n",
              "      <td>6</td>\n",
              "      <td>세계</td>\n",
              "    </tr>\n",
              "  </tbody>\n",
              "</table>\n",
              "<p>632 rows × 5 columns</p>\n",
              "</div>"
            ],
            "text/plain": [
              "      Unnamed: 0                   ID                               text  \\\n",
              "2143        3356  ynat-v1_train_00918         미스터 션샤인, 팬들 기대 속 시즌2 제작 확정   \n",
              "1780        2993  ynat-v1_train_00784                    토 애 레 듀오 넷플 서 틀   \n",
              "2028        3241  ynat-v1_train_00873                  청 항 짙은 안 항공 회 지 운   \n",
              "6333        7546  ynat-v1_train_02788                       남원소식 춘향단장 모집   \n",
              "3803        5016  ynat-v1_train_01638  H영 극단, 호주 무대서 첫 선...다양한 언어로 감동 전달   \n",
              "...          ...                  ...                                ...   \n",
              "3289        4502  ynat-v1_train_01380    '렉스트 X1 출시 기념 이벤트 중)>행7재 I동 무계약   \n",
              "1019        2232  ynat-v1_train_00482        올해 노벨상 수상자들, 글로벌 무대에서 업적 발표   \n",
              "163         1376  ynat-v1_train_00067     삼성, 갤럭시 S9 퀀텀 패키지 5천대 한정 판매 개시   \n",
              "142         1355  ynat-v1_train_00058          M2 치료제 개발, 미국 임플란트 시장 본격화   \n",
              "3594        4807  ynat-v1_train_01533     미국, 2분기 군사 훈련 종료 후 북핵 대응 태세 강화   \n",
              "\n",
              "      target target_name  \n",
              "2143       0        생활문화  \n",
              "1780       0        생활문화  \n",
              "2028       0        생활문화  \n",
              "6333       0        생활문화  \n",
              "3803       0        생활문화  \n",
              "...      ...         ...  \n",
              "3289       6          세계  \n",
              "1019       6          세계  \n",
              "163        6          세계  \n",
              "142        6          세계  \n",
              "3594       6          세계  \n",
              "\n",
              "[632 rows x 5 columns]"
            ]
          },
          "execution_count": 27,
          "metadata": {},
          "output_type": "execute_result"
        }
      ],
      "source": [
        "dataset_valid"
      ]
    },
    {
      "cell_type": "code",
      "execution_count": 11,
      "metadata": {
        "id": "9BQVS286GJ0o"
      },
      "outputs": [],
      "source": [
        "class BERTDataset(Dataset):\n",
        "    def __init__(self, data, tokenizer):\n",
        "        input_texts = data['text']\n",
        "        targets = data['target']\n",
        "        self.inputs = []; self.labels = []\n",
        "        for text, label in zip(input_texts, targets):\n",
        "            tokenized_input = tokenizer(text, padding='max_length', truncation=True, return_tensors='pt')\n",
        "            self.inputs.append(tokenized_input)\n",
        "            self.labels.append(torch.tensor(label))\n",
        "\n",
        "    def __getitem__(self, idx):\n",
        "        return {\n",
        "            'input_ids': self.inputs[idx]['input_ids'].squeeze(0),\n",
        "            'attention_mask': self.inputs[idx]['attention_mask'].squeeze(0),\n",
        "            'labels': self.labels[idx].squeeze(0)\n",
        "        }\n",
        "\n",
        "    def __len__(self):\n",
        "        return len(self.labels)"
      ]
    },
    {
      "cell_type": "code",
      "execution_count": 12,
      "metadata": {
        "id": "BVycj2wPGJ0p"
      },
      "outputs": [],
      "source": [
        "data_train = BERTDataset(dataset_train, tokenizer)\n",
        "data_valid = BERTDataset(dataset_valid, tokenizer)"
      ]
    },
    {
      "cell_type": "code",
      "execution_count": 13,
      "metadata": {
        "id": "5yh5dYa0GJ0p"
      },
      "outputs": [],
      "source": [
        "data_collator = DataCollatorWithPadding(tokenizer=tokenizer)"
      ]
    },
    {
      "cell_type": "markdown",
      "metadata": {
        "id": "YPl6TZ7CGJ0p"
      },
      "source": [
        "## Define Metric"
      ]
    },
    {
      "cell_type": "code",
      "execution_count": 14,
      "metadata": {
        "id": "XA9g2vV_GJ0p"
      },
      "outputs": [],
      "source": [
        "f1 = evaluate.load('f1')\n",
        "def compute_metrics(eval_pred):\n",
        "    predictions, labels = eval_pred\n",
        "    predictions = np.argmax(predictions, axis=1)\n",
        "    return f1.compute(predictions=predictions, references=labels, average='macro')\n"
      ]
    },
    {
      "cell_type": "markdown",
      "metadata": {
        "id": "WV2exsooGJ0p"
      },
      "source": [
        "## Train Model"
      ]
    },
    {
      "cell_type": "code",
      "execution_count": 15,
      "metadata": {
        "id": "OkQVpzabGJ0p"
      },
      "outputs": [],
      "source": [
        "### for wandb setting\n",
        "os.environ['WANDB_DISABLED'] = 'true'"
      ]
    },
    {
      "cell_type": "code",
      "execution_count": 24,
      "metadata": {
        "id": "SLV_Qq5bGJ0p"
      },
      "outputs": [
        {
          "name": "stderr",
          "output_type": "stream",
          "text": [
            "Using the `WANDB_DISABLED` environment variable is deprecated and will be removed in v5. Use the --report_to flag to control the integrations used for logging result (for instance --report_to none).\n"
          ]
        }
      ],
      "source": [
        "training_args = TrainingArguments(\n",
        "    output_dir=OUTPUT_DIR,\n",
        "    overwrite_output_dir=True,\n",
        "    do_train=True,\n",
        "    do_eval=True,\n",
        "    do_predict=True,\n",
        "    logging_strategy='steps',\n",
        "    eval_strategy='steps',\n",
        "    save_strategy='steps',\n",
        "    logging_steps=100,\n",
        "    eval_steps=100,\n",
        "    save_steps=100,\n",
        "    save_total_limit=2,\n",
        "    learning_rate= 5e-04,\n",
        "    adam_beta1 = 0.9,\n",
        "    adam_beta2 = 0.999,\n",
        "    adam_epsilon=1e-08,\n",
        "    weight_decay=0.01,\n",
        "    lr_scheduler_type='linear',\n",
        "    per_device_train_batch_size=16,\n",
        "    per_device_eval_batch_size=16,\n",
        "    num_train_epochs=2,# 5~10\n",
        "    load_best_model_at_end=True,\n",
        "    metric_for_best_model='eval_f1',\n",
        "    greater_is_better=True,\n",
        "    seed=SEED\n",
        ")"
      ]
    },
    {
      "cell_type": "code",
      "execution_count": 25,
      "metadata": {
        "id": "eGAepHgxGJ0p"
      },
      "outputs": [
        {
          "name": "stderr",
          "output_type": "stream",
          "text": [
            "Detected kernel version 5.4.0, which is below the recommended minimum of 5.5.0; this can cause the process to hang. It is recommended to upgrade the kernel to the minimum version or higher.\n"
          ]
        }
      ],
      "source": [
        "trainer = Trainer(\n",
        "    model=model,\n",
        "    args=training_args,\n",
        "    train_dataset=data_train,\n",
        "    eval_dataset=data_valid,\n",
        "    data_collator=data_collator,\n",
        "    compute_metrics=compute_metrics,\n",
        ")"
      ]
    },
    {
      "cell_type": "code",
      "execution_count": 26,
      "metadata": {
        "id": "vJ_Vzpc9GJ0p"
      },
      "outputs": [
        {
          "data": {
            "text/html": [
              "\n",
              "    <div>\n",
              "      \n",
              "      <progress value='108' max='716' style='width:300px; height:20px; vertical-align: middle;'></progress>\n",
              "      [108/716 02:06 < 12:06, 0.84 it/s, Epoch 0.30/2]\n",
              "    </div>\n",
              "    <table border=\"1\" class=\"dataframe\">\n",
              "  <thead>\n",
              " <tr style=\"text-align: left;\">\n",
              "      <th>Step</th>\n",
              "      <th>Training Loss</th>\n",
              "      <th>Validation Loss</th>\n",
              "      <th>F1</th>\n",
              "    </tr>\n",
              "  </thead>\n",
              "  <tbody>\n",
              "    <tr>\n",
              "      <td>100</td>\n",
              "      <td>1.905700</td>\n",
              "      <td>1.955235</td>\n",
              "      <td>0.057595</td>\n",
              "    </tr>\n",
              "  </tbody>\n",
              "</table><p>"
            ],
            "text/plain": [
              "<IPython.core.display.HTML object>"
            ]
          },
          "metadata": {},
          "output_type": "display_data"
        },
        {
          "ename": "KeyboardInterrupt",
          "evalue": "",
          "output_type": "error",
          "traceback": [
            "\u001b[0;31m---------------------------------------------------------------------------\u001b[0m",
            "\u001b[0;31mKeyboardInterrupt\u001b[0m                         Traceback (most recent call last)",
            "Cell \u001b[0;32mIn[26], line 1\u001b[0m\n\u001b[0;32m----> 1\u001b[0m \u001b[43mtrainer\u001b[49m\u001b[38;5;241;43m.\u001b[39;49m\u001b[43mtrain\u001b[49m\u001b[43m(\u001b[49m\u001b[43m)\u001b[49m\n",
            "File \u001b[0;32m~/ksh/level2-nlp-datacentric-nlp-08/.venv_sh/lib/python3.10/site-packages/transformers/trainer.py:2122\u001b[0m, in \u001b[0;36mTrainer.train\u001b[0;34m(self, resume_from_checkpoint, trial, ignore_keys_for_eval, **kwargs)\u001b[0m\n\u001b[1;32m   2120\u001b[0m         hf_hub_utils\u001b[38;5;241m.\u001b[39menable_progress_bars()\n\u001b[1;32m   2121\u001b[0m \u001b[38;5;28;01melse\u001b[39;00m:\n\u001b[0;32m-> 2122\u001b[0m     \u001b[38;5;28;01mreturn\u001b[39;00m \u001b[43minner_training_loop\u001b[49m\u001b[43m(\u001b[49m\n\u001b[1;32m   2123\u001b[0m \u001b[43m        \u001b[49m\u001b[43margs\u001b[49m\u001b[38;5;241;43m=\u001b[39;49m\u001b[43margs\u001b[49m\u001b[43m,\u001b[49m\n\u001b[1;32m   2124\u001b[0m \u001b[43m        \u001b[49m\u001b[43mresume_from_checkpoint\u001b[49m\u001b[38;5;241;43m=\u001b[39;49m\u001b[43mresume_from_checkpoint\u001b[49m\u001b[43m,\u001b[49m\n\u001b[1;32m   2125\u001b[0m \u001b[43m        \u001b[49m\u001b[43mtrial\u001b[49m\u001b[38;5;241;43m=\u001b[39;49m\u001b[43mtrial\u001b[49m\u001b[43m,\u001b[49m\n\u001b[1;32m   2126\u001b[0m \u001b[43m        \u001b[49m\u001b[43mignore_keys_for_eval\u001b[49m\u001b[38;5;241;43m=\u001b[39;49m\u001b[43mignore_keys_for_eval\u001b[49m\u001b[43m,\u001b[49m\n\u001b[1;32m   2127\u001b[0m \u001b[43m    \u001b[49m\u001b[43m)\u001b[49m\n",
            "File \u001b[0;32m~/ksh/level2-nlp-datacentric-nlp-08/.venv_sh/lib/python3.10/site-packages/transformers/trainer.py:2479\u001b[0m, in \u001b[0;36mTrainer._inner_training_loop\u001b[0;34m(self, batch_size, args, resume_from_checkpoint, trial, ignore_keys_for_eval)\u001b[0m\n\u001b[1;32m   2473\u001b[0m \u001b[38;5;28;01mwith\u001b[39;00m \u001b[38;5;28mself\u001b[39m\u001b[38;5;241m.\u001b[39maccelerator\u001b[38;5;241m.\u001b[39maccumulate(model):\n\u001b[1;32m   2474\u001b[0m     tr_loss_step \u001b[38;5;241m=\u001b[39m \u001b[38;5;28mself\u001b[39m\u001b[38;5;241m.\u001b[39mtraining_step(model, inputs, num_items_in_batch)\n\u001b[1;32m   2476\u001b[0m \u001b[38;5;28;01mif\u001b[39;00m (\n\u001b[1;32m   2477\u001b[0m     args\u001b[38;5;241m.\u001b[39mlogging_nan_inf_filter\n\u001b[1;32m   2478\u001b[0m     \u001b[38;5;129;01mand\u001b[39;00m \u001b[38;5;129;01mnot\u001b[39;00m is_torch_xla_available()\n\u001b[0;32m-> 2479\u001b[0m     \u001b[38;5;129;01mand\u001b[39;00m (torch\u001b[38;5;241m.\u001b[39misnan(tr_loss_step) \u001b[38;5;129;01mor\u001b[39;00m \u001b[43mtorch\u001b[49m\u001b[38;5;241;43m.\u001b[39;49m\u001b[43misinf\u001b[49m\u001b[43m(\u001b[49m\u001b[43mtr_loss_step\u001b[49m\u001b[43m)\u001b[49m)\n\u001b[1;32m   2480\u001b[0m ):\n\u001b[1;32m   2481\u001b[0m     \u001b[38;5;66;03m# if loss is nan or inf simply add the average of previous logged losses\u001b[39;00m\n\u001b[1;32m   2482\u001b[0m     tr_loss \u001b[38;5;241m=\u001b[39m tr_loss \u001b[38;5;241m+\u001b[39m tr_loss \u001b[38;5;241m/\u001b[39m (\u001b[38;5;241m1\u001b[39m \u001b[38;5;241m+\u001b[39m \u001b[38;5;28mself\u001b[39m\u001b[38;5;241m.\u001b[39mstate\u001b[38;5;241m.\u001b[39mglobal_step \u001b[38;5;241m-\u001b[39m \u001b[38;5;28mself\u001b[39m\u001b[38;5;241m.\u001b[39m_globalstep_last_logged)\n\u001b[1;32m   2483\u001b[0m \u001b[38;5;28;01melse\u001b[39;00m:\n",
            "\u001b[0;31mKeyboardInterrupt\u001b[0m: "
          ]
        }
      ],
      "source": [
        "trainer.train()"
      ]
    },
    {
      "cell_type": "markdown",
      "metadata": {
        "id": "wBXeP6ynGJ0p"
      },
      "source": [
        "## Evaluate Model"
      ]
    },
    {
      "cell_type": "code",
      "execution_count": 58,
      "metadata": {
        "id": "eifEFgIOGJ0p"
      },
      "outputs": [],
      "source": [
        "dataset_test = pd.read_csv(os.path.join(DATA_DIR, 'test.csv'))"
      ]
    },
    {
      "cell_type": "code",
      "execution_count": 59,
      "metadata": {
        "id": "7vPFu9y1GJ0p"
      },
      "outputs": [
        {
          "name": "stderr",
          "output_type": "stream",
          "text": [
            "Evaluating: 100%|██████████| 30000/30000 [03:51<00:00, 129.64it/s]\n"
          ]
        }
      ],
      "source": [
        "model.eval()\n",
        "preds = []\n",
        "\n",
        "for idx, sample in tqdm(dataset_test.iterrows(), total=len(dataset_test), desc=\"Evaluating\"):\n",
        "    inputs = tokenizer(sample['text'], return_tensors=\"pt\").to(DEVICE)\n",
        "    with torch.no_grad():\n",
        "        logits = model(**inputs).logits\n",
        "        pred = torch.argmax(torch.nn.Softmax(dim=1)(logits), dim=1).cpu().numpy()\n",
        "        preds.extend(pred)"
      ]
    },
    {
      "cell_type": "code",
      "execution_count": 60,
      "metadata": {
        "id": "UO2hzsl-GJ0p"
      },
      "outputs": [],
      "source": [
        "dataset_test['target'] = preds\n",
        "dataset_test.to_csv(os.path.join(BASE_DIR, 'output.csv'), index=False)"
      ]
    },
    {
      "cell_type": "code",
      "execution_count": null,
      "metadata": {
        "id": "oO5h88_3GJ0q"
      },
      "outputs": [],
      "source": []
    }
  ],
  "metadata": {
    "accelerator": "GPU",
    "colab": {
      "gpuType": "T4",
      "provenance": []
    },
    "kernelspec": {
      "display_name": ".venv_sh",
      "language": "python",
      "name": "python3"
    },
    "language_info": {
      "codemirror_mode": {
        "name": "ipython",
        "version": 3
      },
      "file_extension": ".py",
      "mimetype": "text/x-python",
      "name": "python",
      "nbconvert_exporter": "python",
      "pygments_lexer": "ipython3",
      "version": "3.10.13"
    }
  },
  "nbformat": 4,
  "nbformat_minor": 0
}
