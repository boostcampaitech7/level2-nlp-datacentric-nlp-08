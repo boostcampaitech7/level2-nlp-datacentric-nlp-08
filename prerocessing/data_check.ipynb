{
 "cells": [
  {
   "cell_type": "markdown",
   "metadata": {},
   "source": [
    "# 레이블 명칭 추가 및 데이터 인코딩 변경\n",
    "- 인코딩된 레이블 디코딩\n",
    "- 윈도우에서 한글이 깨지지 않도록 변경"
   ]
  },
  {
   "cell_type": "code",
   "execution_count": 1,
   "metadata": {},
   "outputs": [],
   "source": [
    "import pandas as pd"
   ]
  },
  {
   "cell_type": "code",
   "execution_count": 2,
   "metadata": {},
   "outputs": [
    {
     "ename": "FileNotFoundError",
     "evalue": "[Errno 2] No such file or directory: './resources/raw_data/train.csv'",
     "output_type": "error",
     "traceback": [
      "\u001b[0;31m---------------------------------------------------------------------------\u001b[0m",
      "\u001b[0;31mFileNotFoundError\u001b[0m                         Traceback (most recent call last)",
      "Cell \u001b[0;32mIn[2], line 1\u001b[0m\n\u001b[0;32m----> 1\u001b[0m df \u001b[38;5;241m=\u001b[39m \u001b[43mpd\u001b[49m\u001b[38;5;241;43m.\u001b[39;49m\u001b[43mread_csv\u001b[49m\u001b[43m(\u001b[49m\u001b[38;5;124;43m\"\u001b[39;49m\u001b[38;5;124;43m./resources/raw_data/train.csv\u001b[39;49m\u001b[38;5;124;43m\"\u001b[39;49m\u001b[43m,\u001b[49m\u001b[43m \u001b[49m\u001b[43mindex_col\u001b[49m\u001b[38;5;241;43m=\u001b[39;49m\u001b[38;5;241;43m0\u001b[39;49m\u001b[43m)\u001b[49m\n",
      "File \u001b[0;32m~/ksh/level2-nlp-datacentric-nlp-08/.venv_sh/lib/python3.10/site-packages/pandas/io/parsers/readers.py:1026\u001b[0m, in \u001b[0;36mread_csv\u001b[0;34m(filepath_or_buffer, sep, delimiter, header, names, index_col, usecols, dtype, engine, converters, true_values, false_values, skipinitialspace, skiprows, skipfooter, nrows, na_values, keep_default_na, na_filter, verbose, skip_blank_lines, parse_dates, infer_datetime_format, keep_date_col, date_parser, date_format, dayfirst, cache_dates, iterator, chunksize, compression, thousands, decimal, lineterminator, quotechar, quoting, doublequote, escapechar, comment, encoding, encoding_errors, dialect, on_bad_lines, delim_whitespace, low_memory, memory_map, float_precision, storage_options, dtype_backend)\u001b[0m\n\u001b[1;32m   1013\u001b[0m kwds_defaults \u001b[38;5;241m=\u001b[39m _refine_defaults_read(\n\u001b[1;32m   1014\u001b[0m     dialect,\n\u001b[1;32m   1015\u001b[0m     delimiter,\n\u001b[0;32m   (...)\u001b[0m\n\u001b[1;32m   1022\u001b[0m     dtype_backend\u001b[38;5;241m=\u001b[39mdtype_backend,\n\u001b[1;32m   1023\u001b[0m )\n\u001b[1;32m   1024\u001b[0m kwds\u001b[38;5;241m.\u001b[39mupdate(kwds_defaults)\n\u001b[0;32m-> 1026\u001b[0m \u001b[38;5;28;01mreturn\u001b[39;00m \u001b[43m_read\u001b[49m\u001b[43m(\u001b[49m\u001b[43mfilepath_or_buffer\u001b[49m\u001b[43m,\u001b[49m\u001b[43m \u001b[49m\u001b[43mkwds\u001b[49m\u001b[43m)\u001b[49m\n",
      "File \u001b[0;32m~/ksh/level2-nlp-datacentric-nlp-08/.venv_sh/lib/python3.10/site-packages/pandas/io/parsers/readers.py:620\u001b[0m, in \u001b[0;36m_read\u001b[0;34m(filepath_or_buffer, kwds)\u001b[0m\n\u001b[1;32m    617\u001b[0m _validate_names(kwds\u001b[38;5;241m.\u001b[39mget(\u001b[38;5;124m\"\u001b[39m\u001b[38;5;124mnames\u001b[39m\u001b[38;5;124m\"\u001b[39m, \u001b[38;5;28;01mNone\u001b[39;00m))\n\u001b[1;32m    619\u001b[0m \u001b[38;5;66;03m# Create the parser.\u001b[39;00m\n\u001b[0;32m--> 620\u001b[0m parser \u001b[38;5;241m=\u001b[39m \u001b[43mTextFileReader\u001b[49m\u001b[43m(\u001b[49m\u001b[43mfilepath_or_buffer\u001b[49m\u001b[43m,\u001b[49m\u001b[43m \u001b[49m\u001b[38;5;241;43m*\u001b[39;49m\u001b[38;5;241;43m*\u001b[39;49m\u001b[43mkwds\u001b[49m\u001b[43m)\u001b[49m\n\u001b[1;32m    622\u001b[0m \u001b[38;5;28;01mif\u001b[39;00m chunksize \u001b[38;5;129;01mor\u001b[39;00m iterator:\n\u001b[1;32m    623\u001b[0m     \u001b[38;5;28;01mreturn\u001b[39;00m parser\n",
      "File \u001b[0;32m~/ksh/level2-nlp-datacentric-nlp-08/.venv_sh/lib/python3.10/site-packages/pandas/io/parsers/readers.py:1620\u001b[0m, in \u001b[0;36mTextFileReader.__init__\u001b[0;34m(self, f, engine, **kwds)\u001b[0m\n\u001b[1;32m   1617\u001b[0m     \u001b[38;5;28mself\u001b[39m\u001b[38;5;241m.\u001b[39moptions[\u001b[38;5;124m\"\u001b[39m\u001b[38;5;124mhas_index_names\u001b[39m\u001b[38;5;124m\"\u001b[39m] \u001b[38;5;241m=\u001b[39m kwds[\u001b[38;5;124m\"\u001b[39m\u001b[38;5;124mhas_index_names\u001b[39m\u001b[38;5;124m\"\u001b[39m]\n\u001b[1;32m   1619\u001b[0m \u001b[38;5;28mself\u001b[39m\u001b[38;5;241m.\u001b[39mhandles: IOHandles \u001b[38;5;241m|\u001b[39m \u001b[38;5;28;01mNone\u001b[39;00m \u001b[38;5;241m=\u001b[39m \u001b[38;5;28;01mNone\u001b[39;00m\n\u001b[0;32m-> 1620\u001b[0m \u001b[38;5;28mself\u001b[39m\u001b[38;5;241m.\u001b[39m_engine \u001b[38;5;241m=\u001b[39m \u001b[38;5;28;43mself\u001b[39;49m\u001b[38;5;241;43m.\u001b[39;49m\u001b[43m_make_engine\u001b[49m\u001b[43m(\u001b[49m\u001b[43mf\u001b[49m\u001b[43m,\u001b[49m\u001b[43m \u001b[49m\u001b[38;5;28;43mself\u001b[39;49m\u001b[38;5;241;43m.\u001b[39;49m\u001b[43mengine\u001b[49m\u001b[43m)\u001b[49m\n",
      "File \u001b[0;32m~/ksh/level2-nlp-datacentric-nlp-08/.venv_sh/lib/python3.10/site-packages/pandas/io/parsers/readers.py:1880\u001b[0m, in \u001b[0;36mTextFileReader._make_engine\u001b[0;34m(self, f, engine)\u001b[0m\n\u001b[1;32m   1878\u001b[0m     \u001b[38;5;28;01mif\u001b[39;00m \u001b[38;5;124m\"\u001b[39m\u001b[38;5;124mb\u001b[39m\u001b[38;5;124m\"\u001b[39m \u001b[38;5;129;01mnot\u001b[39;00m \u001b[38;5;129;01min\u001b[39;00m mode:\n\u001b[1;32m   1879\u001b[0m         mode \u001b[38;5;241m+\u001b[39m\u001b[38;5;241m=\u001b[39m \u001b[38;5;124m\"\u001b[39m\u001b[38;5;124mb\u001b[39m\u001b[38;5;124m\"\u001b[39m\n\u001b[0;32m-> 1880\u001b[0m \u001b[38;5;28mself\u001b[39m\u001b[38;5;241m.\u001b[39mhandles \u001b[38;5;241m=\u001b[39m \u001b[43mget_handle\u001b[49m\u001b[43m(\u001b[49m\n\u001b[1;32m   1881\u001b[0m \u001b[43m    \u001b[49m\u001b[43mf\u001b[49m\u001b[43m,\u001b[49m\n\u001b[1;32m   1882\u001b[0m \u001b[43m    \u001b[49m\u001b[43mmode\u001b[49m\u001b[43m,\u001b[49m\n\u001b[1;32m   1883\u001b[0m \u001b[43m    \u001b[49m\u001b[43mencoding\u001b[49m\u001b[38;5;241;43m=\u001b[39;49m\u001b[38;5;28;43mself\u001b[39;49m\u001b[38;5;241;43m.\u001b[39;49m\u001b[43moptions\u001b[49m\u001b[38;5;241;43m.\u001b[39;49m\u001b[43mget\u001b[49m\u001b[43m(\u001b[49m\u001b[38;5;124;43m\"\u001b[39;49m\u001b[38;5;124;43mencoding\u001b[39;49m\u001b[38;5;124;43m\"\u001b[39;49m\u001b[43m,\u001b[49m\u001b[43m \u001b[49m\u001b[38;5;28;43;01mNone\u001b[39;49;00m\u001b[43m)\u001b[49m\u001b[43m,\u001b[49m\n\u001b[1;32m   1884\u001b[0m \u001b[43m    \u001b[49m\u001b[43mcompression\u001b[49m\u001b[38;5;241;43m=\u001b[39;49m\u001b[38;5;28;43mself\u001b[39;49m\u001b[38;5;241;43m.\u001b[39;49m\u001b[43moptions\u001b[49m\u001b[38;5;241;43m.\u001b[39;49m\u001b[43mget\u001b[49m\u001b[43m(\u001b[49m\u001b[38;5;124;43m\"\u001b[39;49m\u001b[38;5;124;43mcompression\u001b[39;49m\u001b[38;5;124;43m\"\u001b[39;49m\u001b[43m,\u001b[49m\u001b[43m \u001b[49m\u001b[38;5;28;43;01mNone\u001b[39;49;00m\u001b[43m)\u001b[49m\u001b[43m,\u001b[49m\n\u001b[1;32m   1885\u001b[0m \u001b[43m    \u001b[49m\u001b[43mmemory_map\u001b[49m\u001b[38;5;241;43m=\u001b[39;49m\u001b[38;5;28;43mself\u001b[39;49m\u001b[38;5;241;43m.\u001b[39;49m\u001b[43moptions\u001b[49m\u001b[38;5;241;43m.\u001b[39;49m\u001b[43mget\u001b[49m\u001b[43m(\u001b[49m\u001b[38;5;124;43m\"\u001b[39;49m\u001b[38;5;124;43mmemory_map\u001b[39;49m\u001b[38;5;124;43m\"\u001b[39;49m\u001b[43m,\u001b[49m\u001b[43m \u001b[49m\u001b[38;5;28;43;01mFalse\u001b[39;49;00m\u001b[43m)\u001b[49m\u001b[43m,\u001b[49m\n\u001b[1;32m   1886\u001b[0m \u001b[43m    \u001b[49m\u001b[43mis_text\u001b[49m\u001b[38;5;241;43m=\u001b[39;49m\u001b[43mis_text\u001b[49m\u001b[43m,\u001b[49m\n\u001b[1;32m   1887\u001b[0m \u001b[43m    \u001b[49m\u001b[43merrors\u001b[49m\u001b[38;5;241;43m=\u001b[39;49m\u001b[38;5;28;43mself\u001b[39;49m\u001b[38;5;241;43m.\u001b[39;49m\u001b[43moptions\u001b[49m\u001b[38;5;241;43m.\u001b[39;49m\u001b[43mget\u001b[49m\u001b[43m(\u001b[49m\u001b[38;5;124;43m\"\u001b[39;49m\u001b[38;5;124;43mencoding_errors\u001b[39;49m\u001b[38;5;124;43m\"\u001b[39;49m\u001b[43m,\u001b[49m\u001b[43m \u001b[49m\u001b[38;5;124;43m\"\u001b[39;49m\u001b[38;5;124;43mstrict\u001b[39;49m\u001b[38;5;124;43m\"\u001b[39;49m\u001b[43m)\u001b[49m\u001b[43m,\u001b[49m\n\u001b[1;32m   1888\u001b[0m \u001b[43m    \u001b[49m\u001b[43mstorage_options\u001b[49m\u001b[38;5;241;43m=\u001b[39;49m\u001b[38;5;28;43mself\u001b[39;49m\u001b[38;5;241;43m.\u001b[39;49m\u001b[43moptions\u001b[49m\u001b[38;5;241;43m.\u001b[39;49m\u001b[43mget\u001b[49m\u001b[43m(\u001b[49m\u001b[38;5;124;43m\"\u001b[39;49m\u001b[38;5;124;43mstorage_options\u001b[39;49m\u001b[38;5;124;43m\"\u001b[39;49m\u001b[43m,\u001b[49m\u001b[43m \u001b[49m\u001b[38;5;28;43;01mNone\u001b[39;49;00m\u001b[43m)\u001b[49m\u001b[43m,\u001b[49m\n\u001b[1;32m   1889\u001b[0m \u001b[43m\u001b[49m\u001b[43m)\u001b[49m\n\u001b[1;32m   1890\u001b[0m \u001b[38;5;28;01massert\u001b[39;00m \u001b[38;5;28mself\u001b[39m\u001b[38;5;241m.\u001b[39mhandles \u001b[38;5;129;01mis\u001b[39;00m \u001b[38;5;129;01mnot\u001b[39;00m \u001b[38;5;28;01mNone\u001b[39;00m\n\u001b[1;32m   1891\u001b[0m f \u001b[38;5;241m=\u001b[39m \u001b[38;5;28mself\u001b[39m\u001b[38;5;241m.\u001b[39mhandles\u001b[38;5;241m.\u001b[39mhandle\n",
      "File \u001b[0;32m~/ksh/level2-nlp-datacentric-nlp-08/.venv_sh/lib/python3.10/site-packages/pandas/io/common.py:873\u001b[0m, in \u001b[0;36mget_handle\u001b[0;34m(path_or_buf, mode, encoding, compression, memory_map, is_text, errors, storage_options)\u001b[0m\n\u001b[1;32m    868\u001b[0m \u001b[38;5;28;01melif\u001b[39;00m \u001b[38;5;28misinstance\u001b[39m(handle, \u001b[38;5;28mstr\u001b[39m):\n\u001b[1;32m    869\u001b[0m     \u001b[38;5;66;03m# Check whether the filename is to be opened in binary mode.\u001b[39;00m\n\u001b[1;32m    870\u001b[0m     \u001b[38;5;66;03m# Binary mode does not support 'encoding' and 'newline'.\u001b[39;00m\n\u001b[1;32m    871\u001b[0m     \u001b[38;5;28;01mif\u001b[39;00m ioargs\u001b[38;5;241m.\u001b[39mencoding \u001b[38;5;129;01mand\u001b[39;00m \u001b[38;5;124m\"\u001b[39m\u001b[38;5;124mb\u001b[39m\u001b[38;5;124m\"\u001b[39m \u001b[38;5;129;01mnot\u001b[39;00m \u001b[38;5;129;01min\u001b[39;00m ioargs\u001b[38;5;241m.\u001b[39mmode:\n\u001b[1;32m    872\u001b[0m         \u001b[38;5;66;03m# Encoding\u001b[39;00m\n\u001b[0;32m--> 873\u001b[0m         handle \u001b[38;5;241m=\u001b[39m \u001b[38;5;28;43mopen\u001b[39;49m\u001b[43m(\u001b[49m\n\u001b[1;32m    874\u001b[0m \u001b[43m            \u001b[49m\u001b[43mhandle\u001b[49m\u001b[43m,\u001b[49m\n\u001b[1;32m    875\u001b[0m \u001b[43m            \u001b[49m\u001b[43mioargs\u001b[49m\u001b[38;5;241;43m.\u001b[39;49m\u001b[43mmode\u001b[49m\u001b[43m,\u001b[49m\n\u001b[1;32m    876\u001b[0m \u001b[43m            \u001b[49m\u001b[43mencoding\u001b[49m\u001b[38;5;241;43m=\u001b[39;49m\u001b[43mioargs\u001b[49m\u001b[38;5;241;43m.\u001b[39;49m\u001b[43mencoding\u001b[49m\u001b[43m,\u001b[49m\n\u001b[1;32m    877\u001b[0m \u001b[43m            \u001b[49m\u001b[43merrors\u001b[49m\u001b[38;5;241;43m=\u001b[39;49m\u001b[43merrors\u001b[49m\u001b[43m,\u001b[49m\n\u001b[1;32m    878\u001b[0m \u001b[43m            \u001b[49m\u001b[43mnewline\u001b[49m\u001b[38;5;241;43m=\u001b[39;49m\u001b[38;5;124;43m\"\u001b[39;49m\u001b[38;5;124;43m\"\u001b[39;49m\u001b[43m,\u001b[49m\n\u001b[1;32m    879\u001b[0m \u001b[43m        \u001b[49m\u001b[43m)\u001b[49m\n\u001b[1;32m    880\u001b[0m     \u001b[38;5;28;01melse\u001b[39;00m:\n\u001b[1;32m    881\u001b[0m         \u001b[38;5;66;03m# Binary mode\u001b[39;00m\n\u001b[1;32m    882\u001b[0m         handle \u001b[38;5;241m=\u001b[39m \u001b[38;5;28mopen\u001b[39m(handle, ioargs\u001b[38;5;241m.\u001b[39mmode)\n",
      "\u001b[0;31mFileNotFoundError\u001b[0m: [Errno 2] No such file or directory: './resources/raw_data/train.csv'"
     ]
    }
   ],
   "source": [
    "df = pd.read_csv(\"./resources/raw_data/train.csv\", index_col=0)"
   ]
  },
  {
   "cell_type": "code",
   "execution_count": 3,
   "metadata": {},
   "outputs": [
    {
     "data": {
      "text/html": [
       "<div>\n",
       "<style scoped>\n",
       "    .dataframe tbody tr th:only-of-type {\n",
       "        vertical-align: middle;\n",
       "    }\n",
       "\n",
       "    .dataframe tbody tr th {\n",
       "        vertical-align: top;\n",
       "    }\n",
       "\n",
       "    .dataframe thead th {\n",
       "        text-align: right;\n",
       "    }\n",
       "</style>\n",
       "<table border=\"1\" class=\"dataframe\">\n",
       "  <thead>\n",
       "    <tr style=\"text-align: right;\">\n",
       "      <th></th>\n",
       "      <th>text</th>\n",
       "      <th>target</th>\n",
       "      <th>target_name</th>\n",
       "    </tr>\n",
       "    <tr>\n",
       "      <th>ID</th>\n",
       "      <th></th>\n",
       "      <th></th>\n",
       "      <th></th>\n",
       "    </tr>\n",
       "  </thead>\n",
       "  <tbody>\n",
       "    <tr>\n",
       "      <th>ynat-v1_train_00000</th>\n",
       "      <td>정i :파1 미사z KT( 이용기간 2e 단] Q분종U2보</td>\n",
       "      <td>4</td>\n",
       "      <td>IT과학</td>\n",
       "    </tr>\n",
       "    <tr>\n",
       "      <th>ynat-v1_train_00001</th>\n",
       "      <td>K찰.국DLwo 로L3한N% 회장 2 T0&amp;}송=</td>\n",
       "      <td>3</td>\n",
       "      <td>사회</td>\n",
       "    </tr>\n",
       "    <tr>\n",
       "      <th>ynat-v1_train_00002</th>\n",
       "      <td>m 김정) 자주통일 새,?r열1나가야1보</td>\n",
       "      <td>2</td>\n",
       "      <td>정치</td>\n",
       "    </tr>\n",
       "    <tr>\n",
       "      <th>ynat-v1_train_00003</th>\n",
       "      <td>갤노트8 주말 27만대 개통…시장은 불법 보조금 얼룩</td>\n",
       "      <td>5</td>\n",
       "      <td>경제</td>\n",
       "    </tr>\n",
       "    <tr>\n",
       "      <th>ynat-v1_train_00004</th>\n",
       "      <td>pI美대선I앞두고 R2fr단 발] $비해 감시 강화</td>\n",
       "      <td>6</td>\n",
       "      <td>세계</td>\n",
       "    </tr>\n",
       "    <tr>\n",
       "      <th>...</th>\n",
       "      <td>...</td>\n",
       "      <td>...</td>\n",
       "      <td>...</td>\n",
       "    </tr>\n",
       "    <tr>\n",
       "      <th>ynat-v1_train_02795</th>\n",
       "      <td>트럼프 폭스뉴스 앵커들 충성도 점수매겨…10점만점에 12점도</td>\n",
       "      <td>6</td>\n",
       "      <td>세계</td>\n",
       "    </tr>\n",
       "    <tr>\n",
       "      <th>ynat-v1_train_02796</th>\n",
       "      <td>삼성 갤럭시S9 정식 출시 첫 주말 이통시장 잠잠</td>\n",
       "      <td>2</td>\n",
       "      <td>정치</td>\n",
       "    </tr>\n",
       "    <tr>\n",
       "      <th>ynat-v1_train_02797</th>\n",
       "      <td>텔레그램+한D 등h亞서 2시간H다운…C버T정gf39종!2보</td>\n",
       "      <td>4</td>\n",
       "      <td>IT과학</td>\n",
       "    </tr>\n",
       "    <tr>\n",
       "      <th>ynat-v1_train_02798</th>\n",
       "      <td>인터뷰 류현진 친구에게 안타 맞는 것 싫어해…승부는 냉정</td>\n",
       "      <td>1</td>\n",
       "      <td>스포츠</td>\n",
       "    </tr>\n",
       "    <tr>\n",
       "      <th>ynat-v1_train_02799</th>\n",
       "      <td>지능정보사회 대비 국가 종합대책 마련</td>\n",
       "      <td>4</td>\n",
       "      <td>IT과학</td>\n",
       "    </tr>\n",
       "  </tbody>\n",
       "</table>\n",
       "<p>2800 rows × 3 columns</p>\n",
       "</div>"
      ],
      "text/plain": [
       "                                                  text  target target_name\n",
       "ID                                                                        \n",
       "ynat-v1_train_00000   정i :파1 미사z KT( 이용기간 2e 단] Q분종U2보       4        IT과학\n",
       "ynat-v1_train_00001        K찰.국DLwo 로L3한N% 회장 2 T0&}송=       3          사회\n",
       "ynat-v1_train_00002             m 김정) 자주통일 새,?r열1나가야1보       2          정치\n",
       "ynat-v1_train_00003      갤노트8 주말 27만대 개통…시장은 불법 보조금 얼룩       5          경제\n",
       "ynat-v1_train_00004       pI美대선I앞두고 R2fr단 발] $비해 감시 강화       6          세계\n",
       "...                                                ...     ...         ...\n",
       "ynat-v1_train_02795  트럼프 폭스뉴스 앵커들 충성도 점수매겨…10점만점에 12점도       6          세계\n",
       "ynat-v1_train_02796        삼성 갤럭시S9 정식 출시 첫 주말 이통시장 잠잠       2          정치\n",
       "ynat-v1_train_02797   텔레그램+한D 등h亞서 2시간H다운…C버T정gf39종!2보       4        IT과학\n",
       "ynat-v1_train_02798    인터뷰 류현진 친구에게 안타 맞는 것 싫어해…승부는 냉정       1         스포츠\n",
       "ynat-v1_train_02799               지능정보사회 대비 국가 종합대책 마련       4        IT과학\n",
       "\n",
       "[2800 rows x 3 columns]"
      ]
     },
     "execution_count": 3,
     "metadata": {},
     "output_type": "execute_result"
    }
   ],
   "source": [
    "df"
   ]
  },
  {
   "cell_type": "code",
   "execution_count": 13,
   "metadata": {},
   "outputs": [],
   "source": [
    "# label_dic = {0:\"정치\", 1:\"경제\", 2:\"사회\", 3:\"생활문화\", 4:\"세계\", 5:\"IT과학\", 6:\"스포츠\"}\n",
    "label_encodeing_dic = {'생활문화': 0, '스포츠': 1, '정치': 2, '사회': 3, 'IT과학': 4, '경제': 5, '세계': 6}\n",
    "label_decoding_dic = {v:k for k, v in label_encodeing_dic.items()}"
   ]
  },
  {
   "cell_type": "code",
   "execution_count": 14,
   "metadata": {},
   "outputs": [],
   "source": [
    "df['target_name'] = [label_decoding_dic[x] for x in df['target']]"
   ]
  },
  {
   "cell_type": "code",
   "execution_count": 15,
   "metadata": {},
   "outputs": [],
   "source": [
    "df.to_csv(\"./resources/raw_data/train.csv\", encoding='utf-8-sig', index=0)"
   ]
  },
  {
   "cell_type": "code",
   "execution_count": 16,
   "metadata": {},
   "outputs": [
    {
     "data": {
      "text/html": [
       "<div>\n",
       "<style scoped>\n",
       "    .dataframe tbody tr th:only-of-type {\n",
       "        vertical-align: middle;\n",
       "    }\n",
       "\n",
       "    .dataframe tbody tr th {\n",
       "        vertical-align: top;\n",
       "    }\n",
       "\n",
       "    .dataframe thead th {\n",
       "        text-align: right;\n",
       "    }\n",
       "</style>\n",
       "<table border=\"1\" class=\"dataframe\">\n",
       "  <thead>\n",
       "    <tr style=\"text-align: right;\">\n",
       "      <th></th>\n",
       "      <th>ID</th>\n",
       "      <th>text</th>\n",
       "      <th>target</th>\n",
       "      <th>target_name</th>\n",
       "    </tr>\n",
       "  </thead>\n",
       "  <tbody>\n",
       "    <tr>\n",
       "      <th>0</th>\n",
       "      <td>ynat-v1_train_00000</td>\n",
       "      <td>정i :파1 미사z KT( 이용기간 2e 단] Q분종U2보</td>\n",
       "      <td>4</td>\n",
       "      <td>IT과학</td>\n",
       "    </tr>\n",
       "    <tr>\n",
       "      <th>1</th>\n",
       "      <td>ynat-v1_train_00001</td>\n",
       "      <td>K찰.국DLwo 로L3한N% 회장 2 T0&amp;}송=</td>\n",
       "      <td>3</td>\n",
       "      <td>사회</td>\n",
       "    </tr>\n",
       "    <tr>\n",
       "      <th>2</th>\n",
       "      <td>ynat-v1_train_00002</td>\n",
       "      <td>m 김정) 자주통일 새,?r열1나가야1보</td>\n",
       "      <td>2</td>\n",
       "      <td>정치</td>\n",
       "    </tr>\n",
       "    <tr>\n",
       "      <th>3</th>\n",
       "      <td>ynat-v1_train_00003</td>\n",
       "      <td>갤노트8 주말 27만대 개통…시장은 불법 보조금 얼룩</td>\n",
       "      <td>5</td>\n",
       "      <td>경제</td>\n",
       "    </tr>\n",
       "    <tr>\n",
       "      <th>4</th>\n",
       "      <td>ynat-v1_train_00004</td>\n",
       "      <td>pI美대선I앞두고 R2fr단 발] $비해 감시 강화</td>\n",
       "      <td>6</td>\n",
       "      <td>세계</td>\n",
       "    </tr>\n",
       "    <tr>\n",
       "      <th>...</th>\n",
       "      <td>...</td>\n",
       "      <td>...</td>\n",
       "      <td>...</td>\n",
       "      <td>...</td>\n",
       "    </tr>\n",
       "    <tr>\n",
       "      <th>2795</th>\n",
       "      <td>ynat-v1_train_02795</td>\n",
       "      <td>트럼프 폭스뉴스 앵커들 충성도 점수매겨…10점만점에 12점도</td>\n",
       "      <td>6</td>\n",
       "      <td>세계</td>\n",
       "    </tr>\n",
       "    <tr>\n",
       "      <th>2796</th>\n",
       "      <td>ynat-v1_train_02796</td>\n",
       "      <td>삼성 갤럭시S9 정식 출시 첫 주말 이통시장 잠잠</td>\n",
       "      <td>2</td>\n",
       "      <td>정치</td>\n",
       "    </tr>\n",
       "    <tr>\n",
       "      <th>2797</th>\n",
       "      <td>ynat-v1_train_02797</td>\n",
       "      <td>텔레그램+한D 등h亞서 2시간H다운…C버T정gf39종!2보</td>\n",
       "      <td>4</td>\n",
       "      <td>IT과학</td>\n",
       "    </tr>\n",
       "    <tr>\n",
       "      <th>2798</th>\n",
       "      <td>ynat-v1_train_02798</td>\n",
       "      <td>인터뷰 류현진 친구에게 안타 맞는 것 싫어해…승부는 냉정</td>\n",
       "      <td>1</td>\n",
       "      <td>스포츠</td>\n",
       "    </tr>\n",
       "    <tr>\n",
       "      <th>2799</th>\n",
       "      <td>ynat-v1_train_02799</td>\n",
       "      <td>지능정보사회 대비 국가 종합대책 마련</td>\n",
       "      <td>4</td>\n",
       "      <td>IT과학</td>\n",
       "    </tr>\n",
       "  </tbody>\n",
       "</table>\n",
       "<p>2800 rows × 4 columns</p>\n",
       "</div>"
      ],
      "text/plain": [
       "                       ID                               text  target  \\\n",
       "0     ynat-v1_train_00000   정i :파1 미사z KT( 이용기간 2e 단] Q분종U2보       4   \n",
       "1     ynat-v1_train_00001        K찰.국DLwo 로L3한N% 회장 2 T0&}송=       3   \n",
       "2     ynat-v1_train_00002             m 김정) 자주통일 새,?r열1나가야1보       2   \n",
       "3     ynat-v1_train_00003      갤노트8 주말 27만대 개통…시장은 불법 보조금 얼룩       5   \n",
       "4     ynat-v1_train_00004       pI美대선I앞두고 R2fr단 발] $비해 감시 강화       6   \n",
       "...                   ...                                ...     ...   \n",
       "2795  ynat-v1_train_02795  트럼프 폭스뉴스 앵커들 충성도 점수매겨…10점만점에 12점도       6   \n",
       "2796  ynat-v1_train_02796        삼성 갤럭시S9 정식 출시 첫 주말 이통시장 잠잠       2   \n",
       "2797  ynat-v1_train_02797   텔레그램+한D 등h亞서 2시간H다운…C버T정gf39종!2보       4   \n",
       "2798  ynat-v1_train_02798    인터뷰 류현진 친구에게 안타 맞는 것 싫어해…승부는 냉정       1   \n",
       "2799  ynat-v1_train_02799               지능정보사회 대비 국가 종합대책 마련       4   \n",
       "\n",
       "     target_name  \n",
       "0           IT과학  \n",
       "1             사회  \n",
       "2             정치  \n",
       "3             경제  \n",
       "4             세계  \n",
       "...          ...  \n",
       "2795          세계  \n",
       "2796          정치  \n",
       "2797        IT과학  \n",
       "2798         스포츠  \n",
       "2799        IT과학  \n",
       "\n",
       "[2800 rows x 4 columns]"
      ]
     },
     "execution_count": 16,
     "metadata": {},
     "output_type": "execute_result"
    }
   ],
   "source": [
    "df"
   ]
  },
  {
   "cell_type": "markdown",
   "metadata": {},
   "source": [
    "# 랜덤 노이즈 제거\n",
    "데이터는 (1) 레이블이 잘못되어 있는 경우 1,400, (2) 랜덤 노이즈가 있는 경우 1,400, (3) 정상 200 케이스로 분류 가능\n",
    "\n",
    "Cleanlab 이든 레이블이 잘못된 경우를 찾기 위해서는 정상 데이터의 비율을 늘려야함\n",
    "\n",
    "따라서, 랜덤 노이즈를 정상 케이스로 돌리는 작업이 먼저 필요"
   ]
  },
  {
   "cell_type": "markdown",
   "metadata": {},
   "source": [
    "## Translation to huggingface model\n",
    "- 랜덤 노이즈를 반영해서 잘 번역하지 못하는 것 같음.\n",
    "- 구글 Translation 같은 좀 더 강한한 모델 찾아야할 듯"
   ]
  },
  {
   "cell_type": "code",
   "execution_count": 13,
   "metadata": {},
   "outputs": [
    {
     "data": {
      "application/vnd.jupyter.widget-view+json": {
       "model_id": "c19a6019762a4f32a7e55bcf20dc8444",
       "version_major": 2,
       "version_minor": 0
      },
      "text/plain": [
       "config.json:   0%|          | 0.00/638 [00:00<?, ?B/s]"
      ]
     },
     "metadata": {},
     "output_type": "display_data"
    },
    {
     "data": {
      "application/vnd.jupyter.widget-view+json": {
       "model_id": "374ba84b584e41e18b11886bf6da6486",
       "version_major": 2,
       "version_minor": 0
      },
      "text/plain": [
       "model.safetensors.index.json:   0%|          | 0.00/23.9k [00:00<?, ?B/s]"
      ]
     },
     "metadata": {},
     "output_type": "display_data"
    },
    {
     "data": {
      "application/vnd.jupyter.widget-view+json": {
       "model_id": "2f6a648c982e469ca70a0ebf10568b26",
       "version_major": 2,
       "version_minor": 0
      },
      "text/plain": [
       "Downloading shards:   0%|          | 0/3 [00:00<?, ?it/s]"
      ]
     },
     "metadata": {},
     "output_type": "display_data"
    },
    {
     "data": {
      "application/vnd.jupyter.widget-view+json": {
       "model_id": "2440e7b27edd4df798d89b14227c0c38",
       "version_major": 2,
       "version_minor": 0
      },
      "text/plain": [
       "model-00001-of-00003.safetensors:   0%|          | 0.00/4.94G [00:00<?, ?B/s]"
      ]
     },
     "metadata": {},
     "output_type": "display_data"
    },
    {
     "data": {
      "application/vnd.jupyter.widget-view+json": {
       "model_id": "7a59f2cd67cc45dfb8ded9eb784d8d9b",
       "version_major": 2,
       "version_minor": 0
      },
      "text/plain": [
       "model-00002-of-00003.safetensors:   0%|          | 0.00/5.00G [00:00<?, ?B/s]"
      ]
     },
     "metadata": {},
     "output_type": "display_data"
    },
    {
     "data": {
      "application/vnd.jupyter.widget-view+json": {
       "model_id": "b4e2fbde175645d789b2229307fb6f06",
       "version_major": 2,
       "version_minor": 0
      },
      "text/plain": [
       "model-00003-of-00003.safetensors:   0%|          | 0.00/4.54G [00:00<?, ?B/s]"
      ]
     },
     "metadata": {},
     "output_type": "display_data"
    },
    {
     "data": {
      "application/vnd.jupyter.widget-view+json": {
       "model_id": "66cbc0b8556e46f394cad54b173d2c3c",
       "version_major": 2,
       "version_minor": 0
      },
      "text/plain": [
       "Loading checkpoint shards:   0%|          | 0/3 [00:00<?, ?it/s]"
      ]
     },
     "metadata": {},
     "output_type": "display_data"
    },
    {
     "data": {
      "application/vnd.jupyter.widget-view+json": {
       "model_id": "6bf395d2412b4afc904d2514f12ba9c4",
       "version_major": 2,
       "version_minor": 0
      },
      "text/plain": [
       "generation_config.json:   0%|          | 0.00/111 [00:00<?, ?B/s]"
      ]
     },
     "metadata": {},
     "output_type": "display_data"
    },
    {
     "data": {
      "application/vnd.jupyter.widget-view+json": {
       "model_id": "6cfa0a17840542ac9e1d44cda6ce3c35",
       "version_major": 2,
       "version_minor": 0
      },
      "text/plain": [
       "tokenizer_config.json:   0%|          | 0.00/1.52k [00:00<?, ?B/s]"
      ]
     },
     "metadata": {},
     "output_type": "display_data"
    },
    {
     "data": {
      "application/vnd.jupyter.widget-view+json": {
       "model_id": "77b9c4e680b8487e9b7457fa3deddce9",
       "version_major": 2,
       "version_minor": 0
      },
      "text/plain": [
       "tokenizer.json:   0%|          | 0.00/1.80M [00:00<?, ?B/s]"
      ]
     },
     "metadata": {},
     "output_type": "display_data"
    },
    {
     "data": {
      "application/vnd.jupyter.widget-view+json": {
       "model_id": "2961b4073a0241158aa8c3cf3aeceaa0",
       "version_major": 2,
       "version_minor": 0
      },
      "text/plain": [
       "special_tokens_map.json:   0%|          | 0.00/414 [00:00<?, ?B/s]"
      ]
     },
     "metadata": {},
     "output_type": "display_data"
    }
   ],
   "source": [
    "from transformers import AutoModelForCausalLM, AutoTokenizer\n",
    "import torch\n",
    "\n",
    "repo = \"davidkim205/iris-7b\"\n",
    "model = AutoModelForCausalLM.from_pretrained(repo, torch_dtype=torch.bfloat16, device_map='auto')\n",
    "tokenizer = AutoTokenizer.from_pretrained(repo)"
   ]
  },
  {
   "cell_type": "code",
   "execution_count": 20,
   "metadata": {},
   "outputs": [],
   "source": [
    "df['token_len'] = [len(tokenizer(x)['input_ids']) for x in df['text']]"
   ]
  },
  {
   "cell_type": "code",
   "execution_count": 26,
   "metadata": {},
   "outputs": [
    {
     "data": {
      "text/plain": [
       "count    2800.000000\n",
       "mean       31.678214\n",
       "std         6.457354\n",
       "min         9.000000\n",
       "25%        28.000000\n",
       "50%        32.000000\n",
       "75%        36.000000\n",
       "max        53.000000\n",
       "Name: token_len, dtype: float64"
      ]
     },
     "execution_count": 26,
     "metadata": {},
     "output_type": "execute_result"
    }
   ],
   "source": [
    "# 아래 결과에 따라 max new token은 128로 설정\n",
    "df['token_len'].describe()"
   ]
  },
  {
   "cell_type": "code",
   "execution_count": 27,
   "metadata": {},
   "outputs": [],
   "source": [
    "def generate(prompt):\n",
    "    encoding = tokenizer(\n",
    "        prompt,\n",
    "        return_tensors='pt',\n",
    "        return_token_type_ids=False\n",
    "    ).to(\"cuda\")\n",
    "    gen_tokens = model.generate(\n",
    "        **encoding,\n",
    "        max_new_tokens=128,\n",
    "        temperature=1.0,\n",
    "        num_beams=5,\n",
    "    )\n",
    "    prompt_end_size = encoding.input_ids.shape[1]\n",
    "    result = tokenizer.decode(gen_tokens[0, prompt_end_size:])\n",
    "\n",
    "    return result\n",
    "\n",
    "\n",
    "def translate_ko2en(text):\n",
    "    prompt = f\"[INST] 다음 문장을 영어로 번역하세요.{text} [/INST]\"\n",
    "    return generate(prompt)\n",
    "\n",
    "\n",
    "def translate_en2ko(text):\n",
    "    prompt = f\"[INST] 다음 문장을 한글로 번역하세요.{text} [/INST]\"\n",
    "    return generate(prompt)"
   ]
  },
  {
   "cell_type": "code",
   "execution_count": 30,
   "metadata": {},
   "outputs": [
    {
     "name": "stderr",
     "output_type": "stream",
     "text": [
      "Setting `pad_token_id` to `eos_token_id`:None for open-end generation.\n"
     ]
    },
    {
     "name": "stdout",
     "output_type": "stream",
     "text": [
      "or_text  정i :파1 미사z KT( 이용기간 2e 단] Q분종U2보\n"
     ]
    },
    {
     "name": "stderr",
     "output_type": "stream",
     "text": [
      "Setting `pad_token_id` to `eos_token_id`:None for open-end generation.\n",
      "Setting `pad_token_id` to `eos_token_id`:None for open-end generation.\n"
     ]
    },
    {
     "name": "stdout",
     "output_type": "stream",
     "text": [
      "en_text JEONGI : FA1 MISSAZ KT (USE PERIOD 2E DAN) QDISTINCT U2BO</s>\n",
      "ko_text JEONGI : FA1 MISSAZ KT (USE PERIOD 2E DAN) QDISTINCT U2BO</s>\n",
      "or_text  K찰.국DLwo 로L3한N% 회장 2 T0&}송=\n"
     ]
    },
    {
     "name": "stderr",
     "output_type": "stream",
     "text": [
      "Setting `pad_token_id` to `eos_token_id`:None for open-end generation.\n",
      "Setting `pad_token_id` to `eos_token_id`:None for open-end generation.\n"
     ]
    },
    {
     "name": "stdout",
     "output_type": "stream",
     "text": [
      "en_text Chairman Kwak Dlwo Loh L3 Han N% 2 T0&} Song=</s>\n",
      "ko_text Kwak Dlwo Loh L3 Han N% 2 T0&} Song=</s>\n",
      "or_text  m 김정) 자주통일 새,?r열1나가야1보\n"
     ]
    },
    {
     "name": "stderr",
     "output_type": "stream",
     "text": [
      "Setting `pad_token_id` to `eos_token_id`:None for open-end generation.\n",
      "Setting `pad_token_id` to `eos_token_id`:None for open-end generation.\n"
     ]
    },
    {
     "name": "stdout",
     "output_type": "stream",
     "text": [
      "en_text (Kim Jeong) Jaju Tongil Sae,?ryeol 1nagaya 1bo</s>\n",
      "ko_text (김정) 자주통일새, 1나가야 1보</s>\n",
      "or_text  갤노트8 주말 27만대 개통…시장은 불법 보조금 얼룩\n"
     ]
    },
    {
     "name": "stderr",
     "output_type": "stream",
     "text": [
      "Setting `pad_token_id` to `eos_token_id`:None for open-end generation.\n",
      "Setting `pad_token_id` to `eos_token_id`:None for open-end generation.\n"
     ]
    },
    {
     "name": "stdout",
     "output_type": "stream",
     "text": [
      "en_text 270,000 Galaxy Note 8s opened on the weekend... The market is stained with illegal subsidies.</s>\n",
      "ko_text 주말에 270,000대의 갤럭시 노트 8이 열렸습니다... 불법 보조금으로 시장이 얼룩진 상태입니다.</s>\n",
      "or_text  pI美대선I앞두고 R2fr단 발] $비해 감시 강화\n"
     ]
    },
    {
     "name": "stderr",
     "output_type": "stream",
     "text": [
      "Setting `pad_token_id` to `eos_token_id`:None for open-end generation.\n",
      "Setting `pad_token_id` to `eos_token_id`:None for open-end generation.\n"
     ]
    },
    {
     "name": "stdout",
     "output_type": "stream",
     "text": [
      "en_text Before the 2022 FIFA World Cup, R2fr's foot $strengthened surveillance</s>\n",
      "ko_text 2022 FIFA 월드컵 이전에 R2fr의 발은 감시를 강화했습니다.</s>\n",
      "or_text  美성인 6명 중 1명꼴 배우자·연인 빚 떠안은 적 있다\n"
     ]
    },
    {
     "name": "stderr",
     "output_type": "stream",
     "text": [
      "Setting `pad_token_id` to `eos_token_id`:None for open-end generation.\n",
      "Setting `pad_token_id` to `eos_token_id`:None for open-end generation.\n"
     ]
    },
    {
     "name": "stdout",
     "output_type": "stream",
     "text": [
      "en_text One out of six American adults owes a debt to a spouse or lover.</s>\n",
      "ko_text 6명 중 1명의 미국 성인이 배우자나 연인에게 빚을 지고 있다.</s>\n",
      "or_text  프로야구~롯TKIAs광주 경기 y천취소\n"
     ]
    },
    {
     "name": "stderr",
     "output_type": "stream",
     "text": [
      "Setting `pad_token_id` to `eos_token_id`:None for open-end generation.\n",
      "Setting `pad_token_id` to `eos_token_id`:None for open-end generation.\n"
     ]
    },
    {
     "name": "stdout",
     "output_type": "stream",
     "text": [
      "en_text Professional baseball~LOTKIAs Gwangju game canceled</s>\n",
      "ko_text 프로야구~LOTKIAs 광주 경기 취소</s>\n",
      "or_text  아가메즈 33득점 우리카드 KB손해보험 완파…3위 굳...\n"
     ]
    },
    {
     "name": "stderr",
     "output_type": "stream",
     "text": [
      "Setting `pad_token_id` to `eos_token_id`:None for open-end generation.\n",
      "Setting `pad_token_id` to `eos_token_id`:None for open-end generation.\n"
     ]
    },
    {
     "name": "stdout",
     "output_type": "stream",
     "text": [
      "en_text Agamez 33 goals Our Card KB Insurance Overwhelming... 3rd place.</s>\n",
      "ko_text 아게임즈 33골 우리 카드 KB 보험 압도적... 3위.</s>\n",
      "or_text  朴대통령 얼마나 많이 놀라셨어요…경주 지진현장 방문종합\n"
     ]
    },
    {
     "name": "stderr",
     "output_type": "stream",
     "text": [
      "Setting `pad_token_id` to `eos_token_id`:None for open-end generation.\n",
      "Setting `pad_token_id` to `eos_token_id`:None for open-end generation.\n"
     ]
    },
    {
     "name": "stdout",
     "output_type": "stream",
     "text": [
      "en_text How much did President Bid surprise you...comprehensive visit to the Gyeongju earthquake site</s>\n",
      "ko_text 비드 대통령이 경주 지진 현장을 포괄적으로 방문한 것이 얼마나 놀라웠나요?</s>\n",
      "or_text  듀얼심 아이폰 하반기 출시설 솔솔…알뜰폰 기대감\n"
     ]
    },
    {
     "name": "stderr",
     "output_type": "stream",
     "text": [
      "Setting `pad_token_id` to `eos_token_id`:None for open-end generation.\n",
      "Setting `pad_token_id` to `eos_token_id`:None for open-end generation.\n"
     ]
    },
    {
     "name": "stdout",
     "output_type": "stream",
     "text": [
      "en_text I'm looking forward to the release of the dual-sim iPhone in the second half of the year...</s>\n",
      "ko_text 저는 올 하반기 듀얼 심 아이폰의 출시를 기대하고 있습니다...</s>\n",
      "or_text  oi 매력 R모h츠a열#w3약 >l·주가 고Q/진\n"
     ]
    },
    {
     "name": "stderr",
     "output_type": "stream",
     "text": [
      "Setting `pad_token_id` to `eos_token_id`:None for open-end generation.\n"
     ]
    },
    {
     "name": "stdout",
     "output_type": "stream",
     "text": [
      "en_text WOI Attractive RMohwtsa열#w3약 >l·주가 고Q/진</s>\n",
      "ko_text WOI Attractive RMohwtsa열#w3약 >l·주가 고Q/진</s>\n"
     ]
    }
   ],
   "source": [
    "en_text_lst = []\n",
    "ko_text_lst = []\n",
    "for i, row in df.iterrows():\n",
    "    text = row['text']\n",
    "    print('or_text ', text)\n",
    "    en_text = translate_ko2en(text)\n",
    "    en_text_lst.append(en_text)\n",
    "    ko_text = translate_en2ko(en_text)\n",
    "    ko_text_lst.append(ko_text_lst)\n",
    "    print('en_text', en_text)\n",
    "    print('ko_text', ko_text)\n",
    "    if i == 10:\n",
    "        break"
   ]
  },
  {
   "cell_type": "markdown",
   "metadata": {},
   "source": [
    "## LLM "
   ]
  },
  {
   "cell_type": "code",
   "execution_count": null,
   "metadata": {},
   "outputs": [],
   "source": [
    "import torch\n",
    "from transformers import AutoModelForCausalLM, AutoTokenizer"
   ]
  },
  {
   "cell_type": "code",
   "execution_count": 5,
   "metadata": {},
   "outputs": [
    {
     "data": {
      "application/vnd.jupyter.widget-view+json": {
       "model_id": "9904c5d0ffa14de498242ae30e32bbe5",
       "version_major": 2,
       "version_minor": 0
      },
      "text/plain": [
       "VBox(children=(HTML(value='<center> <img\\nsrc=https://huggingface.co/front/assets/huggingface_logo-noborder.sv…"
      ]
     },
     "metadata": {},
     "output_type": "display_data"
    }
   ],
   "source": [
    "from huggingface_hub import login\n",
    "\n",
    "login()"
   ]
  },
  {
   "cell_type": "code",
   "execution_count": 7,
   "metadata": {},
   "outputs": [
    {
     "data": {
      "application/vnd.jupyter.widget-view+json": {
       "model_id": "aca599fe32444ca988fa2e5d4114b657",
       "version_major": 2,
       "version_minor": 0
      },
      "text/plain": [
       "Loading checkpoint shards:   0%|          | 0/7 [00:00<?, ?it/s]"
      ]
     },
     "metadata": {},
     "output_type": "display_data"
    },
    {
     "name": "stderr",
     "output_type": "stream",
     "text": [
      "Some parameters are on the meta device because they were offloaded to the cpu.\n"
     ]
    }
   ],
   "source": [
    "model = AutoModelForCausalLM.from_pretrained(\n",
    "    \"LGAI-EXAONE/EXAONE-3.0-7.8B-Instruct\",\n",
    "    torch_dtype=torch.bfloat16,\n",
    "    trust_remote_code=True,\n",
    "    device_map=\"auto\"\n",
    ")\n",
    "tokenizer = AutoTokenizer.from_pretrained(\"LGAI-EXAONE/EXAONE-3.0-7.8B-Instruct\")"
   ]
  },
  {
   "cell_type": "code",
   "execution_count": 15,
   "metadata": {},
   "outputs": [],
   "source": [
    "EXAONE_FEW_SHOT_TEMP = '''[|system|] You are EXAONE model from LG AI Research, a helpful assistant. [|endofturn|]\n",
    "[|user|] 다음 뉴스의 헤드라인을 보고 맞춤법을 교정해줘. 답변은 간결하고 단답으로 해. 설명은 절대 하지마.\n",
    "{}\n",
    "\n",
    "예시 1:\n",
    "원본: NH투자 1월 옵션 만기일 매도 우세\n",
    "교정: NH투자 1월 옵션 만기일 매도 우세\n",
    "\n",
    "예시 2:\n",
    "원본: 정i :파1 미사z KT( 이용기간 2e 단] Q분종U2보\n",
    "교정: 정부, '주파수 미사용' KT에 이용기간 2년 단축 처분(종합2보)\n",
    "\n",
    "예시 3:\n",
    "원본: K찰.국DLwo 로L3한N% 회장 2 T0&송=\n",
    "교정: 경찰, '국회 불법 로비' 한어총 회장 등 20명 송치\n",
    "\n",
    "예시 4:\n",
    "원본: m 김정) 자주통일 새,?r열1나가야1보\n",
    "교정: 김정은 \"자주통일 새시대 열어나가야\"(2보)\n",
    "\n",
    "예시 5:\n",
    "원본: pI美대선I앞두고 R2fr단 발] $비해 감시 강화\n",
    "교정: 軍 \"美대선 앞두고 北 무수단 발사 대비해 감시 강화\"\n",
    "\n",
    "예시 6:\n",
    "원본: 프로야구~롯TKIAs광주 경기 y천취소\n",
    "교정: 프로야구 롯데-KIA 광주 경기 우천취소\n",
    "\n",
    "[|assistant|]'''"
   ]
  },
  {
   "cell_type": "code",
   "execution_count": 18,
   "metadata": {},
   "outputs": [
    {
     "data": {
      "text/plain": [
       "'[|system|] You are EXAONE model from LG AI Research, a helpful assistant. [|endofturn|]\\n[|user|] 다음 뉴스의 헤드라인을 보고 맞춤법을 교정해줘. 답변은 간결하고 단답으로 해. 설명은 절대 하지마.\\n정i :파1 미사z KT( 이용기간 2e 단] Q분종U2보\\n\\n예시 1:\\n원본: NH투자 1월 옵션 만기일 매도 우세\\n교정: NH투자 1월 옵션 만기일 매도 우세\\n\\n예시 2:\\n원본: 정i :파1 미사z KT( 이용기간 2e 단] Q분종U2보\\n교정: 정부, \\'주파수 미사용\\' KT에 이용기간 2년 단축 처분(종합2보)\\n\\n예시 3:\\n원본: K찰.국DLwo 로L3한N% 회장 2 T0&송=\\n교정: 경찰, \\'국회 불법 로비\\' 한어총 회장 등 20명 송치\\n\\n예시 4:\\n원본: m 김정) 자주통일 새,?r열1나가야1보\\n교정: 김정은 \"자주통일 새시대 열어나가야\"(2보)\\n\\n예시 5:\\n원본: pI美대선I앞두고 R2fr단 발] $비해 감시 강화\\n교정: 軍 \"美대선 앞두고 北 무수단 발사 대비해 감시 강화\"\\n\\n예시 6:\\n원본: 프로야구~롯TKIAs광주 경기 y천취소\\n교정: 프로야구 롯데-KIA 광주 경기 우천취소\\n\\n[|assistant|]'"
      ]
     },
     "execution_count": 18,
     "metadata": {},
     "output_type": "execute_result"
    }
   ],
   "source": [
    "test_text = \"정i :파1 미사z KT( 이용기간 2e 단] Q분종U2보\"\n",
    "test_prompt = EXAONE_FEW_SHOT_TEMP.format(test_text)\n",
    "test_prompt"
   ]
  },
  {
   "cell_type": "code",
   "execution_count": 20,
   "metadata": {},
   "outputs": [
    {
     "name": "stdout",
     "output_type": "stream",
     "text": [
      "[|system|] You are EXAONE model from LG AI Research, a helpful assistant. [|endofturn|]\n",
      "[|user|] 다음 뉴스의 헤드라인을 보고 맞춤법을 교정해줘. 답변은 간결하고 단답으로 해. 설명은 절대 하지마.\n",
      "정i :파1 미사z KT( 이용기간 2e 단] Q분종U2보\n",
      "\n",
      "예시 1:\n",
      "원본: NH투자 1월 옵션 만기일 매도 우세\n",
      "교정: NH투자 1월 옵션 만기일 매도 우세\n",
      "\n",
      "예시 2:\n",
      "원본: 정i :파1 미사z KT( 이용기간 2e 단] Q분종U2보\n",
      "교정: 정부, '주파수 미사용' KT에 이용기간 2년 단축 처분(종합2보)\n",
      "\n",
      "예시 3:\n",
      "원본: K찰.국DLwo 로L3한N% 회장 2 T0&송=\n",
      "교정: 경찰, '국회 불법 로비' 한어총 회장 등 20명 송치\n",
      "\n",
      "예시 4:\n",
      "원본: m 김정) 자주통일 새,?r열1나가야1보\n",
      "교정: 김정은 \"자주통일 새시대 열어나가야\"(2보)\n",
      "\n",
      "예시 5:\n",
      "원본: pI美대선I앞두고 R2fr단 발] $비해 감시 강화\n",
      "교정: 軍 \"美대선 앞두고 北 무수단 발사 대비해 감시 강화\"\n",
      "\n",
      "예시 6:\n",
      "원본: 프로야구~롯TKIAs광주 경기 y천취소\n",
      "교정: 프로야구 롯데-KIA 광주 경기 우천취소\n",
      "\n",
      "[|assistant|]교정: 정부, '주파수 미사용' KT에 이용기간 2년 단축 처분(종합2보)[|endofturn|]\n"
     ]
    }
   ],
   "source": [
    "input_ids = tokenizer(test_prompt, return_tensors=\"pt\")['input_ids']\n",
    "\n",
    "output = model.generate(\n",
    "    input_ids.to(\"cuda\"),\n",
    "    eos_token_id=tokenizer.eos_token_id,\n",
    "    max_new_tokens=32\n",
    ")\n",
    "print(tokenizer.decode(output[0]))"
   ]
  },
  {
   "cell_type": "code",
   "execution_count": 21,
   "metadata": {},
   "outputs": [],
   "source": [
    "# EXAONE_FEW_SHOT_TEMP = '''[|system|] You are EXAONE model from LG AI Research, a helpful assistant. [|endofturn|]\n",
    "# [|user|] 다음 뉴스의 헤드라인을 보고 맞춤법을 교정해줘. 답변은 간결하고 단답으로 해. 설명은 절대 하지마.\n",
    "# {}\n",
    "# [|assistant|]{}[|endofturn|]'''"
   ]
  },
  {
   "cell_type": "code",
   "execution_count": 22,
   "metadata": {},
   "outputs": [],
   "source": [
    "# few_text = [\"NH투자 1월 옵션 만기일 매도 우세\", \"정i :파1 미사z KT( 이용기간 2e 단] Q분종U2보\", \"K찰.국DLwo 로L3한N% 회장 2 T0&}송=\"\n",
    "#             \"m 김정) 자주통일 새,?r열1나가야1보\", \"pI美대선I앞두고 R2fr단 발] $비해 감시 강화\", \"프로야구~롯TKIAs광주 경기 y천취소\"]\n",
    "# few_retext = [\"NH투자 1월 옵션 만기일 매도 우세\", \"정부, '주파수 미사용' KT에 이용기간 2년 단축 처분(종합2보)\",\"경찰, '국회 불법 로비' 한어총 회장 등 20명 송치\"\n",
    "#               \"김정은 \\\"자주통일 새시대 열어나가야\\\"(2보)\", \"軍 \\\"美대선 앞두고 北 무수단 발사 대비해 감시 강화\\\"\", \"프로야구 롯데-KIA 광주 경기 우천취소\"]"
   ]
  },
  {
   "cell_type": "code",
   "execution_count": 23,
   "metadata": {},
   "outputs": [],
   "source": [
    "# few_shop_promt = ''\n",
    "# for text, topic in zip(few_text, few_retext):\n",
    "#     few_shop_promt = few_shop_promt + EXAONE_FEW_SHOT_TEMP.format(text, topic)"
   ]
  },
  {
   "cell_type": "code",
   "execution_count": 24,
   "metadata": {},
   "outputs": [
    {
     "data": {
      "text/plain": [
       "'[|system|] You are EXAONE model from LG AI Research, a helpful assistant. [|endofturn|]\\n[|user|] 다음 뉴스의 헤드라인을 보고 맞춤법을 교정해줘. 답변은 간결하고 단답으로 해. 설명은 절대 하지마.\\nNH투자 1월 옵션 만기일 매도 우세\\n[|assistant|]NH투자 1월 옵션 만기일 매도 우세[|endofturn|][|system|] You are EXAONE model from LG AI Research, a helpful assistant. [|endofturn|]\\n[|user|] 다음 뉴스의 헤드라인을 보고 맞춤법을 교정해줘. 답변은 간결하고 단답으로 해. 설명은 절대 하지마.\\n정i :파1 미사z KT( 이용기간 2e 단] Q분종U2보\\n[|assistant|]정부, \\'주파수 미사용\\' KT에 이용기간 2년 단축 처분(종합2보)[|endofturn|][|system|] You are EXAONE model from LG AI Research, a helpful assistant. [|endofturn|]\\n[|user|] 다음 뉴스의 헤드라인을 보고 맞춤법을 교정해줘. 답변은 간결하고 단답으로 해. 설명은 절대 하지마.\\nK찰.국DLwo 로L3한N% 회장 2 T0&}송=m 김정) 자주통일 새,?r열1나가야1보\\n[|assistant|]경찰, \\'국회 불법 로비\\' 한어총 회장 등 20명 송치김정은 \"자주통일 새시대 열어나가야\"(2보)[|endofturn|][|system|] You are EXAONE model from LG AI Research, a helpful assistant. [|endofturn|]\\n[|user|] 다음 뉴스의 헤드라인을 보고 맞춤법을 교정해줘. 답변은 간결하고 단답으로 해. 설명은 절대 하지마.\\npI美대선I앞두고 R2fr단 발] $비해 감시 강화\\n[|assistant|]軍 \"美대선 앞두고 北 무수단 발사 대비해 감시 강화\"[|endofturn|][|system|] You are EXAONE model from LG AI Research, a helpful assistant. [|endofturn|]\\n[|user|] 다음 뉴스의 헤드라인을 보고 맞춤법을 교정해줘. 답변은 간결하고 단답으로 해. 설명은 절대 하지마.\\n프로야구~롯TKIAs광주 경기 y천취소\\n[|assistant|]프로야구 롯데-KIA 광주 경기 우천취소[|endofturn|]'"
      ]
     },
     "execution_count": 24,
     "metadata": {},
     "output_type": "execute_result"
    }
   ],
   "source": [
    "# few_shop_promt"
   ]
  },
  {
   "cell_type": "code",
   "execution_count": 25,
   "metadata": {},
   "outputs": [],
   "source": [
    "# EXAONE_TEMP = '''[|system|] You are EXAONE model from LG AI Research, a helpful assistant. [|endofturn|]\n",
    "# [|user|] 다음 뉴스의 헤드라인을 보고 맞춤법을 교정해줘. 답변은 간결하고 단답으로 해. 설명은 절대 하지마.\n",
    "# {}\n",
    "# [|assistant|]'''"
   ]
  },
  {
   "cell_type": "code",
   "execution_count": 26,
   "metadata": {},
   "outputs": [
    {
     "data": {
      "text/plain": [
       "'[|system|] You are EXAONE model from LG AI Research, a helpful assistant. [|endofturn|]\\n[|user|] 다음 뉴스의 헤드라인을 보고 맞춤법을 교정해줘. 답변은 간결하고 단답으로 해. 설명은 절대 하지마.\\n정i :파1 미사z KT( 이용기간 2e 단] Q분종U2보\\n[|assistant|]'"
      ]
     },
     "execution_count": 26,
     "metadata": {},
     "output_type": "execute_result"
    }
   ],
   "source": [
    "# test_text = \"정i :파1 미사z KT( 이용기간 2e 단] Q분종U2보\"\n",
    "# test_prompt = EXAONE_TEMP.format(test_text)\n",
    "# test_prompt"
   ]
  },
  {
   "cell_type": "code",
   "execution_count": 27,
   "metadata": {},
   "outputs": [
    {
     "name": "stdout",
     "output_type": "stream",
     "text": [
      "[|system|] You are EXAONE model from LG AI Research, a helpful assistant. [|endofturn|]\n",
      "[|user|] 다음 뉴스의 헤드라인을 보고 맞춤법을 교정해줘. 답변은 간결하고 단답으로 해. 설명은 절대 하지마.\n",
      "NH투자 1월 옵션 만기일 매도 우세\n",
      "[|assistant|]NH투자 1월 옵션 만기일 매도 우세[|endofturn|][|system|] You are EXAONE model from LG AI Research, a helpful assistant. [|endofturn|]\n",
      "[|user|] 다음 뉴스의 헤드라인을 보고 맞춤법을 교정해줘. 답변은 간결하고 단답으로 해. 설명은 절대 하지마.\n",
      "정i :파1 미사z KT( 이용기간 2e 단] Q분종U2보\n",
      "[|assistant|]정부, '주파수 미사용' KT에 이용기간 2년 단축 처분(종합2보)[|endofturn|][|system|] You are EXAONE model from LG AI Research, a helpful assistant. [|endofturn|]\n",
      "[|user|] 다음 뉴스의 헤드라인을 보고 맞춤법을 교정해줘. 답변은 간결하고 단답으로 해. 설명은 절대 하지마.\n",
      "K찰.국DLwo 로L3한N% 회장 2 T0&}송=m 김정) 자주통일 새,?r열1나가야1보\n",
      "[|assistant|]경찰, '국회 불법 로비' 한어총 회장 등 20명 송치김정은 \"자주통일 새시대 열어나가야\"(2보)[|endofturn|][|system|] You are EXAONE model from LG AI Research, a helpful assistant. [|endofturn|]\n",
      "[|user|] 다음 뉴스의 헤드라인을 보고 맞춤법을 교정해줘. 답변은 간결하고 단답으로 해. 설명은 절대 하지마.\n",
      "pI美대선I앞두고 R2fr단 발] $비해 감시 강화\n",
      "[|assistant|]軍 \"美대선 앞두고 北 무수단 발사 대비해 감시 강화\"[|endofturn|][|system|] You are EXAONE model from LG AI Research, a helpful assistant. [|endofturn|]\n",
      "[|user|] 다음 뉴스의 헤드라인을 보고 맞춤법을 교정해줘. 답변은 간결하고 단답으로 해. 설명은 절대 하지마.\n",
      "프로야구~롯TKIAs광주 경기 y천취소\n",
      "[|assistant|]프로야구 롯데-KIA 광주 경기 우천취소[|endofturn|][|system|] You are EXAONE model from LG AI Research, a helpful assistant. [|endofturn|]\n",
      "[|user|] 다음 뉴스의 헤드라인을 보고 맞춤법을 교정해줘. 답변은 간결하고 단답으로 해. 설명은 절대 하지마.\n",
      "정i :파1 미사z KT( 이용기간 2e 단] Q분종U2보\n",
      "[|assistant|]정희 : 파리 미사 KT( 이용기간 2년] 질문 2분 보도\n",
      "[|endofturn|]\n"
     ]
    }
   ],
   "source": [
    "# input_ids = tokenizer(few_shop_promt + test_prompt, return_tensors=\"pt\")['input_ids']\n",
    "\n",
    "# output = model.generate(\n",
    "#     input_ids.to(\"cuda\"),\n",
    "#     eos_token_id=tokenizer.eos_token_id,\n",
    "#     max_new_tokens=128\n",
    "# )\n",
    "# print(tokenizer.decode(output[0]))"
   ]
  },
  {
   "cell_type": "markdown",
   "metadata": {},
   "source": [
    "# 레이블 수정"
   ]
  },
  {
   "cell_type": "markdown",
   "metadata": {},
   "source": [
    "### LLM 기반 레이블 수정"
   ]
  },
  {
   "cell_type": "code",
   "execution_count": 3,
   "metadata": {},
   "outputs": [],
   "source": [
    "import torch\n",
    "from transformers import AutoModelForCausalLM, AutoTokenizer"
   ]
  },
  {
   "cell_type": "code",
   "execution_count": 4,
   "metadata": {},
   "outputs": [
    {
     "data": {
      "application/vnd.jupyter.widget-view+json": {
       "model_id": "3231d26019a1456ca12d61a63e8f32d0",
       "version_major": 2,
       "version_minor": 0
      },
      "text/plain": [
       "VBox(children=(HTML(value='<center> <img\\nsrc=https://huggingface.co/front/assets/huggingface_logo-noborder.sv…"
      ]
     },
     "metadata": {},
     "output_type": "display_data"
    },
    {
     "name": "stderr",
     "output_type": "stream",
     "text": [
      "Token has not been saved to git credential helper.\n"
     ]
    }
   ],
   "source": [
    "from huggingface_hub import login\n",
    "\n",
    "login()"
   ]
  },
  {
   "cell_type": "code",
   "execution_count": 5,
   "metadata": {},
   "outputs": [
    {
     "data": {
      "application/vnd.jupyter.widget-view+json": {
       "model_id": "1d69831e35b243a5a2a0f5f68b10c736",
       "version_major": 2,
       "version_minor": 0
      },
      "text/plain": [
       "Loading checkpoint shards:   0%|          | 0/7 [00:00<?, ?it/s]"
      ]
     },
     "metadata": {},
     "output_type": "display_data"
    }
   ],
   "source": [
    "model = AutoModelForCausalLM.from_pretrained(\n",
    "    \"LGAI-EXAONE/EXAONE-3.0-7.8B-Instruct\",\n",
    "    torch_dtype=torch.bfloat16,\n",
    "    trust_remote_code=True,\n",
    "    device_map=\"auto\"\n",
    ")"
   ]
  },
  {
   "cell_type": "code",
   "execution_count": 6,
   "metadata": {},
   "outputs": [],
   "source": [
    "tokenizer = AutoTokenizer.from_pretrained(\"LGAI-EXAONE/EXAONE-3.0-7.8B-Instruct\")"
   ]
  },
  {
   "cell_type": "code",
   "execution_count": 8,
   "metadata": {},
   "outputs": [],
   "source": [
    "# EXAONE_FEW_SHOT_TEMP = '''[|system|] You are EXAONE model from LG AI Research, a helpful assistant. [|endofturn|]\n",
    "# [|user|] 다음 뉴스의 헤드라인을 보고 기사가 어떤 주제인제 말해줘. 주제는 정치, 경제, 사회, 생활문화, 세계, IT과학, 스포츠가 있어. 답변은 간결하고 단답으로 해.\n",
    "# {}\n",
    "\n",
    "# 예시 1:\n",
    "# 헤드라인: 황총리 각 부처 비상대비태세 철저히 강구해야\n",
    "# 토픽: 정치\n",
    "\n",
    "# 예시 2:\n",
    "# 헤드라인: 금융시장 충격 일단 소강국면…주가 낙폭 줄고 환율도 하락\n",
    "# 토픽: 경제\n",
    "\n",
    "# 예시 3:\n",
    "# 헤드라인: 월미도 새 모노레일 내년 추석엔 달릴 수 있을까\n",
    "# 토픽: 사회\n",
    "\n",
    "# 예시 4:\n",
    "# 헤드라인: 벚꽃 와인 마시며 봄 즐기세요\n",
    "# 토픽: 생활문화\n",
    "\n",
    "# 예시 5:\n",
    "# 헤드라인: 트럼프 한국 등 방위비분담금 더 내라…양방향 도로 돼야\n",
    "# 토픽: 세계\n",
    "\n",
    "# 예시 6:\n",
    "# 헤드라인: 네이버 모바일 연예판에도 AI 콘텐츠 추천 시스템 적용\n",
    "# 토픽: IT과학\n",
    "\n",
    "# 예시 7:\n",
    "# 헤드라인: 대한항공 우리카드 꺾고 3연승…GS칼텍스 1라운드 전승종합\n",
    "# 토픽: 스포츠\n",
    "\n",
    "# 예시 8:\n",
    "# 헤드라인: 中공안 장쑤 화학공단 폭발참사 책임자들 구금\n",
    "# 토픽: 사회\n",
    "\n",
    "# 예시 9:\n",
    "# 헤드라인: 고3 확진자 나왔는데…부산서도 조마조마 3차 등교수업종합\n",
    "# 토픽: 사회\n",
    "\n",
    "# 예시 10:\n",
    "# 헤드라인: 제주 4·3 아픔 보듬는 시집…꽃보다 먼저 다녀간 이름들\n",
    "# 토픽: 사회\n",
    "\n",
    "# [|assistant|]'''\n"
   ]
  },
  {
   "cell_type": "code",
   "execution_count": 48,
   "metadata": {},
   "outputs": [],
   "source": [
    "EXAONE_FEW_SHOT_TEMP = '''[|system|] You are EXAONE model from LG AI Research, a helpful assistant. [|endofturn|]\n",
    "[|user|] 다음 뉴스의 헤드라인을 보고 어떤 주제인제 말해줘. 주제는 정치, 경제, 사회, 생활문화, 세계, IT과학, 스포츠 중에 있어. 가능한 모든 주제를 최대 3개까지 확률이 높은 순으로 나열해서 줘. \n",
    "주제를 선택한 이유를 키워드로 답변해. 설명은 간결하게 해.\n",
    "### 분석포맷\n",
    "1.주제: 정치 -> 키워드: \"이유\"\n",
    "2.주제: 경제 -> 키워드: \"이유\"\n",
    "3.주제: 사회 -> 키워드: \"이유\"\n",
    "\n",
    "{}\n",
    "[|assistant|]'''"
   ]
  },
  {
   "cell_type": "code",
   "execution_count": 59,
   "metadata": {},
   "outputs": [
    {
     "data": {
      "text/plain": [
       "'[|system|] You are EXAONE model from LG AI Research, a helpful assistant. [|endofturn|]\\n[|user|] 다음 뉴스의 헤드라인을 보고 어떤 주제인제 말해줘. 주제는 정치, 경제, 사회, 생활문화, 세계, IT과학, 스포츠 중에 있어. 가능한 모든 주제를 최대 3개까지 확률이 높은 순으로 나열해서 줘. \\n주제를 선택한 이유를 키워드로 답변해. 설명은 간결하게 해.\\n### 분석포맷\\n1.주제: 정치 -> 키워드: \"이유\"\\n2.주제: 경제 -> 키워드: \"이유\"\\n3.주제: 사회 -> 키워드: \"이유\"\\n\\n월드컵 천재 사령탑 시코르 감독 한국전 승리...\\n[|assistant|]'"
      ]
     },
     "execution_count": 59,
     "metadata": {},
     "output_type": "execute_result"
    }
   ],
   "source": [
    "test_text = '월드컵 천재 사령탑 시코르 감독 한국전 승리...'\n",
    "test_prompt = EXAONE_FEW_SHOT_TEMP.format(test_text)\n",
    "test_prompt"
   ]
  },
  {
   "cell_type": "code",
   "execution_count": 60,
   "metadata": {},
   "outputs": [
    {
     "name": "stdout",
     "output_type": "stream",
     "text": [
      "[|system|] You are EXAONE model from LG AI Research, a helpful assistant. [|endofturn|]\n",
      "[|user|] 다음 뉴스의 헤드라인을 보고 어떤 주제인제 말해줘. 주제는 정치, 경제, 사회, 생활문화, 세계, IT과학, 스포츠 중에 있어. 가능한 모든 주제를 최대 3개까지 확률이 높은 순으로 나열해서 줘. \n",
      "주제를 선택한 이유를 키워드로 답변해. 설명은 간결하게 해.\n",
      "### 분석포맷\n",
      "1.주제: 정치 -> 키워드: \"이유\"\n",
      "2.주제: 경제 -> 키워드: \"이유\"\n",
      "3.주제: 사회 -> 키워드: \"이유\"\n",
      "\n",
      "월드컵 천재 사령탑 시코르 감독 한국전 승리...\n",
      "[|assistant|]1. 주제: 스포츠 -> 키워드: \"시시코르\", \"감독\", \"승리\"\n",
      "2. 주제: 세계 -> 키워드: \"월드컵\", \"한국전\"\n",
      "3. 주제: 생활문화 -> 키워드: \"천재\", \"감독\"\n",
      "\n",
      "설명:\n",
      "1. 스포츠: 시시코르 감독과 관련된 내용이며, 승리를 언급하고 있어 스포츠 주제가 가장 유력합니다.\n",
      "2. 세계: 월드컵과 한국전이 언급되어 있어 국제적인 스포츠 이벤트로 보입니다.\n",
      "3. 생활문화: '천재'라는 표현이 사용되어 감독의 능력\n"
     ]
    }
   ],
   "source": [
    "input_ids = tokenizer(test_prompt, return_tensors=\"pt\")['input_ids']\n",
    "output = model.generate(\n",
    "    input_ids.to(\"cuda\"),\n",
    "    eos_token_id=tokenizer.eos_token_id,\n",
    "    max_new_tokens=128\n",
    ")\n",
    "print(tokenizer.decode(output[0]))"
   ]
  },
  {
   "cell_type": "code",
   "execution_count": 87,
   "metadata": {},
   "outputs": [],
   "source": [
    "# LGAI-EXAONE/EXAONE-3.0-7.8B-Instruct\n",
    "# 대한항공 우리카드 꺾고 3연승…GS칼텍스 1라운드 전승종합 / 스포츠\n",
    "# 네이버 모바일 연예판에도 AI 콘텐츠 추천 시스템 적용 / 페이스북 인터넷 드론 아퀼라 실물 첫 시험비행 성공 / IT과학\n",
    "# NH투자 1월 옵션 만기일 매도 우세 / 금융시장 충격 일단 소강국면…주가 낙폭 줄고 환율도 하락 / 경제\n",
    "# 황총리 각 부처 비상대비태세 철저히 강구해야 / 정치\n",
    "# 월미도 새 모노레일 내년 추석엔 달릴 수 있을까 / 사회\n",
    "# 트럼프 한국 등 방위비분담금 더 내라…양방향 도로 돼야 / 세계 \n",
    "# 벚꽃 와인 마시며 봄 즐기세요 / 생활문화\n",
    "\n",
    "# few_text = [\"황총리 각 부처 비상대비태세 철저히 강구해야\", \"금융시장 충격 일단 소강국면…주가 낙폭 줄고 환율도 하락\", \"월미도 새 모노레일 내년 추석엔 달릴 수 있을까\", \"벚꽃 와인 마시며 봄 즐기세요\", \"트럼프 한국 등 방위비분담금 더 내라…양방향 도로 돼야\", \"네이버 모바일 연예판에도 AI 콘텐츠 추천 시스템 적용\", \"대한항공 우리카드 꺾고 3연승…GS칼텍스 1라운드 전승종합\"]\n",
    "# few_topic = [\"정치\", \"경제\", \"사회\", \"생활문화\", \"세계\", \"IT과학\", \"스포츠\"]"
   ]
  },
  {
   "cell_type": "code",
   "execution_count": 88,
   "metadata": {},
   "outputs": [],
   "source": [
    "# few_shop_promt = ''\n",
    "# for text, topic in zip(few_text, few_topic):\n",
    "#     few_shop_promt = few_shop_promt + EXAONE_FEW_SHOT_TEMP.format(text, topic)"
   ]
  },
  {
   "cell_type": "code",
   "execution_count": 89,
   "metadata": {},
   "outputs": [
    {
     "data": {
      "text/plain": [
       "'[|system|] You are EXAONE model from LG AI Research, a helpful assistant. [|endofturn|]\\n[|user|] 다음 뉴스의 헤드라인을 보고 기사가 어떤 주제인제 말해줘. 주제는 정치, 경제, 사회, 생활문화, 세계, IT과학, 스포츠가 있어. 답변은 단답으로 해줘.\\n황총리 각 부처 비상대비태세 철저히 강구해야\\n[|assistant|]정치[|endofturn|][|system|] You are EXAONE model from LG AI Research, a helpful assistant. [|endofturn|]\\n[|user|] 다음 뉴스의 헤드라인을 보고 기사가 어떤 주제인제 말해줘. 주제는 정치, 경제, 사회, 생활문화, 세계, IT과학, 스포츠가 있어. 답변은 단답으로 해줘.\\n금융시장 충격 일단 소강국면…주가 낙폭 줄고 환율도 하락\\n[|assistant|]경제[|endofturn|][|system|] You are EXAONE model from LG AI Research, a helpful assistant. [|endofturn|]\\n[|user|] 다음 뉴스의 헤드라인을 보고 기사가 어떤 주제인제 말해줘. 주제는 정치, 경제, 사회, 생활문화, 세계, IT과학, 스포츠가 있어. 답변은 단답으로 해줘.\\n월미도 새 모노레일 내년 추석엔 달릴 수 있을까\\n[|assistant|]사회[|endofturn|][|system|] You are EXAONE model from LG AI Research, a helpful assistant. [|endofturn|]\\n[|user|] 다음 뉴스의 헤드라인을 보고 기사가 어떤 주제인제 말해줘. 주제는 정치, 경제, 사회, 생활문화, 세계, IT과학, 스포츠가 있어. 답변은 단답으로 해줘.\\n벚꽃 와인 마시며 봄 즐기세요\\n[|assistant|]생활문화[|endofturn|][|system|] You are EXAONE model from LG AI Research, a helpful assistant. [|endofturn|]\\n[|user|] 다음 뉴스의 헤드라인을 보고 기사가 어떤 주제인제 말해줘. 주제는 정치, 경제, 사회, 생활문화, 세계, IT과학, 스포츠가 있어. 답변은 단답으로 해줘.\\n트럼프 한국 등 방위비분담금 더 내라…양방향 도로 돼야\\n[|assistant|]세계[|endofturn|][|system|] You are EXAONE model from LG AI Research, a helpful assistant. [|endofturn|]\\n[|user|] 다음 뉴스의 헤드라인을 보고 기사가 어떤 주제인제 말해줘. 주제는 정치, 경제, 사회, 생활문화, 세계, IT과학, 스포츠가 있어. 답변은 단답으로 해줘.\\n네이버 모바일 연예판에도 AI 콘텐츠 추천 시스템 적용\\n[|assistant|]IT과학[|endofturn|][|system|] You are EXAONE model from LG AI Research, a helpful assistant. [|endofturn|]\\n[|user|] 다음 뉴스의 헤드라인을 보고 기사가 어떤 주제인제 말해줘. 주제는 정치, 경제, 사회, 생활문화, 세계, IT과학, 스포츠가 있어. 답변은 단답으로 해줘.\\n대한항공 우리카드 꺾고 3연승…GS칼텍스 1라운드 전승종합\\n[|assistant|]스포츠[|endofturn|]'"
      ]
     },
     "execution_count": 89,
     "metadata": {},
     "output_type": "execute_result"
    }
   ],
   "source": [
    "# few_shop_promt"
   ]
  },
  {
   "cell_type": "code",
   "execution_count": 90,
   "metadata": {},
   "outputs": [],
   "source": [
    "# EXAONE_TEMP = '''[|system|] You are EXAONE model from LG AI Research, a helpful assistant. [|endofturn|]\n",
    "# [|user|] 다음 뉴스의 헤드라인을 보고 기사가 어떤 주제인제 말해줘. 주제는 정치, 경제, 사회, 생활문화, 세계, IT과학, 스포츠가 있어. 답변은 단답으로 해줘.\n",
    "# {}\n",
    "# [|assistant|]'''"
   ]
  },
  {
   "cell_type": "code",
   "execution_count": 126,
   "metadata": {},
   "outputs": [
    {
     "data": {
      "text/plain": [
       "'[|system|] You are EXAONE model from LG AI Research, a helpful assistant. [|endofturn|]\\n[|user|] 다음 뉴스의 헤드라인을 보고 기사가 어떤 주제인제 말해줘. 주제는 정치, 경제, 사회, 생활문화, 세계, IT과학, 스포츠가 있어. 답변은 단답으로 해줘.\\n코로나 r대^등교)모습\\n[|assistant|]'"
      ]
     },
     "execution_count": 126,
     "metadata": {},
     "output_type": "execute_result"
    }
   ],
   "source": [
    "# test_text = '코로나 r대^등교)모습'\n",
    "# test_prompt = EXAONE_TEMP.format(test_text)\n",
    "# test_prompt"
   ]
  },
  {
   "cell_type": "code",
   "execution_count": 127,
   "metadata": {},
   "outputs": [
    {
     "data": {
      "text/plain": [
       "'[|system|] You are EXAONE model from LG AI Research, a helpful assistant. [|endofturn|]\\n[|user|] 다음 뉴스의 헤드라인을 보고 기사가 어떤 주제인제 말해줘. 주제는 정치, 경제, 사회, 생활문화, 세계, IT과학, 스포츠가 있어. 답변은 단답으로 해줘.\\n황총리 각 부처 비상대비태세 철저히 강구해야\\n[|assistant|]정치[|endofturn|][|system|] You are EXAONE model from LG AI Research, a helpful assistant. [|endofturn|]\\n[|user|] 다음 뉴스의 헤드라인을 보고 기사가 어떤 주제인제 말해줘. 주제는 정치, 경제, 사회, 생활문화, 세계, IT과학, 스포츠가 있어. 답변은 단답으로 해줘.\\n금융시장 충격 일단 소강국면…주가 낙폭 줄고 환율도 하락\\n[|assistant|]경제[|endofturn|][|system|] You are EXAONE model from LG AI Research, a helpful assistant. [|endofturn|]\\n[|user|] 다음 뉴스의 헤드라인을 보고 기사가 어떤 주제인제 말해줘. 주제는 정치, 경제, 사회, 생활문화, 세계, IT과학, 스포츠가 있어. 답변은 단답으로 해줘.\\n월미도 새 모노레일 내년 추석엔 달릴 수 있을까\\n[|assistant|]사회[|endofturn|][|system|] You are EXAONE model from LG AI Research, a helpful assistant. [|endofturn|]\\n[|user|] 다음 뉴스의 헤드라인을 보고 기사가 어떤 주제인제 말해줘. 주제는 정치, 경제, 사회, 생활문화, 세계, IT과학, 스포츠가 있어. 답변은 단답으로 해줘.\\n벚꽃 와인 마시며 봄 즐기세요\\n[|assistant|]생활문화[|endofturn|][|system|] You are EXAONE model from LG AI Research, a helpful assistant. [|endofturn|]\\n[|user|] 다음 뉴스의 헤드라인을 보고 기사가 어떤 주제인제 말해줘. 주제는 정치, 경제, 사회, 생활문화, 세계, IT과학, 스포츠가 있어. 답변은 단답으로 해줘.\\n트럼프 한국 등 방위비분담금 더 내라…양방향 도로 돼야\\n[|assistant|]세계[|endofturn|][|system|] You are EXAONE model from LG AI Research, a helpful assistant. [|endofturn|]\\n[|user|] 다음 뉴스의 헤드라인을 보고 기사가 어떤 주제인제 말해줘. 주제는 정치, 경제, 사회, 생활문화, 세계, IT과학, 스포츠가 있어. 답변은 단답으로 해줘.\\n네이버 모바일 연예판에도 AI 콘텐츠 추천 시스템 적용\\n[|assistant|]IT과학[|endofturn|][|system|] You are EXAONE model from LG AI Research, a helpful assistant. [|endofturn|]\\n[|user|] 다음 뉴스의 헤드라인을 보고 기사가 어떤 주제인제 말해줘. 주제는 정치, 경제, 사회, 생활문화, 세계, IT과학, 스포츠가 있어. 답변은 단답으로 해줘.\\n대한항공 우리카드 꺾고 3연승…GS칼텍스 1라운드 전승종합\\n[|assistant|]스포츠[|endofturn|][|system|] You are EXAONE model from LG AI Research, a helpful assistant. [|endofturn|]\\n[|user|] 다음 뉴스의 헤드라인을 보고 기사가 어떤 주제인제 말해줘. 주제는 정치, 경제, 사회, 생활문화, 세계, IT과학, 스포츠가 있어. 답변은 단답으로 해줘.\\n코로나 r대^등교)모습\\n[|assistant|]'"
      ]
     },
     "execution_count": 127,
     "metadata": {},
     "output_type": "execute_result"
    }
   ],
   "source": [
    "# few_shop_promt + test_prompt"
   ]
  },
  {
   "cell_type": "code",
   "execution_count": 128,
   "metadata": {},
   "outputs": [],
   "source": [
    "# input_ids = tokenizer(few_shop_promt + test_prompt, return_tensors=\"pt\")['input_ids']\n",
    "# output = model.generate(\n",
    "#     input_ids.to(\"cuda\"),\n",
    "#     eos_token_id=tokenizer.eos_token_id,\n",
    "#     max_new_tokens=128\n",
    "# )\n",
    "# print(tokenizer.decode(output[0]))"
   ]
  },
  {
   "cell_type": "code",
   "execution_count": 130,
   "metadata": {},
   "outputs": [],
   "source": [
    "# pred = tokenizer.decode(output[0])"
   ]
  },
  {
   "cell_type": "code",
   "execution_count": 132,
   "metadata": {},
   "outputs": [
    {
     "data": {
      "text/plain": [
       "'생활문화\\n\\n이 헤드라인은 코로나19 팬데믹 상황에서 학생들의 등교 모습을 다루고 있는 것으로 보입니다. 이는 교육과 일상 생활의 변화를 주제로 한 기사로, 생활문화 카테고리에 속합니다.[|endofturn|]'"
      ]
     },
     "execution_count": 132,
     "metadata": {},
     "output_type": "execute_result"
    }
   ],
   "source": [
    "# pred.split(\"[|assistant|]\")[-1]"
   ]
  },
  {
   "cell_type": "code",
   "execution_count": 107,
   "metadata": {},
   "outputs": [
    {
     "data": {
      "text/plain": [
       "'[|system|] You are EXAONE model from LG AI Research, a helpful assistant. [|endofturn|]\\n[|user|] 다음 뉴스의 헤드라인을 보고 기사가 어떤 주제인제 말해줘. 주제는 정치, 경제, 사회, 생활문화, 세계, IT과학, 스포츠가 있어. 답변은 단답으로 해줘.\\n아시안게임 목소리 높인 박항서 베트남이 일본 못 이길...\\n[|assistant|]'"
      ]
     },
     "execution_count": 107,
     "metadata": {},
     "output_type": "execute_result"
    }
   ],
   "source": [
    "# test_text = '아시안게임 목소리 높인 박항서 베트남이 일본 못 이길...'\n",
    "# test_prompt = EXAONE_TEMP.format(test_text)\n",
    "# test_prompt"
   ]
  },
  {
   "cell_type": "code",
   "execution_count": 108,
   "metadata": {},
   "outputs": [
    {
     "data": {
      "text/plain": [
       "'[|system|] You are EXAONE model from LG AI Research, a helpful assistant. [|endofturn|]\\n[|user|] 다음 뉴스의 헤드라인을 보고 기사가 어떤 주제인제 말해줘. 주제는 정치, 경제, 사회, 생활문화, 세계, IT과학, 스포츠가 있어. 답변은 단답으로 해줘.\\n황총리 각 부처 비상대비태세 철저히 강구해야\\n[|assistant|]정치[|endofturn|][|system|] You are EXAONE model from LG AI Research, a helpful assistant. [|endofturn|]\\n[|user|] 다음 뉴스의 헤드라인을 보고 기사가 어떤 주제인제 말해줘. 주제는 정치, 경제, 사회, 생활문화, 세계, IT과학, 스포츠가 있어. 답변은 단답으로 해줘.\\n금융시장 충격 일단 소강국면…주가 낙폭 줄고 환율도 하락\\n[|assistant|]경제[|endofturn|][|system|] You are EXAONE model from LG AI Research, a helpful assistant. [|endofturn|]\\n[|user|] 다음 뉴스의 헤드라인을 보고 기사가 어떤 주제인제 말해줘. 주제는 정치, 경제, 사회, 생활문화, 세계, IT과학, 스포츠가 있어. 답변은 단답으로 해줘.\\n월미도 새 모노레일 내년 추석엔 달릴 수 있을까\\n[|assistant|]사회[|endofturn|][|system|] You are EXAONE model from LG AI Research, a helpful assistant. [|endofturn|]\\n[|user|] 다음 뉴스의 헤드라인을 보고 기사가 어떤 주제인제 말해줘. 주제는 정치, 경제, 사회, 생활문화, 세계, IT과학, 스포츠가 있어. 답변은 단답으로 해줘.\\n벚꽃 와인 마시며 봄 즐기세요\\n[|assistant|]생활문화[|endofturn|][|system|] You are EXAONE model from LG AI Research, a helpful assistant. [|endofturn|]\\n[|user|] 다음 뉴스의 헤드라인을 보고 기사가 어떤 주제인제 말해줘. 주제는 정치, 경제, 사회, 생활문화, 세계, IT과학, 스포츠가 있어. 답변은 단답으로 해줘.\\n트럼프 한국 등 방위비분담금 더 내라…양방향 도로 돼야\\n[|assistant|]세계[|endofturn|][|system|] You are EXAONE model from LG AI Research, a helpful assistant. [|endofturn|]\\n[|user|] 다음 뉴스의 헤드라인을 보고 기사가 어떤 주제인제 말해줘. 주제는 정치, 경제, 사회, 생활문화, 세계, IT과학, 스포츠가 있어. 답변은 단답으로 해줘.\\n네이버 모바일 연예판에도 AI 콘텐츠 추천 시스템 적용\\n[|assistant|]IT과학[|endofturn|][|system|] You are EXAONE model from LG AI Research, a helpful assistant. [|endofturn|]\\n[|user|] 다음 뉴스의 헤드라인을 보고 기사가 어떤 주제인제 말해줘. 주제는 정치, 경제, 사회, 생활문화, 세계, IT과학, 스포츠가 있어. 답변은 단답으로 해줘.\\n대한항공 우리카드 꺾고 3연승…GS칼텍스 1라운드 전승종합\\n[|assistant|]스포츠[|endofturn|][|system|] You are EXAONE model from LG AI Research, a helpful assistant. [|endofturn|]\\n[|user|] 다음 뉴스의 헤드라인을 보고 기사가 어떤 주제인제 말해줘. 주제는 정치, 경제, 사회, 생활문화, 세계, IT과학, 스포츠가 있어. 답변은 단답으로 해줘.\\n아시안게임 목소리 높인 박항서 베트남이 일본 못 이길...\\n[|assistant|]'"
      ]
     },
     "execution_count": 108,
     "metadata": {},
     "output_type": "execute_result"
    }
   ],
   "source": [
    "# few_shop_promt + test_prompt"
   ]
  },
  {
   "cell_type": "code",
   "execution_count": 109,
   "metadata": {},
   "outputs": [],
   "source": [
    "# input_ids = tokenizer(few_shop_promt + test_prompt, return_tensors=\"pt\")['input_ids']"
   ]
  },
  {
   "cell_type": "code",
   "execution_count": 110,
   "metadata": {},
   "outputs": [
    {
     "name": "stdout",
     "output_type": "stream",
     "text": [
      "[|system|] You are EXAONE model from LG AI Research, a helpful assistant. [|endofturn|]\n",
      "[|user|] 다음 뉴스의 헤드라인을 보고 기사가 어떤 주제인제 말해줘. 주제는 정치, 경제, 사회, 생활문화, 세계, IT과학, 스포츠가 있어. 답변은 단답으로 해줘.\n",
      "황총리 각 부처 비상대비태세 철저히 강구해야\n",
      "[|assistant|]정치[|endofturn|][|system|] You are EXAONE model from LG AI Research, a helpful assistant. [|endofturn|]\n",
      "[|user|] 다음 뉴스의 헤드라인을 보고 기사가 어떤 주제인제 말해줘. 주제는 정치, 경제, 사회, 생활문화, 세계, IT과학, 스포츠가 있어. 답변은 단답으로 해줘.\n",
      "금융시장 충격 일단 소강국면...주가 낙폭 줄고 환율도 하락\n",
      "[|assistant|]경제[|endofturn|][|system|] You are EXAONE model from LG AI Research, a helpful assistant. [|endofturn|]\n",
      "[|user|] 다음 뉴스의 헤드라인을 보고 기사가 어떤 주제인제 말해줘. 주제는 정치, 경제, 사회, 생활문화, 세계, IT과학, 스포츠가 있어. 답변은 단답으로 해줘.\n",
      "월미도 새 모노레일 내년 추석엔 달릴 수 있을까\n",
      "[|assistant|]사회[|endofturn|][|system|] You are EXAONE model from LG AI Research, a helpful assistant. [|endofturn|]\n",
      "[|user|] 다음 뉴스의 헤드라인을 보고 기사가 어떤 주제인제 말해줘. 주제는 정치, 경제, 사회, 생활문화, 세계, IT과학, 스포츠가 있어. 답변은 단답으로 해줘.\n",
      "벚꽃 와인 마시며 봄 즐기세요\n",
      "[|assistant|]생활문화[|endofturn|][|system|] You are EXAONE model from LG AI Research, a helpful assistant. [|endofturn|]\n",
      "[|user|] 다음 뉴스의 헤드라인을 보고 기사가 어떤 주제인제 말해줘. 주제는 정치, 경제, 사회, 생활문화, 세계, IT과학, 스포츠가 있어. 답변은 단답으로 해줘.\n",
      "트럼프 한국 등 방위비분담금 더 내라...양방향 도로 돼야\n",
      "[|assistant|]세계[|endofturn|][|system|] You are EXAONE model from LG AI Research, a helpful assistant. [|endofturn|]\n",
      "[|user|] 다음 뉴스의 헤드라인을 보고 기사가 어떤 주제인제 말해줘. 주제는 정치, 경제, 사회, 생활문화, 세계, IT과학, 스포츠가 있어. 답변은 단답으로 해줘.\n",
      "네이버 모바일 연예판에도 AI 콘텐츠 추천 시스템 적용\n",
      "[|assistant|]IT과학[|endofturn|][|system|] You are EXAONE model from LG AI Research, a helpful assistant. [|endofturn|]\n",
      "[|user|] 다음 뉴스의 헤드라인을 보고 기사가 어떤 주제인제 말해줘. 주제는 정치, 경제, 사회, 생활문화, 세계, IT과학, 스포츠가 있어. 답변은 단답으로 해줘.\n",
      "대한항공 우리카드 꺾고 3연승...GS칼텍스 1라운드 전승종합\n",
      "[|assistant|]스포츠[|endofturn|][|system|] You are EXAONE model from LG AI Research, a helpful assistant. [|endofturn|]\n",
      "[|user|] 다음 뉴스의 헤드라인을 보고 기사가 어떤 주제인제 말해줘. 주제는 정치, 경제, 사회, 생활문화, 세계, IT과학, 스포츠가 있어. 답변은 단답으로 해줘.\n",
      "아시안게임 목소리 높인 박항서 베트남이 일본 못 이길...\n",
      "[|assistant|]스포츠\n"
     ]
    }
   ],
   "source": [
    "output = model.generate(\n",
    "#     input_ids.to(\"cuda\"),\n",
    "#     eos_token_id=tokenizer.eos_token_id,\n",
    "#     max_new_tokens=1\n",
    "# )\n",
    "# print(tokenizer.decode(output[0]))"
   ]
  },
  {
   "cell_type": "code",
   "execution_count": 99,
   "metadata": {},
   "outputs": [
    {
     "data": {
      "text/plain": [
       "'[|system|] You are EXAONE model from LG AI Research, a helpful assistant. [|endofturn|]\\n[|user|] 다음 뉴스의 헤드라인을 보고 기사가 어떤 주제인제 말해줘. 주제는 정치, 경제, 사회, 생활문화, 세계, IT과학, 스포츠가 있어. 답변은 단답으로 해줘.\\n영상 선출부터 퇴장까지…나경원 원내대표 파란만장 1년\\n[|assistant|]'"
      ]
     },
     "execution_count": 99,
     "metadata": {},
     "output_type": "execute_result"
    }
   ],
   "source": [
    "# test_text = '영상 선출부터 퇴장까지…나경원 원내대표 파란만장 1년'\n",
    "# test_prompt = EXAONE_TEMP.format(test_text)\n",
    "# test_prompt"
   ]
  },
  {
   "cell_type": "code",
   "execution_count": 100,
   "metadata": {},
   "outputs": [
    {
     "data": {
      "text/plain": [
       "'[|system|] You are EXAONE model from LG AI Research, a helpful assistant. [|endofturn|]\\n[|user|] 다음 뉴스의 헤드라인을 보고 기사가 어떤 주제인제 말해줘. 주제는 정치, 경제, 사회, 생활문화, 세계, IT과학, 스포츠가 있어. 답변은 단답으로 해줘.\\n황총리 각 부처 비상대비태세 철저히 강구해야\\n[|assistant|]정치[|endofturn|][|system|] You are EXAONE model from LG AI Research, a helpful assistant. [|endofturn|]\\n[|user|] 다음 뉴스의 헤드라인을 보고 기사가 어떤 주제인제 말해줘. 주제는 정치, 경제, 사회, 생활문화, 세계, IT과학, 스포츠가 있어. 답변은 단답으로 해줘.\\n금융시장 충격 일단 소강국면…주가 낙폭 줄고 환율도 하락\\n[|assistant|]경제[|endofturn|][|system|] You are EXAONE model from LG AI Research, a helpful assistant. [|endofturn|]\\n[|user|] 다음 뉴스의 헤드라인을 보고 기사가 어떤 주제인제 말해줘. 주제는 정치, 경제, 사회, 생활문화, 세계, IT과학, 스포츠가 있어. 답변은 단답으로 해줘.\\n월미도 새 모노레일 내년 추석엔 달릴 수 있을까\\n[|assistant|]사회[|endofturn|][|system|] You are EXAONE model from LG AI Research, a helpful assistant. [|endofturn|]\\n[|user|] 다음 뉴스의 헤드라인을 보고 기사가 어떤 주제인제 말해줘. 주제는 정치, 경제, 사회, 생활문화, 세계, IT과학, 스포츠가 있어. 답변은 단답으로 해줘.\\n벚꽃 와인 마시며 봄 즐기세요\\n[|assistant|]생활문화[|endofturn|][|system|] You are EXAONE model from LG AI Research, a helpful assistant. [|endofturn|]\\n[|user|] 다음 뉴스의 헤드라인을 보고 기사가 어떤 주제인제 말해줘. 주제는 정치, 경제, 사회, 생활문화, 세계, IT과학, 스포츠가 있어. 답변은 단답으로 해줘.\\n트럼프 한국 등 방위비분담금 더 내라…양방향 도로 돼야\\n[|assistant|]세계[|endofturn|][|system|] You are EXAONE model from LG AI Research, a helpful assistant. [|endofturn|]\\n[|user|] 다음 뉴스의 헤드라인을 보고 기사가 어떤 주제인제 말해줘. 주제는 정치, 경제, 사회, 생활문화, 세계, IT과학, 스포츠가 있어. 답변은 단답으로 해줘.\\n네이버 모바일 연예판에도 AI 콘텐츠 추천 시스템 적용\\n[|assistant|]IT과학[|endofturn|][|system|] You are EXAONE model from LG AI Research, a helpful assistant. [|endofturn|]\\n[|user|] 다음 뉴스의 헤드라인을 보고 기사가 어떤 주제인제 말해줘. 주제는 정치, 경제, 사회, 생활문화, 세계, IT과학, 스포츠가 있어. 답변은 단답으로 해줘.\\n대한항공 우리카드 꺾고 3연승…GS칼텍스 1라운드 전승종합\\n[|assistant|]스포츠[|endofturn|][|system|] You are EXAONE model from LG AI Research, a helpful assistant. [|endofturn|]\\n[|user|] 다음 뉴스의 헤드라인을 보고 기사가 어떤 주제인제 말해줘. 주제는 정치, 경제, 사회, 생활문화, 세계, IT과학, 스포츠가 있어. 답변은 단답으로 해줘.\\n영상 선출부터 퇴장까지…나경원 원내대표 파란만장 1년\\n[|assistant|]'"
      ]
     },
     "execution_count": 100,
     "metadata": {},
     "output_type": "execute_result"
    }
   ],
   "source": [
    "# few_shop_promt + test_prompt"
   ]
  },
  {
   "cell_type": "code",
   "execution_count": 101,
   "metadata": {},
   "outputs": [],
   "source": [
    "# input_ids = tokenizer(few_shop_promt + test_prompt, return_tensors=\"pt\")['input_ids']"
   ]
  },
  {
   "cell_type": "code",
   "execution_count": 105,
   "metadata": {},
   "outputs": [
    {
     "name": "stdout",
     "output_type": "stream",
     "text": [
      "[|system|] You are EXAONE model from LG AI Research, a helpful assistant. [|endofturn|]\n",
      "[|user|] 다음 뉴스의 헤드라인을 보고 기사가 어떤 주제인제 말해줘. 주제는 정치, 경제, 사회, 생활문화, 세계, IT과학, 스포츠가 있어. 답변은 단답으로 해줘.\n",
      "황총리 각 부처 비상대비태세 철저히 강구해야\n",
      "[|assistant|]정치[|endofturn|][|system|] You are EXAONE model from LG AI Research, a helpful assistant. [|endofturn|]\n",
      "[|user|] 다음 뉴스의 헤드라인을 보고 기사가 어떤 주제인제 말해줘. 주제는 정치, 경제, 사회, 생활문화, 세계, IT과학, 스포츠가 있어. 답변은 단답으로 해줘.\n",
      "금융시장 충격 일단 소강국면...주가 낙폭 줄고 환율도 하락\n",
      "[|assistant|]경제[|endofturn|][|system|] You are EXAONE model from LG AI Research, a helpful assistant. [|endofturn|]\n",
      "[|user|] 다음 뉴스의 헤드라인을 보고 기사가 어떤 주제인제 말해줘. 주제는 정치, 경제, 사회, 생활문화, 세계, IT과학, 스포츠가 있어. 답변은 단답으로 해줘.\n",
      "월미도 새 모노레일 내년 추석엔 달릴 수 있을까\n",
      "[|assistant|]사회[|endofturn|][|system|] You are EXAONE model from LG AI Research, a helpful assistant. [|endofturn|]\n",
      "[|user|] 다음 뉴스의 헤드라인을 보고 기사가 어떤 주제인제 말해줘. 주제는 정치, 경제, 사회, 생활문화, 세계, IT과학, 스포츠가 있어. 답변은 단답으로 해줘.\n",
      "벚꽃 와인 마시며 봄 즐기세요\n",
      "[|assistant|]생활문화[|endofturn|][|system|] You are EXAONE model from LG AI Research, a helpful assistant. [|endofturn|]\n",
      "[|user|] 다음 뉴스의 헤드라인을 보고 기사가 어떤 주제인제 말해줘. 주제는 정치, 경제, 사회, 생활문화, 세계, IT과학, 스포츠가 있어. 답변은 단답으로 해줘.\n",
      "트럼프 한국 등 방위비분담금 더 내라...양방향 도로 돼야\n",
      "[|assistant|]세계[|endofturn|][|system|] You are EXAONE model from LG AI Research, a helpful assistant. [|endofturn|]\n",
      "[|user|] 다음 뉴스의 헤드라인을 보고 기사가 어떤 주제인제 말해줘. 주제는 정치, 경제, 사회, 생활문화, 세계, IT과학, 스포츠가 있어. 답변은 단답으로 해줘.\n",
      "네이버 모바일 연예판에도 AI 콘텐츠 추천 시스템 적용\n",
      "[|assistant|]IT과학[|endofturn|][|system|] You are EXAONE model from LG AI Research, a helpful assistant. [|endofturn|]\n",
      "[|user|] 다음 뉴스의 헤드라인을 보고 기사가 어떤 주제인제 말해줘. 주제는 정치, 경제, 사회, 생활문화, 세계, IT과학, 스포츠가 있어. 답변은 단답으로 해줘.\n",
      "대한항공 우리카드 꺾고 3연승...GS칼텍스 1라운드 전승종합\n",
      "[|assistant|]스포츠[|endofturn|][|system|] You are EXAONE model from LG AI Research, a helpful assistant. [|endofturn|]\n",
      "[|user|] 다음 뉴스의 헤드라인을 보고 기사가 어떤 주제인제 말해줘. 주제는 정치, 경제, 사회, 생활문화, 세계, IT과학, 스포츠가 있어. 답변은 단답으로 해줘.\n",
      "영상 선출부터 퇴장까지...나경원 원내대표 파란만장 1년\n",
      "[|assistant|]정치\n"
     ]
    }
   ],
   "source": [
    "# output = model.generate(\n",
    "#     input_ids.to(\"cuda\"),\n",
    "#     eos_token_id=tokenizer.eos_token_id,\n",
    "#     max_new_tokens=1\n",
    "# )\n",
    "# print(tokenizer.decode(output[0]))"
   ]
  },
  {
   "cell_type": "code",
   "execution_count": null,
   "metadata": {},
   "outputs": [],
   "source": []
  }
 ],
 "metadata": {
  "kernelspec": {
   "display_name": ".venv_sh",
   "language": "python",
   "name": "python3"
  },
  "language_info": {
   "codemirror_mode": {
    "name": "ipython",
    "version": 3
   },
   "file_extension": ".py",
   "mimetype": "text/x-python",
   "name": "python",
   "nbconvert_exporter": "python",
   "pygments_lexer": "ipython3",
   "version": "3.10.13"
  }
 },
 "nbformat": 4,
 "nbformat_minor": 2
}
