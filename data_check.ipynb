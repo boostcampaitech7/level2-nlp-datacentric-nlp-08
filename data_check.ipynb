{
 "cells": [
  {
   "cell_type": "markdown",
   "metadata": {},
   "source": [
    "# 레이블 명칭 추가 및 데이터 인코딩 변경\n",
    "- 인코딩된 레이블 디코딩\n",
    "- 윈도우에서 한글이 깨지지 않도록 변경"
   ]
  },
  {
   "cell_type": "code",
   "execution_count": 9,
   "metadata": {},
   "outputs": [],
   "source": [
    "import pandas as pd"
   ]
  },
  {
   "cell_type": "code",
   "execution_count": 2,
   "metadata": {},
   "outputs": [],
   "source": [
    "df = pd.read_csv(\"./resources/raw_data/train.csv\")"
   ]
  },
  {
   "cell_type": "code",
   "execution_count": 5,
   "metadata": {},
   "outputs": [],
   "source": [
    "label_dic = {0:\"정치\", 1:\"경제\", 2:\"사회\", 3:\"생활문화\", 4:\"세계\", 5:\"IT과학\", 6:\"스포츠\"}"
   ]
  },
  {
   "cell_type": "code",
   "execution_count": 7,
   "metadata": {},
   "outputs": [],
   "source": [
    "df['target_name'] = [label_dic[x] for x in df['target']]"
   ]
  },
  {
   "cell_type": "code",
   "execution_count": 10,
   "metadata": {},
   "outputs": [],
   "source": [
    "df.to_csv(\"./resources/raw_data/train.csv\", encoding='utf-8-sig')"
   ]
  },
  {
   "cell_type": "code",
   "execution_count": 12,
   "metadata": {},
   "outputs": [
    {
     "data": {
      "text/html": [
       "<div>\n",
       "<style scoped>\n",
       "    .dataframe tbody tr th:only-of-type {\n",
       "        vertical-align: middle;\n",
       "    }\n",
       "\n",
       "    .dataframe tbody tr th {\n",
       "        vertical-align: top;\n",
       "    }\n",
       "\n",
       "    .dataframe thead th {\n",
       "        text-align: right;\n",
       "    }\n",
       "</style>\n",
       "<table border=\"1\" class=\"dataframe\">\n",
       "  <thead>\n",
       "    <tr style=\"text-align: right;\">\n",
       "      <th></th>\n",
       "      <th>ID</th>\n",
       "      <th>text</th>\n",
       "      <th>target</th>\n",
       "      <th>target_name</th>\n",
       "    </tr>\n",
       "  </thead>\n",
       "  <tbody>\n",
       "    <tr>\n",
       "      <th>0</th>\n",
       "      <td>ynat-v1_train_00000</td>\n",
       "      <td>정i :파1 미사z KT( 이용기간 2e 단] Q분종U2보</td>\n",
       "      <td>4</td>\n",
       "      <td>세계</td>\n",
       "    </tr>\n",
       "    <tr>\n",
       "      <th>1</th>\n",
       "      <td>ynat-v1_train_00001</td>\n",
       "      <td>K찰.국DLwo 로L3한N% 회장 2 T0&amp;}송=</td>\n",
       "      <td>3</td>\n",
       "      <td>생활문화</td>\n",
       "    </tr>\n",
       "    <tr>\n",
       "      <th>2</th>\n",
       "      <td>ynat-v1_train_00002</td>\n",
       "      <td>m 김정) 자주통일 새,?r열1나가야1보</td>\n",
       "      <td>2</td>\n",
       "      <td>사회</td>\n",
       "    </tr>\n",
       "    <tr>\n",
       "      <th>3</th>\n",
       "      <td>ynat-v1_train_00003</td>\n",
       "      <td>갤노트8 주말 27만대 개통…시장은 불법 보조금 얼룩</td>\n",
       "      <td>5</td>\n",
       "      <td>IT과학</td>\n",
       "    </tr>\n",
       "    <tr>\n",
       "      <th>4</th>\n",
       "      <td>ynat-v1_train_00004</td>\n",
       "      <td>pI美대선I앞두고 R2fr단 발] $비해 감시 강화</td>\n",
       "      <td>6</td>\n",
       "      <td>스포츠</td>\n",
       "    </tr>\n",
       "    <tr>\n",
       "      <th>...</th>\n",
       "      <td>...</td>\n",
       "      <td>...</td>\n",
       "      <td>...</td>\n",
       "      <td>...</td>\n",
       "    </tr>\n",
       "    <tr>\n",
       "      <th>2795</th>\n",
       "      <td>ynat-v1_train_02795</td>\n",
       "      <td>트럼프 폭스뉴스 앵커들 충성도 점수매겨…10점만점에 12점도</td>\n",
       "      <td>6</td>\n",
       "      <td>스포츠</td>\n",
       "    </tr>\n",
       "    <tr>\n",
       "      <th>2796</th>\n",
       "      <td>ynat-v1_train_02796</td>\n",
       "      <td>삼성 갤럭시S9 정식 출시 첫 주말 이통시장 잠잠</td>\n",
       "      <td>2</td>\n",
       "      <td>사회</td>\n",
       "    </tr>\n",
       "    <tr>\n",
       "      <th>2797</th>\n",
       "      <td>ynat-v1_train_02797</td>\n",
       "      <td>텔레그램+한D 등h亞서 2시간H다운…C버T정gf39종!2보</td>\n",
       "      <td>4</td>\n",
       "      <td>세계</td>\n",
       "    </tr>\n",
       "    <tr>\n",
       "      <th>2798</th>\n",
       "      <td>ynat-v1_train_02798</td>\n",
       "      <td>인터뷰 류현진 친구에게 안타 맞는 것 싫어해…승부는 냉정</td>\n",
       "      <td>1</td>\n",
       "      <td>경제</td>\n",
       "    </tr>\n",
       "    <tr>\n",
       "      <th>2799</th>\n",
       "      <td>ynat-v1_train_02799</td>\n",
       "      <td>지능정보사회 대비 국가 종합대책 마련</td>\n",
       "      <td>4</td>\n",
       "      <td>세계</td>\n",
       "    </tr>\n",
       "  </tbody>\n",
       "</table>\n",
       "<p>2800 rows × 4 columns</p>\n",
       "</div>"
      ],
      "text/plain": [
       "                       ID                               text  target  \\\n",
       "0     ynat-v1_train_00000   정i :파1 미사z KT( 이용기간 2e 단] Q분종U2보       4   \n",
       "1     ynat-v1_train_00001        K찰.국DLwo 로L3한N% 회장 2 T0&}송=       3   \n",
       "2     ynat-v1_train_00002             m 김정) 자주통일 새,?r열1나가야1보       2   \n",
       "3     ynat-v1_train_00003      갤노트8 주말 27만대 개통…시장은 불법 보조금 얼룩       5   \n",
       "4     ynat-v1_train_00004       pI美대선I앞두고 R2fr단 발] $비해 감시 강화       6   \n",
       "...                   ...                                ...     ...   \n",
       "2795  ynat-v1_train_02795  트럼프 폭스뉴스 앵커들 충성도 점수매겨…10점만점에 12점도       6   \n",
       "2796  ynat-v1_train_02796        삼성 갤럭시S9 정식 출시 첫 주말 이통시장 잠잠       2   \n",
       "2797  ynat-v1_train_02797   텔레그램+한D 등h亞서 2시간H다운…C버T정gf39종!2보       4   \n",
       "2798  ynat-v1_train_02798    인터뷰 류현진 친구에게 안타 맞는 것 싫어해…승부는 냉정       1   \n",
       "2799  ynat-v1_train_02799               지능정보사회 대비 국가 종합대책 마련       4   \n",
       "\n",
       "     target_name  \n",
       "0             세계  \n",
       "1           생활문화  \n",
       "2             사회  \n",
       "3           IT과학  \n",
       "4            스포츠  \n",
       "...          ...  \n",
       "2795         스포츠  \n",
       "2796          사회  \n",
       "2797          세계  \n",
       "2798          경제  \n",
       "2799          세계  \n",
       "\n",
       "[2800 rows x 4 columns]"
      ]
     },
     "execution_count": 12,
     "metadata": {},
     "output_type": "execute_result"
    }
   ],
   "source": [
    "df['text']"
   ]
  },
  {
   "cell_type": "markdown",
   "metadata": {},
   "source": [
    "# 랜덤 노이즈 제거\n",
    "데이터는 (1) 레이블이 잘못되어 있는 경우 1,400, (2) 랜덤 노이즈가 있는 경우 1,400, (3) 정상 200 케이스로 분류 가능\n",
    "\n",
    "Cleanlab 이든 레이블이 잘못된 경우를 찾기 위해서는 정상 데이터의 비율을 늘려야함\n",
    "\n",
    "따라서, 랜덤 노이즈를 정상 케이스로 돌리는 작업이 먼저 필요"
   ]
  },
  {
   "cell_type": "markdown",
   "metadata": {},
   "source": [
    "## Translation to huggingface model\n",
    "- 랜덤 노이즈를 반영해서 잘 번역하지 못하는 것 같음.\n",
    "- 구글 Translation 같은 좀 더 강한한 모델 찾아야할 듯"
   ]
  },
  {
   "cell_type": "code",
   "execution_count": 13,
   "metadata": {},
   "outputs": [
    {
     "data": {
      "application/vnd.jupyter.widget-view+json": {
       "model_id": "c19a6019762a4f32a7e55bcf20dc8444",
       "version_major": 2,
       "version_minor": 0
      },
      "text/plain": [
       "config.json:   0%|          | 0.00/638 [00:00<?, ?B/s]"
      ]
     },
     "metadata": {},
     "output_type": "display_data"
    },
    {
     "data": {
      "application/vnd.jupyter.widget-view+json": {
       "model_id": "374ba84b584e41e18b11886bf6da6486",
       "version_major": 2,
       "version_minor": 0
      },
      "text/plain": [
       "model.safetensors.index.json:   0%|          | 0.00/23.9k [00:00<?, ?B/s]"
      ]
     },
     "metadata": {},
     "output_type": "display_data"
    },
    {
     "data": {
      "application/vnd.jupyter.widget-view+json": {
       "model_id": "2f6a648c982e469ca70a0ebf10568b26",
       "version_major": 2,
       "version_minor": 0
      },
      "text/plain": [
       "Downloading shards:   0%|          | 0/3 [00:00<?, ?it/s]"
      ]
     },
     "metadata": {},
     "output_type": "display_data"
    },
    {
     "data": {
      "application/vnd.jupyter.widget-view+json": {
       "model_id": "2440e7b27edd4df798d89b14227c0c38",
       "version_major": 2,
       "version_minor": 0
      },
      "text/plain": [
       "model-00001-of-00003.safetensors:   0%|          | 0.00/4.94G [00:00<?, ?B/s]"
      ]
     },
     "metadata": {},
     "output_type": "display_data"
    },
    {
     "data": {
      "application/vnd.jupyter.widget-view+json": {
       "model_id": "7a59f2cd67cc45dfb8ded9eb784d8d9b",
       "version_major": 2,
       "version_minor": 0
      },
      "text/plain": [
       "model-00002-of-00003.safetensors:   0%|          | 0.00/5.00G [00:00<?, ?B/s]"
      ]
     },
     "metadata": {},
     "output_type": "display_data"
    },
    {
     "data": {
      "application/vnd.jupyter.widget-view+json": {
       "model_id": "b4e2fbde175645d789b2229307fb6f06",
       "version_major": 2,
       "version_minor": 0
      },
      "text/plain": [
       "model-00003-of-00003.safetensors:   0%|          | 0.00/4.54G [00:00<?, ?B/s]"
      ]
     },
     "metadata": {},
     "output_type": "display_data"
    },
    {
     "data": {
      "application/vnd.jupyter.widget-view+json": {
       "model_id": "66cbc0b8556e46f394cad54b173d2c3c",
       "version_major": 2,
       "version_minor": 0
      },
      "text/plain": [
       "Loading checkpoint shards:   0%|          | 0/3 [00:00<?, ?it/s]"
      ]
     },
     "metadata": {},
     "output_type": "display_data"
    },
    {
     "data": {
      "application/vnd.jupyter.widget-view+json": {
       "model_id": "6bf395d2412b4afc904d2514f12ba9c4",
       "version_major": 2,
       "version_minor": 0
      },
      "text/plain": [
       "generation_config.json:   0%|          | 0.00/111 [00:00<?, ?B/s]"
      ]
     },
     "metadata": {},
     "output_type": "display_data"
    },
    {
     "data": {
      "application/vnd.jupyter.widget-view+json": {
       "model_id": "6cfa0a17840542ac9e1d44cda6ce3c35",
       "version_major": 2,
       "version_minor": 0
      },
      "text/plain": [
       "tokenizer_config.json:   0%|          | 0.00/1.52k [00:00<?, ?B/s]"
      ]
     },
     "metadata": {},
     "output_type": "display_data"
    },
    {
     "data": {
      "application/vnd.jupyter.widget-view+json": {
       "model_id": "77b9c4e680b8487e9b7457fa3deddce9",
       "version_major": 2,
       "version_minor": 0
      },
      "text/plain": [
       "tokenizer.json:   0%|          | 0.00/1.80M [00:00<?, ?B/s]"
      ]
     },
     "metadata": {},
     "output_type": "display_data"
    },
    {
     "data": {
      "application/vnd.jupyter.widget-view+json": {
       "model_id": "2961b4073a0241158aa8c3cf3aeceaa0",
       "version_major": 2,
       "version_minor": 0
      },
      "text/plain": [
       "special_tokens_map.json:   0%|          | 0.00/414 [00:00<?, ?B/s]"
      ]
     },
     "metadata": {},
     "output_type": "display_data"
    }
   ],
   "source": [
    "from transformers import AutoModelForCausalLM, AutoTokenizer\n",
    "import torch\n",
    "\n",
    "repo = \"davidkim205/iris-7b\"\n",
    "model = AutoModelForCausalLM.from_pretrained(repo, torch_dtype=torch.bfloat16, device_map='auto')\n",
    "tokenizer = AutoTokenizer.from_pretrained(repo)"
   ]
  },
  {
   "cell_type": "code",
   "execution_count": 20,
   "metadata": {},
   "outputs": [],
   "source": [
    "df['token_len'] = [len(tokenizer(x)['input_ids']) for x in df['text']]"
   ]
  },
  {
   "cell_type": "code",
   "execution_count": 26,
   "metadata": {},
   "outputs": [
    {
     "data": {
      "text/plain": [
       "count    2800.000000\n",
       "mean       31.678214\n",
       "std         6.457354\n",
       "min         9.000000\n",
       "25%        28.000000\n",
       "50%        32.000000\n",
       "75%        36.000000\n",
       "max        53.000000\n",
       "Name: token_len, dtype: float64"
      ]
     },
     "execution_count": 26,
     "metadata": {},
     "output_type": "execute_result"
    }
   ],
   "source": [
    "# 아래 결과에 따라 max new token은 128로 설정\n",
    "df['token_len'].describe()"
   ]
  },
  {
   "cell_type": "code",
   "execution_count": 27,
   "metadata": {},
   "outputs": [],
   "source": [
    "def generate(prompt):\n",
    "    encoding = tokenizer(\n",
    "        prompt,\n",
    "        return_tensors='pt',\n",
    "        return_token_type_ids=False\n",
    "    ).to(\"cuda\")\n",
    "    gen_tokens = model.generate(\n",
    "        **encoding,\n",
    "        max_new_tokens=128,\n",
    "        temperature=1.0,\n",
    "        num_beams=5,\n",
    "    )\n",
    "    prompt_end_size = encoding.input_ids.shape[1]\n",
    "    result = tokenizer.decode(gen_tokens[0, prompt_end_size:])\n",
    "\n",
    "    return result\n",
    "\n",
    "\n",
    "def translate_ko2en(text):\n",
    "    prompt = f\"[INST] 다음 문장을 영어로 번역하세요.{text} [/INST]\"\n",
    "    return generate(prompt)\n",
    "\n",
    "\n",
    "def translate_en2ko(text):\n",
    "    prompt = f\"[INST] 다음 문장을 한글로 번역하세요.{text} [/INST]\"\n",
    "    return generate(prompt)"
   ]
  },
  {
   "cell_type": "code",
   "execution_count": 30,
   "metadata": {},
   "outputs": [
    {
     "name": "stderr",
     "output_type": "stream",
     "text": [
      "Setting `pad_token_id` to `eos_token_id`:None for open-end generation.\n"
     ]
    },
    {
     "name": "stdout",
     "output_type": "stream",
     "text": [
      "or_text  정i :파1 미사z KT( 이용기간 2e 단] Q분종U2보\n"
     ]
    },
    {
     "name": "stderr",
     "output_type": "stream",
     "text": [
      "Setting `pad_token_id` to `eos_token_id`:None for open-end generation.\n",
      "Setting `pad_token_id` to `eos_token_id`:None for open-end generation.\n"
     ]
    },
    {
     "name": "stdout",
     "output_type": "stream",
     "text": [
      "en_text JEONGI : FA1 MISSAZ KT (USE PERIOD 2E DAN) QDISTINCT U2BO</s>\n",
      "ko_text JEONGI : FA1 MISSAZ KT (USE PERIOD 2E DAN) QDISTINCT U2BO</s>\n",
      "or_text  K찰.국DLwo 로L3한N% 회장 2 T0&}송=\n"
     ]
    },
    {
     "name": "stderr",
     "output_type": "stream",
     "text": [
      "Setting `pad_token_id` to `eos_token_id`:None for open-end generation.\n",
      "Setting `pad_token_id` to `eos_token_id`:None for open-end generation.\n"
     ]
    },
    {
     "name": "stdout",
     "output_type": "stream",
     "text": [
      "en_text Chairman Kwak Dlwo Loh L3 Han N% 2 T0&} Song=</s>\n",
      "ko_text Kwak Dlwo Loh L3 Han N% 2 T0&} Song=</s>\n",
      "or_text  m 김정) 자주통일 새,?r열1나가야1보\n"
     ]
    },
    {
     "name": "stderr",
     "output_type": "stream",
     "text": [
      "Setting `pad_token_id` to `eos_token_id`:None for open-end generation.\n",
      "Setting `pad_token_id` to `eos_token_id`:None for open-end generation.\n"
     ]
    },
    {
     "name": "stdout",
     "output_type": "stream",
     "text": [
      "en_text (Kim Jeong) Jaju Tongil Sae,?ryeol 1nagaya 1bo</s>\n",
      "ko_text (김정) 자주통일새, 1나가야 1보</s>\n",
      "or_text  갤노트8 주말 27만대 개통…시장은 불법 보조금 얼룩\n"
     ]
    },
    {
     "name": "stderr",
     "output_type": "stream",
     "text": [
      "Setting `pad_token_id` to `eos_token_id`:None for open-end generation.\n",
      "Setting `pad_token_id` to `eos_token_id`:None for open-end generation.\n"
     ]
    },
    {
     "name": "stdout",
     "output_type": "stream",
     "text": [
      "en_text 270,000 Galaxy Note 8s opened on the weekend... The market is stained with illegal subsidies.</s>\n",
      "ko_text 주말에 270,000대의 갤럭시 노트 8이 열렸습니다... 불법 보조금으로 시장이 얼룩진 상태입니다.</s>\n",
      "or_text  pI美대선I앞두고 R2fr단 발] $비해 감시 강화\n"
     ]
    },
    {
     "name": "stderr",
     "output_type": "stream",
     "text": [
      "Setting `pad_token_id` to `eos_token_id`:None for open-end generation.\n",
      "Setting `pad_token_id` to `eos_token_id`:None for open-end generation.\n"
     ]
    },
    {
     "name": "stdout",
     "output_type": "stream",
     "text": [
      "en_text Before the 2022 FIFA World Cup, R2fr's foot $strengthened surveillance</s>\n",
      "ko_text 2022 FIFA 월드컵 이전에 R2fr의 발은 감시를 강화했습니다.</s>\n",
      "or_text  美성인 6명 중 1명꼴 배우자·연인 빚 떠안은 적 있다\n"
     ]
    },
    {
     "name": "stderr",
     "output_type": "stream",
     "text": [
      "Setting `pad_token_id` to `eos_token_id`:None for open-end generation.\n",
      "Setting `pad_token_id` to `eos_token_id`:None for open-end generation.\n"
     ]
    },
    {
     "name": "stdout",
     "output_type": "stream",
     "text": [
      "en_text One out of six American adults owes a debt to a spouse or lover.</s>\n",
      "ko_text 6명 중 1명의 미국 성인이 배우자나 연인에게 빚을 지고 있다.</s>\n",
      "or_text  프로야구~롯TKIAs광주 경기 y천취소\n"
     ]
    },
    {
     "name": "stderr",
     "output_type": "stream",
     "text": [
      "Setting `pad_token_id` to `eos_token_id`:None for open-end generation.\n",
      "Setting `pad_token_id` to `eos_token_id`:None for open-end generation.\n"
     ]
    },
    {
     "name": "stdout",
     "output_type": "stream",
     "text": [
      "en_text Professional baseball~LOTKIAs Gwangju game canceled</s>\n",
      "ko_text 프로야구~LOTKIAs 광주 경기 취소</s>\n",
      "or_text  아가메즈 33득점 우리카드 KB손해보험 완파…3위 굳...\n"
     ]
    },
    {
     "name": "stderr",
     "output_type": "stream",
     "text": [
      "Setting `pad_token_id` to `eos_token_id`:None for open-end generation.\n",
      "Setting `pad_token_id` to `eos_token_id`:None for open-end generation.\n"
     ]
    },
    {
     "name": "stdout",
     "output_type": "stream",
     "text": [
      "en_text Agamez 33 goals Our Card KB Insurance Overwhelming... 3rd place.</s>\n",
      "ko_text 아게임즈 33골 우리 카드 KB 보험 압도적... 3위.</s>\n",
      "or_text  朴대통령 얼마나 많이 놀라셨어요…경주 지진현장 방문종합\n"
     ]
    },
    {
     "name": "stderr",
     "output_type": "stream",
     "text": [
      "Setting `pad_token_id` to `eos_token_id`:None for open-end generation.\n",
      "Setting `pad_token_id` to `eos_token_id`:None for open-end generation.\n"
     ]
    },
    {
     "name": "stdout",
     "output_type": "stream",
     "text": [
      "en_text How much did President Bid surprise you...comprehensive visit to the Gyeongju earthquake site</s>\n",
      "ko_text 비드 대통령이 경주 지진 현장을 포괄적으로 방문한 것이 얼마나 놀라웠나요?</s>\n",
      "or_text  듀얼심 아이폰 하반기 출시설 솔솔…알뜰폰 기대감\n"
     ]
    },
    {
     "name": "stderr",
     "output_type": "stream",
     "text": [
      "Setting `pad_token_id` to `eos_token_id`:None for open-end generation.\n",
      "Setting `pad_token_id` to `eos_token_id`:None for open-end generation.\n"
     ]
    },
    {
     "name": "stdout",
     "output_type": "stream",
     "text": [
      "en_text I'm looking forward to the release of the dual-sim iPhone in the second half of the year...</s>\n",
      "ko_text 저는 올 하반기 듀얼 심 아이폰의 출시를 기대하고 있습니다...</s>\n",
      "or_text  oi 매력 R모h츠a열#w3약 >l·주가 고Q/진\n"
     ]
    },
    {
     "name": "stderr",
     "output_type": "stream",
     "text": [
      "Setting `pad_token_id` to `eos_token_id`:None for open-end generation.\n"
     ]
    },
    {
     "name": "stdout",
     "output_type": "stream",
     "text": [
      "en_text WOI Attractive RMohwtsa열#w3약 >l·주가 고Q/진</s>\n",
      "ko_text WOI Attractive RMohwtsa열#w3약 >l·주가 고Q/진</s>\n"
     ]
    }
   ],
   "source": [
    "en_text_lst = []\n",
    "ko_text_lst = []\n",
    "for i, row in df.iterrows():\n",
    "    text = row['text']\n",
    "    print('or_text ', text)\n",
    "    en_text = translate_ko2en(text)\n",
    "    en_text_lst.append(en_text)\n",
    "    ko_text = translate_en2ko(en_text)\n",
    "    ko_text_lst.append(ko_text_lst)\n",
    "    print('en_text', en_text)\n",
    "    print('ko_text', ko_text)\n",
    "    if i == 10:\n",
    "        break"
   ]
  },
  {
   "cell_type": "markdown",
   "metadata": {},
   "source": [
    "# 레이블 수정"
   ]
  },
  {
   "cell_type": "markdown",
   "metadata": {},
   "source": [
    "### LLM 기반 레이블 수정"
   ]
  },
  {
   "cell_type": "code",
   "execution_count": 31,
   "metadata": {},
   "outputs": [],
   "source": [
    "import torch\n",
    "from transformers import AutoModelForCausalLM, AutoTokenizer"
   ]
  },
  {
   "cell_type": "code",
   "execution_count": 33,
   "metadata": {},
   "outputs": [
    {
     "data": {
      "application/vnd.jupyter.widget-view+json": {
       "model_id": "8d9b94bb68c649fcb5e4c65b2e6076d7",
       "version_major": 2,
       "version_minor": 0
      },
      "text/plain": [
       "VBox(children=(HTML(value='<center> <img\\nsrc=https://huggingface.co/front/assets/huggingface_logo-noborder.sv…"
      ]
     },
     "metadata": {},
     "output_type": "display_data"
    },
    {
     "name": "stderr",
     "output_type": "stream",
     "text": [
      "Token has not been saved to git credential helper.\n"
     ]
    }
   ],
   "source": [
    "from huggingface_hub import login\n",
    "\n",
    "login()"
   ]
  },
  {
   "cell_type": "code",
   "execution_count": 34,
   "metadata": {},
   "outputs": [
    {
     "data": {
      "application/vnd.jupyter.widget-view+json": {
       "model_id": "82994cf6f49448f29e4c7affe23a7c18",
       "version_major": 2,
       "version_minor": 0
      },
      "text/plain": [
       "config.json:   0%|          | 0.00/878 [00:00<?, ?B/s]"
      ]
     },
     "metadata": {},
     "output_type": "display_data"
    },
    {
     "data": {
      "application/vnd.jupyter.widget-view+json": {
       "model_id": "b4e4ce5dd4bd40fb8fee9ec9e8d7db00",
       "version_major": 2,
       "version_minor": 0
      },
      "text/plain": [
       "configuration_exaone.py:   0%|          | 0.00/10.5k [00:00<?, ?B/s]"
      ]
     },
     "metadata": {},
     "output_type": "display_data"
    },
    {
     "name": "stderr",
     "output_type": "stream",
     "text": [
      "A new version of the following files was downloaded from https://huggingface.co/LGAI-EXAONE/EXAONE-3.0-7.8B-Instruct:\n",
      "- configuration_exaone.py\n",
      ". Make sure to double-check they do not contain any added malicious code. To avoid downloading new versions of the code file, you can pin a revision.\n"
     ]
    },
    {
     "data": {
      "application/vnd.jupyter.widget-view+json": {
       "model_id": "34d2f159cde4409484734eceba89567f",
       "version_major": 2,
       "version_minor": 0
      },
      "text/plain": [
       "modeling_exaone.py:   0%|          | 0.00/81.1k [00:00<?, ?B/s]"
      ]
     },
     "metadata": {},
     "output_type": "display_data"
    },
    {
     "name": "stderr",
     "output_type": "stream",
     "text": [
      "A new version of the following files was downloaded from https://huggingface.co/LGAI-EXAONE/EXAONE-3.0-7.8B-Instruct:\n",
      "- modeling_exaone.py\n",
      ". Make sure to double-check they do not contain any added malicious code. To avoid downloading new versions of the code file, you can pin a revision.\n"
     ]
    },
    {
     "data": {
      "application/vnd.jupyter.widget-view+json": {
       "model_id": "eaacc6946d7345949c6c281ad66509de",
       "version_major": 2,
       "version_minor": 0
      },
      "text/plain": [
       "model.safetensors.index.json:   0%|          | 0.00/23.7k [00:00<?, ?B/s]"
      ]
     },
     "metadata": {},
     "output_type": "display_data"
    },
    {
     "data": {
      "application/vnd.jupyter.widget-view+json": {
       "model_id": "a9914a29cf6548aaa5f7a71db88dfc48",
       "version_major": 2,
       "version_minor": 0
      },
      "text/plain": [
       "Downloading shards:   0%|          | 0/7 [00:00<?, ?it/s]"
      ]
     },
     "metadata": {},
     "output_type": "display_data"
    },
    {
     "data": {
      "application/vnd.jupyter.widget-view+json": {
       "model_id": "073c2187000a404eaf058d422f337dd4",
       "version_major": 2,
       "version_minor": 0
      },
      "text/plain": [
       "model-00001-of-00007.safetensors:   0%|          | 0.00/4.93G [00:00<?, ?B/s]"
      ]
     },
     "metadata": {},
     "output_type": "display_data"
    },
    {
     "data": {
      "application/vnd.jupyter.widget-view+json": {
       "model_id": "f834654d39d541acb18e8b497c2cfc9c",
       "version_major": 2,
       "version_minor": 0
      },
      "text/plain": [
       "model-00002-of-00007.safetensors:   0%|          | 0.00/5.00G [00:00<?, ?B/s]"
      ]
     },
     "metadata": {},
     "output_type": "display_data"
    },
    {
     "data": {
      "application/vnd.jupyter.widget-view+json": {
       "model_id": "2fde2441fd744880820aae6bb5c36a88",
       "version_major": 2,
       "version_minor": 0
      },
      "text/plain": [
       "model-00003-of-00007.safetensors:   0%|          | 0.00/5.00G [00:00<?, ?B/s]"
      ]
     },
     "metadata": {},
     "output_type": "display_data"
    },
    {
     "data": {
      "application/vnd.jupyter.widget-view+json": {
       "model_id": "9a4be8a453e348bba7f258fa39e53f46",
       "version_major": 2,
       "version_minor": 0
      },
      "text/plain": [
       "model-00004-of-00007.safetensors:   0%|          | 0.00/4.83G [00:00<?, ?B/s]"
      ]
     },
     "metadata": {},
     "output_type": "display_data"
    },
    {
     "data": {
      "application/vnd.jupyter.widget-view+json": {
       "model_id": "3e61295c051b47aca7cbd72ce256c492",
       "version_major": 2,
       "version_minor": 0
      },
      "text/plain": [
       "model-00005-of-00007.safetensors:   0%|          | 0.00/5.00G [00:00<?, ?B/s]"
      ]
     },
     "metadata": {},
     "output_type": "display_data"
    },
    {
     "data": {
      "application/vnd.jupyter.widget-view+json": {
       "model_id": "2007a8b5a6104df4ac760473e78565ab",
       "version_major": 2,
       "version_minor": 0
      },
      "text/plain": [
       "model-00006-of-00007.safetensors:   0%|          | 0.00/4.83G [00:00<?, ?B/s]"
      ]
     },
     "metadata": {},
     "output_type": "display_data"
    },
    {
     "data": {
      "application/vnd.jupyter.widget-view+json": {
       "model_id": "74bb4b9bc80c4003966b2c06f1ddee0d",
       "version_major": 2,
       "version_minor": 0
      },
      "text/plain": [
       "model-00007-of-00007.safetensors:   0%|          | 0.00/1.68G [00:00<?, ?B/s]"
      ]
     },
     "metadata": {},
     "output_type": "display_data"
    },
    {
     "data": {
      "application/vnd.jupyter.widget-view+json": {
       "model_id": "efbbd581cc6b429c9f3f025c5256be5b",
       "version_major": 2,
       "version_minor": 0
      },
      "text/plain": [
       "Loading checkpoint shards:   0%|          | 0/7 [00:00<?, ?it/s]"
      ]
     },
     "metadata": {},
     "output_type": "display_data"
    },
    {
     "data": {
      "application/vnd.jupyter.widget-view+json": {
       "model_id": "63474aa963c8411a8fcb0fd94d49c5bd",
       "version_major": 2,
       "version_minor": 0
      },
      "text/plain": [
       "generation_config.json:   0%|          | 0.00/132 [00:00<?, ?B/s]"
      ]
     },
     "metadata": {},
     "output_type": "display_data"
    }
   ],
   "source": [
    "model = AutoModelForCausalLM.from_pretrained(\n",
    "    \"LGAI-EXAONE/EXAONE-3.0-7.8B-Instruct\",\n",
    "    torch_dtype=torch.bfloat16,\n",
    "    trust_remote_code=True,\n",
    "    device_map=\"auto\"\n",
    ")\n",
    "\n",
    "# EXAONE_TEMP = '''[|system|] You are EXAONE model from LG AI Research, a helpful assistant. [|endofturn|]\n",
    "# [|user|] Use the following pieces of context to answer the question at the end. If you don't know the answer, just say that \"없음\", don't try to make up an answer. Please answer in short answer. Keep the answer as concise.\n",
    "# {}\n",
    "# Question:{}\n",
    "# [|assistant|]{}[|endofturn|]'''"
   ]
  },
  {
   "cell_type": "code",
   "execution_count": 36,
   "metadata": {},
   "outputs": [
    {
     "name": "stdout",
     "output_type": "stream",
     "text": [
      "[|system|]You are EXAONE model from LG AI Research, a helpful assistant.[|endofturn|]\n",
      "[|user|]너의 소원을 말해봐\n",
      "[|assistant|]EXAONE 3.0 모델로서, 저의 주된 목적은 사용자에게 정확하고 유용한 정보를 제공하는 것입니다. 저는 다양한 질문에 답변하고, 문제를 해결하며, 학습과 연구를 돕기 위해 설계되었습니다. 제가 도울 수 있는 다른 방법이 있다면 언제든지 말씀해 주세요![|endofturn|]\n"
     ]
    }
   ],
   "source": [
    "tokenizer = AutoTokenizer.from_pretrained(\"LGAI-EXAONE/EXAONE-3.0-7.8B-Instruct\")\n",
    "\n",
    "# Choose your prompt\n",
    "prompt = \"너의 소원을 말해봐\"   # Korean example\n",
    "\n",
    "messages = [\n",
    "    {\"role\": \"system\", \n",
    "     \"content\": \"You are EXAONE model from LG AI Research, a helpful assistant.\"},\n",
    "    {\"role\": \"user\", \"content\": prompt}\n",
    "]\n",
    "input_ids = tokenizer.apply_chat_template(\n",
    "    messages,\n",
    "    tokenize=True,\n",
    "    add_generation_prompt=True,\n",
    "    return_tensors=\"pt\"\n",
    ")\n",
    "\n",
    "output = model.generate(\n",
    "    input_ids.to(\"cuda\"),\n",
    "    eos_token_id=tokenizer.eos_token_id,\n",
    "    max_new_tokens=128\n",
    ")\n",
    "print(tokenizer.decode(output[0]))"
   ]
  },
  {
   "cell_type": "code",
   "execution_count": 37,
   "metadata": {},
   "outputs": [],
   "source": [
    "input_ids = tokenizer.apply_chat_template(\n",
    "    messages,\n",
    "    tokenize=False,\n",
    "    add_generation_prompt=True,\n",
    "    # return_tensors=\"pt\"\n",
    ")"
   ]
  },
  {
   "cell_type": "code",
   "execution_count": 38,
   "metadata": {},
   "outputs": [
    {
     "data": {
      "text/plain": [
       "'[|system|]You are EXAONE model from LG AI Research, a helpful assistant.[|endofturn|]\\n[|user|]너의 소원을 말해봐\\n[|assistant|]'"
      ]
     },
     "execution_count": 38,
     "metadata": {},
     "output_type": "execute_result"
    }
   ],
   "source": [
    "input_ids"
   ]
  },
  {
   "cell_type": "code",
   "execution_count": null,
   "metadata": {},
   "outputs": [],
   "source": [
    "label_dic = {0:\"정치\", 1:\"경제\", 2:\"사회\", 3:\"생활문화\", 4:\"세계\", 5:\"IT과학\", 6:\"스포츠\"}"
   ]
  },
  {
   "cell_type": "code",
   "execution_count": 86,
   "metadata": {},
   "outputs": [],
   "source": [
    "EXAONE_FEW_SHOT_TEMP = '''[|system|] You are EXAONE model from LG AI Research, a helpful assistant. [|endofturn|]\n",
    "[|user|] 다음 뉴스의 헤드라인을 보고 기사가 어떤 주제인제 말해줘. 주제는 정치, 경제, 사회, 생활문화, 세계, IT과학, 스포츠가 있어. 답변은 단답으로 해줘.\n",
    "{}\n",
    "[|assistant|]{}[|endofturn|]'''"
   ]
  },
  {
   "cell_type": "code",
   "execution_count": 87,
   "metadata": {},
   "outputs": [],
   "source": [
    "# LGAI-EXAONE/EXAONE-3.0-7.8B-Instruct\n",
    "# 대한항공 우리카드 꺾고 3연승…GS칼텍스 1라운드 전승종합 / 스포츠\n",
    "# 네이버 모바일 연예판에도 AI 콘텐츠 추천 시스템 적용 / 페이스북 인터넷 드론 아퀼라 실물 첫 시험비행 성공 / IT과학\n",
    "# NH투자 1월 옵션 만기일 매도 우세 / 금융시장 충격 일단 소강국면…주가 낙폭 줄고 환율도 하락 / 경제\n",
    "# 황총리 각 부처 비상대비태세 철저히 강구해야 / 정치\n",
    "# 월미도 새 모노레일 내년 추석엔 달릴 수 있을까 / 사회\n",
    "# 트럼프 한국 등 방위비분담금 더 내라…양방향 도로 돼야 / 세계 \n",
    "# 벚꽃 와인 마시며 봄 즐기세요 / 생활문화\n",
    "\n",
    "few_text = [\"황총리 각 부처 비상대비태세 철저히 강구해야\", \"금융시장 충격 일단 소강국면…주가 낙폭 줄고 환율도 하락\", \"월미도 새 모노레일 내년 추석엔 달릴 수 있을까\", \"벚꽃 와인 마시며 봄 즐기세요\", \"트럼프 한국 등 방위비분담금 더 내라…양방향 도로 돼야\", \"네이버 모바일 연예판에도 AI 콘텐츠 추천 시스템 적용\", \"대한항공 우리카드 꺾고 3연승…GS칼텍스 1라운드 전승종합\"]\n",
    "few_topic = [\"정치\", \"경제\", \"사회\", \"생활문화\", \"세계\", \"IT과학\", \"스포츠\"]"
   ]
  },
  {
   "cell_type": "code",
   "execution_count": 88,
   "metadata": {},
   "outputs": [],
   "source": [
    "few_shop_promt = ''\n",
    "for text, topic in zip(few_text, few_topic):\n",
    "    few_shop_promt = few_shop_promt + EXAONE_FEW_SHOT_TEMP.format(text, topic)"
   ]
  },
  {
   "cell_type": "code",
   "execution_count": 89,
   "metadata": {},
   "outputs": [
    {
     "data": {
      "text/plain": [
       "'[|system|] You are EXAONE model from LG AI Research, a helpful assistant. [|endofturn|]\\n[|user|] 다음 뉴스의 헤드라인을 보고 기사가 어떤 주제인제 말해줘. 주제는 정치, 경제, 사회, 생활문화, 세계, IT과학, 스포츠가 있어. 답변은 단답으로 해줘.\\n황총리 각 부처 비상대비태세 철저히 강구해야\\n[|assistant|]정치[|endofturn|][|system|] You are EXAONE model from LG AI Research, a helpful assistant. [|endofturn|]\\n[|user|] 다음 뉴스의 헤드라인을 보고 기사가 어떤 주제인제 말해줘. 주제는 정치, 경제, 사회, 생활문화, 세계, IT과학, 스포츠가 있어. 답변은 단답으로 해줘.\\n금융시장 충격 일단 소강국면…주가 낙폭 줄고 환율도 하락\\n[|assistant|]경제[|endofturn|][|system|] You are EXAONE model from LG AI Research, a helpful assistant. [|endofturn|]\\n[|user|] 다음 뉴스의 헤드라인을 보고 기사가 어떤 주제인제 말해줘. 주제는 정치, 경제, 사회, 생활문화, 세계, IT과학, 스포츠가 있어. 답변은 단답으로 해줘.\\n월미도 새 모노레일 내년 추석엔 달릴 수 있을까\\n[|assistant|]사회[|endofturn|][|system|] You are EXAONE model from LG AI Research, a helpful assistant. [|endofturn|]\\n[|user|] 다음 뉴스의 헤드라인을 보고 기사가 어떤 주제인제 말해줘. 주제는 정치, 경제, 사회, 생활문화, 세계, IT과학, 스포츠가 있어. 답변은 단답으로 해줘.\\n벚꽃 와인 마시며 봄 즐기세요\\n[|assistant|]생활문화[|endofturn|][|system|] You are EXAONE model from LG AI Research, a helpful assistant. [|endofturn|]\\n[|user|] 다음 뉴스의 헤드라인을 보고 기사가 어떤 주제인제 말해줘. 주제는 정치, 경제, 사회, 생활문화, 세계, IT과학, 스포츠가 있어. 답변은 단답으로 해줘.\\n트럼프 한국 등 방위비분담금 더 내라…양방향 도로 돼야\\n[|assistant|]세계[|endofturn|][|system|] You are EXAONE model from LG AI Research, a helpful assistant. [|endofturn|]\\n[|user|] 다음 뉴스의 헤드라인을 보고 기사가 어떤 주제인제 말해줘. 주제는 정치, 경제, 사회, 생활문화, 세계, IT과학, 스포츠가 있어. 답변은 단답으로 해줘.\\n네이버 모바일 연예판에도 AI 콘텐츠 추천 시스템 적용\\n[|assistant|]IT과학[|endofturn|][|system|] You are EXAONE model from LG AI Research, a helpful assistant. [|endofturn|]\\n[|user|] 다음 뉴스의 헤드라인을 보고 기사가 어떤 주제인제 말해줘. 주제는 정치, 경제, 사회, 생활문화, 세계, IT과학, 스포츠가 있어. 답변은 단답으로 해줘.\\n대한항공 우리카드 꺾고 3연승…GS칼텍스 1라운드 전승종합\\n[|assistant|]스포츠[|endofturn|]'"
      ]
     },
     "execution_count": 89,
     "metadata": {},
     "output_type": "execute_result"
    }
   ],
   "source": [
    "few_shop_promt"
   ]
  },
  {
   "cell_type": "code",
   "execution_count": 90,
   "metadata": {},
   "outputs": [],
   "source": [
    "EXAONE_TEMP = '''[|system|] You are EXAONE model from LG AI Research, a helpful assistant. [|endofturn|]\n",
    "[|user|] 다음 뉴스의 헤드라인을 보고 기사가 어떤 주제인제 말해줘. 주제는 정치, 경제, 사회, 생활문화, 세계, IT과학, 스포츠가 있어. 답변은 단답으로 해줘.\n",
    "{}\n",
    "[|assistant|]'''"
   ]
  },
  {
   "cell_type": "code",
   "execution_count": 118,
   "metadata": {},
   "outputs": [
    {
     "data": {
      "text/plain": [
       "'[|system|] You are EXAONE model from LG AI Research, a helpful assistant. [|endofturn|]\\n[|user|] 다음 뉴스의 헤드라인을 보고 기사가 어떤 주제인제 말해줘. 주제는 정치, 경제, 사회, 생활문화, 세계, IT과학, 스포츠가 있어. 답변은 단답으로 해줘.\\n코로나 r대^등교)모습\\n[|assistant|]'"
      ]
     },
     "execution_count": 118,
     "metadata": {},
     "output_type": "execute_result"
    }
   ],
   "source": [
    "test_text = '코로나 r대^등교)모습'\n",
    "test_prompt = EXAONE_TEMP.format(test_text)\n",
    "test_prompt"
   ]
  },
  {
   "cell_type": "code",
   "execution_count": 119,
   "metadata": {},
   "outputs": [
    {
     "data": {
      "text/plain": [
       "'[|system|] You are EXAONE model from LG AI Research, a helpful assistant. [|endofturn|]\\n[|user|] 다음 뉴스의 헤드라인을 보고 기사가 어떤 주제인제 말해줘. 주제는 정치, 경제, 사회, 생활문화, 세계, IT과학, 스포츠가 있어. 답변은 단답으로 해줘.\\n황총리 각 부처 비상대비태세 철저히 강구해야\\n[|assistant|]정치[|endofturn|][|system|] You are EXAONE model from LG AI Research, a helpful assistant. [|endofturn|]\\n[|user|] 다음 뉴스의 헤드라인을 보고 기사가 어떤 주제인제 말해줘. 주제는 정치, 경제, 사회, 생활문화, 세계, IT과학, 스포츠가 있어. 답변은 단답으로 해줘.\\n금융시장 충격 일단 소강국면…주가 낙폭 줄고 환율도 하락\\n[|assistant|]경제[|endofturn|][|system|] You are EXAONE model from LG AI Research, a helpful assistant. [|endofturn|]\\n[|user|] 다음 뉴스의 헤드라인을 보고 기사가 어떤 주제인제 말해줘. 주제는 정치, 경제, 사회, 생활문화, 세계, IT과학, 스포츠가 있어. 답변은 단답으로 해줘.\\n월미도 새 모노레일 내년 추석엔 달릴 수 있을까\\n[|assistant|]사회[|endofturn|][|system|] You are EXAONE model from LG AI Research, a helpful assistant. [|endofturn|]\\n[|user|] 다음 뉴스의 헤드라인을 보고 기사가 어떤 주제인제 말해줘. 주제는 정치, 경제, 사회, 생활문화, 세계, IT과학, 스포츠가 있어. 답변은 단답으로 해줘.\\n벚꽃 와인 마시며 봄 즐기세요\\n[|assistant|]생활문화[|endofturn|][|system|] You are EXAONE model from LG AI Research, a helpful assistant. [|endofturn|]\\n[|user|] 다음 뉴스의 헤드라인을 보고 기사가 어떤 주제인제 말해줘. 주제는 정치, 경제, 사회, 생활문화, 세계, IT과학, 스포츠가 있어. 답변은 단답으로 해줘.\\n트럼프 한국 등 방위비분담금 더 내라…양방향 도로 돼야\\n[|assistant|]세계[|endofturn|][|system|] You are EXAONE model from LG AI Research, a helpful assistant. [|endofturn|]\\n[|user|] 다음 뉴스의 헤드라인을 보고 기사가 어떤 주제인제 말해줘. 주제는 정치, 경제, 사회, 생활문화, 세계, IT과학, 스포츠가 있어. 답변은 단답으로 해줘.\\n네이버 모바일 연예판에도 AI 콘텐츠 추천 시스템 적용\\n[|assistant|]IT과학[|endofturn|][|system|] You are EXAONE model from LG AI Research, a helpful assistant. [|endofturn|]\\n[|user|] 다음 뉴스의 헤드라인을 보고 기사가 어떤 주제인제 말해줘. 주제는 정치, 경제, 사회, 생활문화, 세계, IT과학, 스포츠가 있어. 답변은 단답으로 해줘.\\n대한항공 우리카드 꺾고 3연승…GS칼텍스 1라운드 전승종합\\n[|assistant|]스포츠[|endofturn|][|system|] You are EXAONE model from LG AI Research, a helpful assistant. [|endofturn|]\\n[|user|] 다음 뉴스의 헤드라인을 보고 기사가 어떤 주제인제 말해줘. 주제는 정치, 경제, 사회, 생활문화, 세계, IT과학, 스포츠가 있어. 답변은 단답으로 해줘.\\n코로나 r대^등교)모습\\n[|assistant|]'"
      ]
     },
     "execution_count": 119,
     "metadata": {},
     "output_type": "execute_result"
    }
   ],
   "source": [
    "few_shop_promt + test_prompt"
   ]
  },
  {
   "cell_type": "code",
   "execution_count": 120,
   "metadata": {},
   "outputs": [],
   "source": [
    "input_ids = tokenizer(few_shop_promt + test_prompt, return_tensors=\"pt\")['input_ids']"
   ]
  },
  {
   "cell_type": "code",
   "execution_count": 123,
   "metadata": {},
   "outputs": [
    {
     "name": "stdout",
     "output_type": "stream",
     "text": [
      "[|system|] You are EXAONE model from LG AI Research, a helpful assistant. [|endofturn|]\n",
      "[|user|] 다음 뉴스의 헤드라인을 보고 기사가 어떤 주제인제 말해줘. 주제는 정치, 경제, 사회, 생활문화, 세계, IT과학, 스포츠가 있어. 답변은 단답으로 해줘.\n",
      "황총리 각 부처 비상대비태세 철저히 강구해야\n",
      "[|assistant|]정치[|endofturn|][|system|] You are EXAONE model from LG AI Research, a helpful assistant. [|endofturn|]\n",
      "[|user|] 다음 뉴스의 헤드라인을 보고 기사가 어떤 주제인제 말해줘. 주제는 정치, 경제, 사회, 생활문화, 세계, IT과학, 스포츠가 있어. 답변은 단답으로 해줘.\n",
      "금융시장 충격 일단 소강국면...주가 낙폭 줄고 환율도 하락\n",
      "[|assistant|]경제[|endofturn|][|system|] You are EXAONE model from LG AI Research, a helpful assistant. [|endofturn|]\n",
      "[|user|] 다음 뉴스의 헤드라인을 보고 기사가 어떤 주제인제 말해줘. 주제는 정치, 경제, 사회, 생활문화, 세계, IT과학, 스포츠가 있어. 답변은 단답으로 해줘.\n",
      "월미도 새 모노레일 내년 추석엔 달릴 수 있을까\n",
      "[|assistant|]사회[|endofturn|][|system|] You are EXAONE model from LG AI Research, a helpful assistant. [|endofturn|]\n",
      "[|user|] 다음 뉴스의 헤드라인을 보고 기사가 어떤 주제인제 말해줘. 주제는 정치, 경제, 사회, 생활문화, 세계, IT과학, 스포츠가 있어. 답변은 단답으로 해줘.\n",
      "벚꽃 와인 마시며 봄 즐기세요\n",
      "[|assistant|]생활문화[|endofturn|][|system|] You are EXAONE model from LG AI Research, a helpful assistant. [|endofturn|]\n",
      "[|user|] 다음 뉴스의 헤드라인을 보고 기사가 어떤 주제인제 말해줘. 주제는 정치, 경제, 사회, 생활문화, 세계, IT과학, 스포츠가 있어. 답변은 단답으로 해줘.\n",
      "트럼프 한국 등 방위비분담금 더 내라...양방향 도로 돼야\n",
      "[|assistant|]세계[|endofturn|][|system|] You are EXAONE model from LG AI Research, a helpful assistant. [|endofturn|]\n",
      "[|user|] 다음 뉴스의 헤드라인을 보고 기사가 어떤 주제인제 말해줘. 주제는 정치, 경제, 사회, 생활문화, 세계, IT과학, 스포츠가 있어. 답변은 단답으로 해줘.\n",
      "네이버 모바일 연예판에도 AI 콘텐츠 추천 시스템 적용\n",
      "[|assistant|]IT과학[|endofturn|][|system|] You are EXAONE model from LG AI Research, a helpful assistant. [|endofturn|]\n",
      "[|user|] 다음 뉴스의 헤드라인을 보고 기사가 어떤 주제인제 말해줘. 주제는 정치, 경제, 사회, 생활문화, 세계, IT과학, 스포츠가 있어. 답변은 단답으로 해줘.\n",
      "대한항공 우리카드 꺾고 3연승...GS칼텍스 1라운드 전승종합\n",
      "[|assistant|]스포츠[|endofturn|][|system|] You are EXAONE model from LG AI Research, a helpful assistant. [|endofturn|]\n",
      "[|user|] 다음 뉴스의 헤드라인을 보고 기사가 어떤 주제인제 말해줘. 주제는 정치, 경제, 사회, 생활문화, 세계, IT과학, 스포츠가 있어. 답변은 단답으로 해줘.\n",
      "코로나 r대^등교)모습\n",
      "[|assistant|]생활문화\n"
     ]
    }
   ],
   "source": [
    "output = model.generate(\n",
    "    input_ids.to(\"cuda\"),\n",
    "    eos_token_id=tokenizer.eos_token_id,\n",
    "    max_new_tokens=2\n",
    ")\n",
    "print(tokenizer.decode(output[0]))"
   ]
  },
  {
   "cell_type": "code",
   "execution_count": 107,
   "metadata": {},
   "outputs": [
    {
     "data": {
      "text/plain": [
       "'[|system|] You are EXAONE model from LG AI Research, a helpful assistant. [|endofturn|]\\n[|user|] 다음 뉴스의 헤드라인을 보고 기사가 어떤 주제인제 말해줘. 주제는 정치, 경제, 사회, 생활문화, 세계, IT과학, 스포츠가 있어. 답변은 단답으로 해줘.\\n아시안게임 목소리 높인 박항서 베트남이 일본 못 이길...\\n[|assistant|]'"
      ]
     },
     "execution_count": 107,
     "metadata": {},
     "output_type": "execute_result"
    }
   ],
   "source": [
    "test_text = '아시안게임 목소리 높인 박항서 베트남이 일본 못 이길...'\n",
    "test_prompt = EXAONE_TEMP.format(test_text)\n",
    "test_prompt"
   ]
  },
  {
   "cell_type": "code",
   "execution_count": 108,
   "metadata": {},
   "outputs": [
    {
     "data": {
      "text/plain": [
       "'[|system|] You are EXAONE model from LG AI Research, a helpful assistant. [|endofturn|]\\n[|user|] 다음 뉴스의 헤드라인을 보고 기사가 어떤 주제인제 말해줘. 주제는 정치, 경제, 사회, 생활문화, 세계, IT과학, 스포츠가 있어. 답변은 단답으로 해줘.\\n황총리 각 부처 비상대비태세 철저히 강구해야\\n[|assistant|]정치[|endofturn|][|system|] You are EXAONE model from LG AI Research, a helpful assistant. [|endofturn|]\\n[|user|] 다음 뉴스의 헤드라인을 보고 기사가 어떤 주제인제 말해줘. 주제는 정치, 경제, 사회, 생활문화, 세계, IT과학, 스포츠가 있어. 답변은 단답으로 해줘.\\n금융시장 충격 일단 소강국면…주가 낙폭 줄고 환율도 하락\\n[|assistant|]경제[|endofturn|][|system|] You are EXAONE model from LG AI Research, a helpful assistant. [|endofturn|]\\n[|user|] 다음 뉴스의 헤드라인을 보고 기사가 어떤 주제인제 말해줘. 주제는 정치, 경제, 사회, 생활문화, 세계, IT과학, 스포츠가 있어. 답변은 단답으로 해줘.\\n월미도 새 모노레일 내년 추석엔 달릴 수 있을까\\n[|assistant|]사회[|endofturn|][|system|] You are EXAONE model from LG AI Research, a helpful assistant. [|endofturn|]\\n[|user|] 다음 뉴스의 헤드라인을 보고 기사가 어떤 주제인제 말해줘. 주제는 정치, 경제, 사회, 생활문화, 세계, IT과학, 스포츠가 있어. 답변은 단답으로 해줘.\\n벚꽃 와인 마시며 봄 즐기세요\\n[|assistant|]생활문화[|endofturn|][|system|] You are EXAONE model from LG AI Research, a helpful assistant. [|endofturn|]\\n[|user|] 다음 뉴스의 헤드라인을 보고 기사가 어떤 주제인제 말해줘. 주제는 정치, 경제, 사회, 생활문화, 세계, IT과학, 스포츠가 있어. 답변은 단답으로 해줘.\\n트럼프 한국 등 방위비분담금 더 내라…양방향 도로 돼야\\n[|assistant|]세계[|endofturn|][|system|] You are EXAONE model from LG AI Research, a helpful assistant. [|endofturn|]\\n[|user|] 다음 뉴스의 헤드라인을 보고 기사가 어떤 주제인제 말해줘. 주제는 정치, 경제, 사회, 생활문화, 세계, IT과학, 스포츠가 있어. 답변은 단답으로 해줘.\\n네이버 모바일 연예판에도 AI 콘텐츠 추천 시스템 적용\\n[|assistant|]IT과학[|endofturn|][|system|] You are EXAONE model from LG AI Research, a helpful assistant. [|endofturn|]\\n[|user|] 다음 뉴스의 헤드라인을 보고 기사가 어떤 주제인제 말해줘. 주제는 정치, 경제, 사회, 생활문화, 세계, IT과학, 스포츠가 있어. 답변은 단답으로 해줘.\\n대한항공 우리카드 꺾고 3연승…GS칼텍스 1라운드 전승종합\\n[|assistant|]스포츠[|endofturn|][|system|] You are EXAONE model from LG AI Research, a helpful assistant. [|endofturn|]\\n[|user|] 다음 뉴스의 헤드라인을 보고 기사가 어떤 주제인제 말해줘. 주제는 정치, 경제, 사회, 생활문화, 세계, IT과학, 스포츠가 있어. 답변은 단답으로 해줘.\\n아시안게임 목소리 높인 박항서 베트남이 일본 못 이길...\\n[|assistant|]'"
      ]
     },
     "execution_count": 108,
     "metadata": {},
     "output_type": "execute_result"
    }
   ],
   "source": [
    "few_shop_promt + test_prompt"
   ]
  },
  {
   "cell_type": "code",
   "execution_count": 109,
   "metadata": {},
   "outputs": [],
   "source": [
    "input_ids = tokenizer(few_shop_promt + test_prompt, return_tensors=\"pt\")['input_ids']"
   ]
  },
  {
   "cell_type": "code",
   "execution_count": 110,
   "metadata": {},
   "outputs": [
    {
     "name": "stdout",
     "output_type": "stream",
     "text": [
      "[|system|] You are EXAONE model from LG AI Research, a helpful assistant. [|endofturn|]\n",
      "[|user|] 다음 뉴스의 헤드라인을 보고 기사가 어떤 주제인제 말해줘. 주제는 정치, 경제, 사회, 생활문화, 세계, IT과학, 스포츠가 있어. 답변은 단답으로 해줘.\n",
      "황총리 각 부처 비상대비태세 철저히 강구해야\n",
      "[|assistant|]정치[|endofturn|][|system|] You are EXAONE model from LG AI Research, a helpful assistant. [|endofturn|]\n",
      "[|user|] 다음 뉴스의 헤드라인을 보고 기사가 어떤 주제인제 말해줘. 주제는 정치, 경제, 사회, 생활문화, 세계, IT과학, 스포츠가 있어. 답변은 단답으로 해줘.\n",
      "금융시장 충격 일단 소강국면...주가 낙폭 줄고 환율도 하락\n",
      "[|assistant|]경제[|endofturn|][|system|] You are EXAONE model from LG AI Research, a helpful assistant. [|endofturn|]\n",
      "[|user|] 다음 뉴스의 헤드라인을 보고 기사가 어떤 주제인제 말해줘. 주제는 정치, 경제, 사회, 생활문화, 세계, IT과학, 스포츠가 있어. 답변은 단답으로 해줘.\n",
      "월미도 새 모노레일 내년 추석엔 달릴 수 있을까\n",
      "[|assistant|]사회[|endofturn|][|system|] You are EXAONE model from LG AI Research, a helpful assistant. [|endofturn|]\n",
      "[|user|] 다음 뉴스의 헤드라인을 보고 기사가 어떤 주제인제 말해줘. 주제는 정치, 경제, 사회, 생활문화, 세계, IT과학, 스포츠가 있어. 답변은 단답으로 해줘.\n",
      "벚꽃 와인 마시며 봄 즐기세요\n",
      "[|assistant|]생활문화[|endofturn|][|system|] You are EXAONE model from LG AI Research, a helpful assistant. [|endofturn|]\n",
      "[|user|] 다음 뉴스의 헤드라인을 보고 기사가 어떤 주제인제 말해줘. 주제는 정치, 경제, 사회, 생활문화, 세계, IT과학, 스포츠가 있어. 답변은 단답으로 해줘.\n",
      "트럼프 한국 등 방위비분담금 더 내라...양방향 도로 돼야\n",
      "[|assistant|]세계[|endofturn|][|system|] You are EXAONE model from LG AI Research, a helpful assistant. [|endofturn|]\n",
      "[|user|] 다음 뉴스의 헤드라인을 보고 기사가 어떤 주제인제 말해줘. 주제는 정치, 경제, 사회, 생활문화, 세계, IT과학, 스포츠가 있어. 답변은 단답으로 해줘.\n",
      "네이버 모바일 연예판에도 AI 콘텐츠 추천 시스템 적용\n",
      "[|assistant|]IT과학[|endofturn|][|system|] You are EXAONE model from LG AI Research, a helpful assistant. [|endofturn|]\n",
      "[|user|] 다음 뉴스의 헤드라인을 보고 기사가 어떤 주제인제 말해줘. 주제는 정치, 경제, 사회, 생활문화, 세계, IT과학, 스포츠가 있어. 답변은 단답으로 해줘.\n",
      "대한항공 우리카드 꺾고 3연승...GS칼텍스 1라운드 전승종합\n",
      "[|assistant|]스포츠[|endofturn|][|system|] You are EXAONE model from LG AI Research, a helpful assistant. [|endofturn|]\n",
      "[|user|] 다음 뉴스의 헤드라인을 보고 기사가 어떤 주제인제 말해줘. 주제는 정치, 경제, 사회, 생활문화, 세계, IT과학, 스포츠가 있어. 답변은 단답으로 해줘.\n",
      "아시안게임 목소리 높인 박항서 베트남이 일본 못 이길...\n",
      "[|assistant|]스포츠\n"
     ]
    }
   ],
   "source": [
    "output = model.generate(\n",
    "    input_ids.to(\"cuda\"),\n",
    "    eos_token_id=tokenizer.eos_token_id,\n",
    "    max_new_tokens=1\n",
    ")\n",
    "print(tokenizer.decode(output[0]))"
   ]
  },
  {
   "cell_type": "code",
   "execution_count": 99,
   "metadata": {},
   "outputs": [
    {
     "data": {
      "text/plain": [
       "'[|system|] You are EXAONE model from LG AI Research, a helpful assistant. [|endofturn|]\\n[|user|] 다음 뉴스의 헤드라인을 보고 기사가 어떤 주제인제 말해줘. 주제는 정치, 경제, 사회, 생활문화, 세계, IT과학, 스포츠가 있어. 답변은 단답으로 해줘.\\n영상 선출부터 퇴장까지…나경원 원내대표 파란만장 1년\\n[|assistant|]'"
      ]
     },
     "execution_count": 99,
     "metadata": {},
     "output_type": "execute_result"
    }
   ],
   "source": [
    "test_text = '영상 선출부터 퇴장까지…나경원 원내대표 파란만장 1년'\n",
    "test_prompt = EXAONE_TEMP.format(test_text)\n",
    "test_prompt"
   ]
  },
  {
   "cell_type": "code",
   "execution_count": 100,
   "metadata": {},
   "outputs": [
    {
     "data": {
      "text/plain": [
       "'[|system|] You are EXAONE model from LG AI Research, a helpful assistant. [|endofturn|]\\n[|user|] 다음 뉴스의 헤드라인을 보고 기사가 어떤 주제인제 말해줘. 주제는 정치, 경제, 사회, 생활문화, 세계, IT과학, 스포츠가 있어. 답변은 단답으로 해줘.\\n황총리 각 부처 비상대비태세 철저히 강구해야\\n[|assistant|]정치[|endofturn|][|system|] You are EXAONE model from LG AI Research, a helpful assistant. [|endofturn|]\\n[|user|] 다음 뉴스의 헤드라인을 보고 기사가 어떤 주제인제 말해줘. 주제는 정치, 경제, 사회, 생활문화, 세계, IT과학, 스포츠가 있어. 답변은 단답으로 해줘.\\n금융시장 충격 일단 소강국면…주가 낙폭 줄고 환율도 하락\\n[|assistant|]경제[|endofturn|][|system|] You are EXAONE model from LG AI Research, a helpful assistant. [|endofturn|]\\n[|user|] 다음 뉴스의 헤드라인을 보고 기사가 어떤 주제인제 말해줘. 주제는 정치, 경제, 사회, 생활문화, 세계, IT과학, 스포츠가 있어. 답변은 단답으로 해줘.\\n월미도 새 모노레일 내년 추석엔 달릴 수 있을까\\n[|assistant|]사회[|endofturn|][|system|] You are EXAONE model from LG AI Research, a helpful assistant. [|endofturn|]\\n[|user|] 다음 뉴스의 헤드라인을 보고 기사가 어떤 주제인제 말해줘. 주제는 정치, 경제, 사회, 생활문화, 세계, IT과학, 스포츠가 있어. 답변은 단답으로 해줘.\\n벚꽃 와인 마시며 봄 즐기세요\\n[|assistant|]생활문화[|endofturn|][|system|] You are EXAONE model from LG AI Research, a helpful assistant. [|endofturn|]\\n[|user|] 다음 뉴스의 헤드라인을 보고 기사가 어떤 주제인제 말해줘. 주제는 정치, 경제, 사회, 생활문화, 세계, IT과학, 스포츠가 있어. 답변은 단답으로 해줘.\\n트럼프 한국 등 방위비분담금 더 내라…양방향 도로 돼야\\n[|assistant|]세계[|endofturn|][|system|] You are EXAONE model from LG AI Research, a helpful assistant. [|endofturn|]\\n[|user|] 다음 뉴스의 헤드라인을 보고 기사가 어떤 주제인제 말해줘. 주제는 정치, 경제, 사회, 생활문화, 세계, IT과학, 스포츠가 있어. 답변은 단답으로 해줘.\\n네이버 모바일 연예판에도 AI 콘텐츠 추천 시스템 적용\\n[|assistant|]IT과학[|endofturn|][|system|] You are EXAONE model from LG AI Research, a helpful assistant. [|endofturn|]\\n[|user|] 다음 뉴스의 헤드라인을 보고 기사가 어떤 주제인제 말해줘. 주제는 정치, 경제, 사회, 생활문화, 세계, IT과학, 스포츠가 있어. 답변은 단답으로 해줘.\\n대한항공 우리카드 꺾고 3연승…GS칼텍스 1라운드 전승종합\\n[|assistant|]스포츠[|endofturn|][|system|] You are EXAONE model from LG AI Research, a helpful assistant. [|endofturn|]\\n[|user|] 다음 뉴스의 헤드라인을 보고 기사가 어떤 주제인제 말해줘. 주제는 정치, 경제, 사회, 생활문화, 세계, IT과학, 스포츠가 있어. 답변은 단답으로 해줘.\\n영상 선출부터 퇴장까지…나경원 원내대표 파란만장 1년\\n[|assistant|]'"
      ]
     },
     "execution_count": 100,
     "metadata": {},
     "output_type": "execute_result"
    }
   ],
   "source": [
    "few_shop_promt + test_prompt"
   ]
  },
  {
   "cell_type": "code",
   "execution_count": 101,
   "metadata": {},
   "outputs": [],
   "source": [
    "input_ids = tokenizer(few_shop_promt + test_prompt, return_tensors=\"pt\")['input_ids']"
   ]
  },
  {
   "cell_type": "code",
   "execution_count": 105,
   "metadata": {},
   "outputs": [
    {
     "name": "stdout",
     "output_type": "stream",
     "text": [
      "[|system|] You are EXAONE model from LG AI Research, a helpful assistant. [|endofturn|]\n",
      "[|user|] 다음 뉴스의 헤드라인을 보고 기사가 어떤 주제인제 말해줘. 주제는 정치, 경제, 사회, 생활문화, 세계, IT과학, 스포츠가 있어. 답변은 단답으로 해줘.\n",
      "황총리 각 부처 비상대비태세 철저히 강구해야\n",
      "[|assistant|]정치[|endofturn|][|system|] You are EXAONE model from LG AI Research, a helpful assistant. [|endofturn|]\n",
      "[|user|] 다음 뉴스의 헤드라인을 보고 기사가 어떤 주제인제 말해줘. 주제는 정치, 경제, 사회, 생활문화, 세계, IT과학, 스포츠가 있어. 답변은 단답으로 해줘.\n",
      "금융시장 충격 일단 소강국면...주가 낙폭 줄고 환율도 하락\n",
      "[|assistant|]경제[|endofturn|][|system|] You are EXAONE model from LG AI Research, a helpful assistant. [|endofturn|]\n",
      "[|user|] 다음 뉴스의 헤드라인을 보고 기사가 어떤 주제인제 말해줘. 주제는 정치, 경제, 사회, 생활문화, 세계, IT과학, 스포츠가 있어. 답변은 단답으로 해줘.\n",
      "월미도 새 모노레일 내년 추석엔 달릴 수 있을까\n",
      "[|assistant|]사회[|endofturn|][|system|] You are EXAONE model from LG AI Research, a helpful assistant. [|endofturn|]\n",
      "[|user|] 다음 뉴스의 헤드라인을 보고 기사가 어떤 주제인제 말해줘. 주제는 정치, 경제, 사회, 생활문화, 세계, IT과학, 스포츠가 있어. 답변은 단답으로 해줘.\n",
      "벚꽃 와인 마시며 봄 즐기세요\n",
      "[|assistant|]생활문화[|endofturn|][|system|] You are EXAONE model from LG AI Research, a helpful assistant. [|endofturn|]\n",
      "[|user|] 다음 뉴스의 헤드라인을 보고 기사가 어떤 주제인제 말해줘. 주제는 정치, 경제, 사회, 생활문화, 세계, IT과학, 스포츠가 있어. 답변은 단답으로 해줘.\n",
      "트럼프 한국 등 방위비분담금 더 내라...양방향 도로 돼야\n",
      "[|assistant|]세계[|endofturn|][|system|] You are EXAONE model from LG AI Research, a helpful assistant. [|endofturn|]\n",
      "[|user|] 다음 뉴스의 헤드라인을 보고 기사가 어떤 주제인제 말해줘. 주제는 정치, 경제, 사회, 생활문화, 세계, IT과학, 스포츠가 있어. 답변은 단답으로 해줘.\n",
      "네이버 모바일 연예판에도 AI 콘텐츠 추천 시스템 적용\n",
      "[|assistant|]IT과학[|endofturn|][|system|] You are EXAONE model from LG AI Research, a helpful assistant. [|endofturn|]\n",
      "[|user|] 다음 뉴스의 헤드라인을 보고 기사가 어떤 주제인제 말해줘. 주제는 정치, 경제, 사회, 생활문화, 세계, IT과학, 스포츠가 있어. 답변은 단답으로 해줘.\n",
      "대한항공 우리카드 꺾고 3연승...GS칼텍스 1라운드 전승종합\n",
      "[|assistant|]스포츠[|endofturn|][|system|] You are EXAONE model from LG AI Research, a helpful assistant. [|endofturn|]\n",
      "[|user|] 다음 뉴스의 헤드라인을 보고 기사가 어떤 주제인제 말해줘. 주제는 정치, 경제, 사회, 생활문화, 세계, IT과학, 스포츠가 있어. 답변은 단답으로 해줘.\n",
      "영상 선출부터 퇴장까지...나경원 원내대표 파란만장 1년\n",
      "[|assistant|]정치\n"
     ]
    }
   ],
   "source": [
    "output = model.generate(\n",
    "    input_ids.to(\"cuda\"),\n",
    "    eos_token_id=tokenizer.eos_token_id,\n",
    "    max_new_tokens=1\n",
    ")\n",
    "print(tokenizer.decode(output[0]))"
   ]
  },
  {
   "cell_type": "code",
   "execution_count": null,
   "metadata": {},
   "outputs": [],
   "source": []
  }
 ],
 "metadata": {
  "kernelspec": {
   "display_name": ".venv_sh",
   "language": "python",
   "name": "python3"
  },
  "language_info": {
   "codemirror_mode": {
    "name": "ipython",
    "version": 3
   },
   "file_extension": ".py",
   "mimetype": "text/x-python",
   "name": "python",
   "nbconvert_exporter": "python",
   "pygments_lexer": "ipython3",
   "version": "3.10.13"
  }
 },
 "nbformat": 4,
 "nbformat_minor": 2
}
