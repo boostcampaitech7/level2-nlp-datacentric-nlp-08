{
 "cells": [
  {
   "cell_type": "code",
   "execution_count": 22,
   "metadata": {},
   "outputs": [],
   "source": [
    "import pandas as pd"
   ]
  },
  {
   "cell_type": "code",
   "execution_count": 23,
   "metadata": {},
   "outputs": [],
   "source": [
    "df_headline = pd.read_csv(\"resources/processed/train_noisy_headline_update.csv\", index_col=0)\n",
    "df_topic = pd.read_csv(\"resources/processed/train_not_noisy_topic_update.csv\", index_col=0)"
   ]
  },
  {
   "cell_type": "code",
   "execution_count": 24,
   "metadata": {},
   "outputs": [],
   "source": [
    "lst = []\n",
    "for _, row in df_headline.iterrows():\n",
    "    id = row['ID']\n",
    "    target = row['target']\n",
    "    target_name = row['target_name']\n",
    "    re_text = row['re_text']\n",
    "    lst.append([id, re_text, target, target_name])"
   ]
  },
  {
   "cell_type": "code",
   "execution_count": 25,
   "metadata": {},
   "outputs": [],
   "source": [
    "df_ = pd.DataFrame(lst, columns = ['ID', 'text', 'target', 'target_name'])"
   ]
  },
  {
   "cell_type": "code",
   "execution_count": 27,
   "metadata": {},
   "outputs": [],
   "source": [
    "df_.to_csv(\"resources/processed/train_only_headline_inference.csv\", index=0, encoding='utf-8-sig')"
   ]
  },
  {
   "cell_type": "code",
   "execution_count": 28,
   "metadata": {},
   "outputs": [
    {
     "data": {
      "text/html": [
       "<div>\n",
       "<style scoped>\n",
       "    .dataframe tbody tr th:only-of-type {\n",
       "        vertical-align: middle;\n",
       "    }\n",
       "\n",
       "    .dataframe tbody tr th {\n",
       "        vertical-align: top;\n",
       "    }\n",
       "\n",
       "    .dataframe thead th {\n",
       "        text-align: right;\n",
       "    }\n",
       "</style>\n",
       "<table border=\"1\" class=\"dataframe\">\n",
       "  <thead>\n",
       "    <tr style=\"text-align: right;\">\n",
       "      <th></th>\n",
       "      <th>ID</th>\n",
       "      <th>text</th>\n",
       "      <th>target</th>\n",
       "      <th>target_name</th>\n",
       "    </tr>\n",
       "  </thead>\n",
       "  <tbody>\n",
       "    <tr>\n",
       "      <th>0</th>\n",
       "      <td>ynat-v1_train_00000</td>\n",
       "      <td>정부, '주파수 미사용' KT에 이용기간 2년 단축 처분(종합2보)</td>\n",
       "      <td>4</td>\n",
       "      <td>IT과학</td>\n",
       "    </tr>\n",
       "    <tr>\n",
       "      <th>1</th>\n",
       "      <td>ynat-v1_train_00000</td>\n",
       "      <td>KT, 주파수 미사용으로 이용기간 2년 단축 처분</td>\n",
       "      <td>4</td>\n",
       "      <td>IT과학</td>\n",
       "    </tr>\n",
       "    <tr>\n",
       "      <th>2</th>\n",
       "      <td>ynat-v1_train_00000</td>\n",
       "      <td>정부, KT 주파수 미사용에 강력한 제재 조치</td>\n",
       "      <td>4</td>\n",
       "      <td>IT과학</td>\n",
       "    </tr>\n",
       "    <tr>\n",
       "      <th>3</th>\n",
       "      <td>ynat-v1_train_00001</td>\n",
       "      <td>경찰, '국회 불법 로비' 한어총 회장 등 20명 송치</td>\n",
       "      <td>3</td>\n",
       "      <td>사회</td>\n",
       "    </tr>\n",
       "    <tr>\n",
       "      <th>4</th>\n",
       "      <td>ynat-v1_train_00001</td>\n",
       "      <td>교육계, 학교 급식 칸막이 설치 논란 재점화</td>\n",
       "      <td>3</td>\n",
       "      <td>사회</td>\n",
       "    </tr>\n",
       "    <tr>\n",
       "      <th>...</th>\n",
       "      <td>...</td>\n",
       "      <td>...</td>\n",
       "      <td>...</td>\n",
       "      <td>...</td>\n",
       "    </tr>\n",
       "    <tr>\n",
       "      <th>4756</th>\n",
       "      <td>ynat-v1_train_02792</td>\n",
       "      <td>프로축구 선수 몸값 급등, 선수 에이전트들 수익 급증</td>\n",
       "      <td>1</td>\n",
       "      <td>스포츠</td>\n",
       "    </tr>\n",
       "    <tr>\n",
       "      <th>4757</th>\n",
       "      <td>ynat-v1_train_02792</td>\n",
       "      <td>선수 몸값 상승, 구단 재정 압박 심화</td>\n",
       "      <td>1</td>\n",
       "      <td>스포츠</td>\n",
       "    </tr>\n",
       "    <tr>\n",
       "      <th>4758</th>\n",
       "      <td>ynat-v1_train_02797</td>\n",
       "      <td>텔레그램 등 아시아서 2시간 다운...카카오뱅크 서비스 장애 39분 지속(2보)</td>\n",
       "      <td>4</td>\n",
       "      <td>IT과학</td>\n",
       "    </tr>\n",
       "    <tr>\n",
       "      <th>4759</th>\n",
       "      <td>ynat-v1_train_02797</td>\n",
       "      <td>텔레그램 등 암호화 메신저, 아시아서 2시간 다운...사용자 혼란</td>\n",
       "      <td>4</td>\n",
       "      <td>IT과학</td>\n",
       "    </tr>\n",
       "    <tr>\n",
       "      <th>4760</th>\n",
       "      <td>ynat-v1_train_02797</td>\n",
       "      <td>C버전 업데이트 후 텔레그램 등 메신저 2시간 장애 발생, 원인은?</td>\n",
       "      <td>4</td>\n",
       "      <td>IT과학</td>\n",
       "    </tr>\n",
       "  </tbody>\n",
       "</table>\n",
       "<p>4761 rows × 4 columns</p>\n",
       "</div>"
      ],
      "text/plain": [
       "                       ID                                          text  \\\n",
       "0     ynat-v1_train_00000         정부, '주파수 미사용' KT에 이용기간 2년 단축 처분(종합2보)   \n",
       "1     ynat-v1_train_00000                   KT, 주파수 미사용으로 이용기간 2년 단축 처분   \n",
       "2     ynat-v1_train_00000                     정부, KT 주파수 미사용에 강력한 제재 조치   \n",
       "3     ynat-v1_train_00001                경찰, '국회 불법 로비' 한어총 회장 등 20명 송치   \n",
       "4     ynat-v1_train_00001                      교육계, 학교 급식 칸막이 설치 논란 재점화   \n",
       "...                   ...                                           ...   \n",
       "4756  ynat-v1_train_02792                 프로축구 선수 몸값 급등, 선수 에이전트들 수익 급증   \n",
       "4757  ynat-v1_train_02792                         선수 몸값 상승, 구단 재정 압박 심화   \n",
       "4758  ynat-v1_train_02797  텔레그램 등 아시아서 2시간 다운...카카오뱅크 서비스 장애 39분 지속(2보)   \n",
       "4759  ynat-v1_train_02797          텔레그램 등 암호화 메신저, 아시아서 2시간 다운...사용자 혼란   \n",
       "4760  ynat-v1_train_02797         C버전 업데이트 후 텔레그램 등 메신저 2시간 장애 발생, 원인은?   \n",
       "\n",
       "      target target_name  \n",
       "0          4        IT과학  \n",
       "1          4        IT과학  \n",
       "2          4        IT과학  \n",
       "3          3          사회  \n",
       "4          3          사회  \n",
       "...      ...         ...  \n",
       "4756       1         스포츠  \n",
       "4757       1         스포츠  \n",
       "4758       4        IT과학  \n",
       "4759       4        IT과학  \n",
       "4760       4        IT과학  \n",
       "\n",
       "[4761 rows x 4 columns]"
      ]
     },
     "execution_count": 28,
     "metadata": {},
     "output_type": "execute_result"
    }
   ],
   "source": [
    "df_"
   ]
  },
  {
   "cell_type": "code",
   "execution_count": 10,
   "metadata": {},
   "outputs": [],
   "source": [
    "for _, row in df_topic.iterrows():\n",
    "    id = row['ID']\n",
    "    target = row['target']\n",
    "    target_name = row['target_name']\n",
    "    text = row['text']\n",
    "    lst.append([id, text, target, target_name])"
   ]
  },
  {
   "cell_type": "code",
   "execution_count": 11,
   "metadata": {},
   "outputs": [],
   "source": [
    "df_f = pd.DataFrame(lst, columns = ['ID', 'text', 'target', 'target_name'])"
   ]
  },
  {
   "cell_type": "code",
   "execution_count": 13,
   "metadata": {},
   "outputs": [],
   "source": [
    "df_f = df_f.sort_values(['ID'])"
   ]
  },
  {
   "cell_type": "code",
   "execution_count": 15,
   "metadata": {},
   "outputs": [],
   "source": [
    "df_f = df_f.reset_index(drop=True)"
   ]
  },
  {
   "cell_type": "code",
   "execution_count": 17,
   "metadata": {},
   "outputs": [],
   "source": [
    "df_f.to_csv(\"resources/processed/train_headline_topic_update.csv\", index=0, encoding='utf-8-sig')"
   ]
  }
 ],
 "metadata": {
  "kernelspec": {
   "display_name": ".venv_sh",
   "language": "python",
   "name": "python3"
  },
  "language_info": {
   "codemirror_mode": {
    "name": "ipython",
    "version": 3
   },
   "file_extension": ".py",
   "mimetype": "text/x-python",
   "name": "python",
   "nbconvert_exporter": "python",
   "pygments_lexer": "ipython3",
   "version": "3.10.13"
  }
 },
 "nbformat": 4,
 "nbformat_minor": 2
}
