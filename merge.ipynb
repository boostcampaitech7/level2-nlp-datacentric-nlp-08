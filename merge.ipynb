{
 "cells": [
  {
   "cell_type": "code",
   "execution_count": 1,
   "metadata": {},
   "outputs": [],
   "source": [
    "import pandas as pd"
   ]
  },
  {
   "cell_type": "code",
   "execution_count": 2,
   "metadata": {},
   "outputs": [],
   "source": [
    "df_noise_remove = pd.read_csv(\"resources/processed/train_noise_remove_llm.csv\", index_col=0)\n",
    "df_topic_generation = pd.read_csv(\"resources/processed/train_topic_generation_llm.csv\", index_col=0)"
   ]
  },
  {
   "cell_type": "code",
   "execution_count": 5,
   "metadata": {},
   "outputs": [],
   "source": [
    "df_noise_remove['topic_generation'] = df_topic_generation['generate']"
   ]
  },
  {
   "cell_type": "code",
   "execution_count": 10,
   "metadata": {},
   "outputs": [],
   "source": [
    "df_train_merge = df_noise_remove"
   ]
  },
  {
   "cell_type": "code",
   "execution_count": 13,
   "metadata": {},
   "outputs": [],
   "source": [
    "columns = ['ID', 'text', 'target']"
   ]
  },
  {
   "cell_type": "code",
   "execution_count": 18,
   "metadata": {},
   "outputs": [
    {
     "name": "stdout",
     "output_type": "stream",
     "text": [
      "정i :파1 미사z KT( 이용기간 2e 단] Q분종U2보\n",
      "정희 : 파리 미사 KT( 이용기간 2년] 질문 2분 보도\n",
      "IT과학\n",
      "\n",
      "이 헤드라인은 KT와 관련된 기술적 발표나 서비스 업데이트를 다루고 있는 것으로 보입니다. '파1 미사z'와 같은 표현은 오타일 가능성이 있으며, 'KT'는 한국의 주요 통신사로 IT과학 분야에 속합니다.[|endofturn|]\n"
     ]
    }
   ],
   "source": [
    "for _, row in df_train_merge.iterrows():\n",
    "    id = row['ID']\n",
    "    text = row['text']\n",
    "    re_text = row['re_text']\n",
    "    print(text)\n",
    "    print(re_text.split('\\n')[0])\n",
    "    target = row['topic_generation']\n",
    "    print(target)\n",
    "    \n",
    "    break"
   ]
  }
 ],
 "metadata": {
  "kernelspec": {
   "display_name": ".venv_sh",
   "language": "python",
   "name": "python3"
  },
  "language_info": {
   "codemirror_mode": {
    "name": "ipython",
    "version": 3
   },
   "file_extension": ".py",
   "mimetype": "text/x-python",
   "name": "python",
   "nbconvert_exporter": "python",
   "pygments_lexer": "ipython3",
   "version": "3.10.13"
  }
 },
 "nbformat": 4,
 "nbformat_minor": 2
}
