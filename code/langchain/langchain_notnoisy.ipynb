{
 "cells": [
  {
   "cell_type": "code",
   "execution_count": null,
   "metadata": {},
   "outputs": [],
   "source": [
    "import pandas as pd\n",
    "from langchain_community.llms import Ollama\n",
    "from langchain.prompts import ChatPromptTemplate\n",
    "from langchain_core.output_parsers import JsonOutputParser\n",
    "\n",
    "df = pd.read_csv('test2.csv')\n",
    "\n",
    "# LLM 모델 초기화\n",
    "llm = Ollama(model='gemma2')\n",
    "\n",
    "# JSONOutputParser 초기화\n",
    "parser = JsonOutputParser()\n",
    "\n",
    "# 프롬프트 템플릿 설정\n",
    "prompt_template = ChatPromptTemplate.from_messages([\n",
    "    (\"system\",\n",
    "     '''당신은 주어진 뉴스 기사 제목을 참고하여 새로운 제목을 만드는 어시스턴트입니다.\n",
    "     아래 규칙을 반드시 따라주세요:\n",
    "     \n",
    "     1. 입력으로 주어진 뉴스 제목과 비슷한 맥락이지만, 다른 표현으로 바꾼 새로운 제목을 하나만 생성해주세요.\n",
    "     2. 원본 제목에 나오는 중요한 고유명사, 핵심 키워드는 유지해주세요.\n",
    "     3. 출력은 반드시 아래 JSON 형식을 지켜주세요:\n",
    "        {{ \"re_text\": \"생성된 제목\" }}\n",
    "     4. 마크다운 강조 표시(**) 등은 사용하지 마세요.\n",
    "     \n",
    "     입력 예시 제목:\n",
    "     {example}\n",
    "     '''),\n",
    "    (\"user\", \"{req}\")\n",
    "])\n",
    "\n",
    "# 템플릿에 고정 지시사항 주입\n",
    "prompt_template = prompt_template.partial(\n",
    "    req=\"위 예시 제목과 비슷하지만 새로운 표현의 제목을 JSON 형식으로 생성해주세요.\"\n",
    ")\n",
    "\n",
    "# 빈 리스트를 준비하여 새로운 제목을 저장\n",
    "new_titles = []\n",
    "\n",
    "# 각 row에 대해 새로운 제목 생성\n",
    "for index, row in df.iterrows():\n",
    "    example_title = row['text']  # 예시로 사용할 제목 (text 열의 내용)\n",
    "    \n",
    "    # 프롬프트 템플릿에 제목을 주입하여 프롬프트 생성\n",
    "    prompt = prompt_template.partial(example=example_title)\n",
    "    \n",
    "    # 체인을 통해 LLM 실행\n",
    "    response = (prompt | llm).invoke(input={})  # 빈 딕셔너리로 입력 전달\n",
    "    \n",
    "    # JSON 파싱 후 새로운 제목 추출\n",
    "    new_title = parser.parse(response)[\"re_text\"]\n",
    "    \n",
    "    # 새로운 제목을 리스트에 추가\n",
    "    new_titles.append(new_title)\n",
    "\n",
    "# 새로운 칼럼 're_text'를 데이터프레임에 추가\n",
    "df['re_text'] = new_titles"
   ]
  },
  {
   "cell_type": "code",
   "execution_count": null,
   "metadata": {},
   "outputs": [],
   "source": [
    "df.to_csv('not_noisy_aug.csv')"
   ]
  }
 ],
 "metadata": {
  "kernelspec": {
   "display_name": "Python 3",
   "language": "python",
   "name": "python3"
  },
  "language_info": {
   "name": "python",
   "version": "3.12.5"
  }
 },
 "nbformat": 4,
 "nbformat_minor": 2
}
