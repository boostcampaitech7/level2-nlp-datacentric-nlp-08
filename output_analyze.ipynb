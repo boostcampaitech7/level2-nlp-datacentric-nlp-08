{
 "cells": [
  {
   "cell_type": "code",
   "execution_count": 1,
   "metadata": {},
   "outputs": [],
   "source": [
    "import pandas as pd\n",
    "\n",
    "train_output=pd.read_csv(\"resources/analyze/ver2/train_output.csv\")\n",
    "valid_output=pd.read_csv(\"resources/analyze/ver2/valid_output.csv\")\n",
    "\n",
    "total_output=pd.concat((train_output,valid_output),axis=0)"
   ]
  },
  {
   "cell_type": "code",
   "execution_count": 4,
   "metadata": {},
   "outputs": [],
   "source": [
    "total_output.to_excel(\"total_prediction_result.xlsx\",engine='openpyxl')"
   ]
  },
  {
   "cell_type": "code",
   "execution_count": 6,
   "metadata": {},
   "outputs": [],
   "source": [
    "# import matplotlib.font_manager\n",
    "# font_list = matplotlib.font_manager.findSystemFonts(fontpaths=None, fontext='ttf')\n",
    "# [matplotlib.font_manager.FontProperties(fname=font).get_name() for font in font_list if 'Nanum' in font]"
   ]
  },
  {
   "cell_type": "code",
   "execution_count": 7,
   "metadata": {},
   "outputs": [],
   "source": [
    "from matplotlib import pyplot as plt\n",
    "plt.rc('font',family='NanumGothic')"
   ]
  },
  {
   "cell_type": "code",
   "execution_count": 8,
   "metadata": {},
   "outputs": [],
   "source": [
    "def frequency_plot(data,title_name):\n",
    "    topic_map={0: '생활문화',1:'스포츠',2:'정치',3:'사회',4:'IT과학',5:'경제',6:'세계'}\n",
    "\n",
    "    fig,ax= plt.subplots(1,1,figsize=(15,8))\n",
    "    xlabel=list(set(data['target']))\n",
    "    ax.set_title(f\"{title_name}\")\n",
    "    ax.bar(xlabel,data['target'].value_counts(sort=False))\n",
    "    print(data['target'].value_counts(sort=False))\n",
    "\n",
    "    ax.set_xticks(range(len(xlabel)))\n",
    "    ax.set_xticklabels([f\"{x} - {topic_map[x]}\" for x in xlabel])  # xlabel의 정수 값을 topic_map에서 매핑하여 라벨로 설정\n",
    "\n"
   ]
  },
  {
   "cell_type": "markdown",
   "metadata": {},
   "source": [
    "**labels**\n",
    "'생활문화': 0\n",
    "'스포츠': 1\n",
    "'정치': 2\n",
    "'사회': 3 \n",
    "'IT과학': 4 \n",
    "'경제': 5 \n",
    "'세계': 6"
   ]
  },
  {
   "cell_type": "code",
   "execution_count": 9,
   "metadata": {},
   "outputs": [
    {
     "name": "stdout",
     "output_type": "stream",
     "text": [
      "target\n",
      "0    1307\n",
      "1    1340\n",
      "2    1431\n",
      "3    1276\n",
      "4    1203\n",
      "5    1056\n",
      "6    1412\n",
      "Name: count, dtype: int64\n"
     ]
    },
    {
     "data": {
      "image/png": "[encoded data removed]",
      "text/plain": [
       "<Figure size 1500x800 with 1 Axes>"
      ]
     },
     "metadata": {},
     "output_type": "display_data"
    }
   ],
   "source": [
    "frequency_plot(total_output,'target & predict')"
   ]
  },
  {
   "cell_type": "code",
   "execution_count": 10,
   "metadata": {},
   "outputs": [
    {
     "data": {
      "text/html": [
       "<div>\n",
       "<style scoped>\n",
       "    .dataframe tbody tr th:only-of-type {\n",
       "        vertical-align: middle;\n",
       "    }\n",
       "\n",
       "    .dataframe tbody tr th {\n",
       "        vertical-align: top;\n",
       "    }\n",
       "\n",
       "    .dataframe thead th {\n",
       "        text-align: right;\n",
       "    }\n",
       "</style>\n",
       "<table border=\"1\" class=\"dataframe\">\n",
       "  <thead>\n",
       "    <tr style=\"text-align: right;\">\n",
       "      <th></th>\n",
       "      <th>index</th>\n",
       "      <th>ID</th>\n",
       "      <th>text</th>\n",
       "      <th>target</th>\n",
       "      <th>target_name</th>\n",
       "      <th>source</th>\n",
       "      <th>similarity</th>\n",
       "      <th>predicted_value</th>\n",
       "    </tr>\n",
       "  </thead>\n",
       "  <tbody>\n",
       "    <tr>\n",
       "      <th>13</th>\n",
       "      <td>378</td>\n",
       "      <td>ynat-v1_train_00087</td>\n",
       "      <td>2023년 수능, 전국적으로 안정적인 진행... 학생들의 건강과 안전이 최우선입니다.</td>\n",
       "      <td>0</td>\n",
       "      <td>생활문화</td>\n",
       "      <td>noisy</td>\n",
       "      <td>0.16534</td>\n",
       "      <td>3</td>\n",
       "    </tr>\n",
       "    <tr>\n",
       "      <th>33</th>\n",
       "      <td>606</td>\n",
       "      <td>ynat-v1_train_00132</td>\n",
       "      <td>올해 경제 성장 전망에 대해 전문가들의 논평이 나오고 있다.</td>\n",
       "      <td>0</td>\n",
       "      <td>생활문화</td>\n",
       "      <td>noisy</td>\n",
       "      <td>0.19031</td>\n",
       "      <td>5</td>\n",
       "    </tr>\n",
       "    <tr>\n",
       "      <th>34</th>\n",
       "      <td>607</td>\n",
       "      <td>ynat-v1_train_00132</td>\n",
       "      <td>바르셀로나를 떠나 빌바오에 합류한 메시, 축구계의 큰 파도.</td>\n",
       "      <td>0</td>\n",
       "      <td>생활문화</td>\n",
       "      <td>noisy</td>\n",
       "      <td>0.18133</td>\n",
       "      <td>1</td>\n",
       "    </tr>\n",
       "    <tr>\n",
       "      <th>35</th>\n",
       "      <td>608</td>\n",
       "      <td>ynat-v1_train_00132</td>\n",
       "      <td>올해 경제 성장률 전망에 대해 전문가들이 의견을 나누고 있다</td>\n",
       "      <td>0</td>\n",
       "      <td>생활문화</td>\n",
       "      <td>noisy</td>\n",
       "      <td>0.18269</td>\n",
       "      <td>5</td>\n",
       "    </tr>\n",
       "    <tr>\n",
       "      <th>40</th>\n",
       "      <td>619</td>\n",
       "      <td>ynat-v1_train_00135</td>\n",
       "      <td>MLB 로키스, 피츠버그와 경기! 뉴에이지 메달리스트 감독 취임</td>\n",
       "      <td>0</td>\n",
       "      <td>생활문화</td>\n",
       "      <td>noisy</td>\n",
       "      <td>0.18749</td>\n",
       "      <td>1</td>\n",
       "    </tr>\n",
       "    <tr>\n",
       "      <th>...</th>\n",
       "      <td>...</td>\n",
       "      <td>...</td>\n",
       "      <td>...</td>\n",
       "      <td>...</td>\n",
       "      <td>...</td>\n",
       "      <td>...</td>\n",
       "      <td>...</td>\n",
       "      <td>...</td>\n",
       "    </tr>\n",
       "    <tr>\n",
       "      <th>937</th>\n",
       "      <td>10642</td>\n",
       "      <td>ynat-v1_train_02587</td>\n",
       "      <td>삼성전자가 갤럭시 S9 퀸툼의 새로운 버전을 출시합니다...AI로 업무 효율을 극대...</td>\n",
       "      <td>6</td>\n",
       "      <td>세계</td>\n",
       "      <td>noisy</td>\n",
       "      <td>0.19390</td>\n",
       "      <td>4</td>\n",
       "    </tr>\n",
       "    <tr>\n",
       "      <th>940</th>\n",
       "      <td>5830</td>\n",
       "      <td>ynat-v1_train_01346</td>\n",
       "      <td>초등학교 3부 교육, 새로운 Y 교육 프로그램 도입</td>\n",
       "      <td>6</td>\n",
       "      <td>세계</td>\n",
       "      <td>noisy</td>\n",
       "      <td>0.17432</td>\n",
       "      <td>3</td>\n",
       "    </tr>\n",
       "    <tr>\n",
       "      <th>946</th>\n",
       "      <td>1504</td>\n",
       "      <td>ynat-v1_train_00379</td>\n",
       "      <td>이서훈 국가정보원장이 \"민간단체와 협력해 헝가리의 인권 문제 해결\"을 강조한다.</td>\n",
       "      <td>6</td>\n",
       "      <td>세계</td>\n",
       "      <td>noisy</td>\n",
       "      <td>0.20103</td>\n",
       "      <td>2</td>\n",
       "    </tr>\n",
       "    <tr>\n",
       "      <th>950</th>\n",
       "      <td>265</td>\n",
       "      <td>ynat-v1_train_00058</td>\n",
       "      <td>한 는 유 치료제 오 솔 美 임 본격화</td>\n",
       "      <td>6</td>\n",
       "      <td>세계</td>\n",
       "      <td>noisy</td>\n",
       "      <td>0.21316</td>\n",
       "      <td>4</td>\n",
       "    </tr>\n",
       "    <tr>\n",
       "      <th>953</th>\n",
       "      <td>5996</td>\n",
       "      <td>ynat-v1_train_01383</td>\n",
       "      <td>한미 정상회담 후 워싱턴서 새로운 협력 방안 논의</td>\n",
       "      <td>6</td>\n",
       "      <td>세계</td>\n",
       "      <td>noisy</td>\n",
       "      <td>0.19620</td>\n",
       "      <td>2</td>\n",
       "    </tr>\n",
       "  </tbody>\n",
       "</table>\n",
       "<p>911 rows × 8 columns</p>\n",
       "</div>"
      ],
      "text/plain": [
       "     index                   ID  \\\n",
       "13     378  ynat-v1_train_00087   \n",
       "33     606  ynat-v1_train_00132   \n",
       "34     607  ynat-v1_train_00132   \n",
       "35     608  ynat-v1_train_00132   \n",
       "40     619  ynat-v1_train_00135   \n",
       "..     ...                  ...   \n",
       "937  10642  ynat-v1_train_02587   \n",
       "940   5830  ynat-v1_train_01346   \n",
       "946   1504  ynat-v1_train_00379   \n",
       "950    265  ynat-v1_train_00058   \n",
       "953   5996  ynat-v1_train_01383   \n",
       "\n",
       "                                                  text  target target_name  \\\n",
       "13     2023년 수능, 전국적으로 안정적인 진행... 학생들의 건강과 안전이 최우선입니다.       0        생활문화   \n",
       "33                   올해 경제 성장 전망에 대해 전문가들의 논평이 나오고 있다.       0        생활문화   \n",
       "34                   바르셀로나를 떠나 빌바오에 합류한 메시, 축구계의 큰 파도.       0        생활문화   \n",
       "35                   올해 경제 성장률 전망에 대해 전문가들이 의견을 나누고 있다       0        생활문화   \n",
       "40                 MLB 로키스, 피츠버그와 경기! 뉴에이지 메달리스트 감독 취임       0        생활문화   \n",
       "..                                                 ...     ...         ...   \n",
       "937  삼성전자가 갤럭시 S9 퀸툼의 새로운 버전을 출시합니다...AI로 업무 효율을 극대...       6          세계   \n",
       "940                       초등학교 3부 교육, 새로운 Y 교육 프로그램 도입       6          세계   \n",
       "946       이서훈 국가정보원장이 \"민간단체와 협력해 헝가리의 인권 문제 해결\"을 강조한다.       6          세계   \n",
       "950                              한 는 유 치료제 오 솔 美 임 본격화       6          세계   \n",
       "953                        한미 정상회담 후 워싱턴서 새로운 협력 방안 논의       6          세계   \n",
       "\n",
       "    source  similarity  predicted_value  \n",
       "13   noisy     0.16534                3  \n",
       "33   noisy     0.19031                5  \n",
       "34   noisy     0.18133                1  \n",
       "35   noisy     0.18269                5  \n",
       "40   noisy     0.18749                1  \n",
       "..     ...         ...              ...  \n",
       "937  noisy     0.19390                4  \n",
       "940  noisy     0.17432                3  \n",
       "946  noisy     0.20103                2  \n",
       "950  noisy     0.21316                4  \n",
       "953  noisy     0.19620                2  \n",
       "\n",
       "[911 rows x 8 columns]"
      ]
     },
     "execution_count": 10,
     "metadata": {},
     "output_type": "execute_result"
    }
   ],
   "source": [
    "wrong_answer_df=total_output[total_output['target']!=total_output['predicted_value']]\n",
    "wrong_answer_df"
   ]
  },
  {
   "cell_type": "code",
   "execution_count": 11,
   "metadata": {},
   "outputs": [
    {
     "name": "stdout",
     "output_type": "stream",
     "text": [
      "target\n",
      "0    148\n",
      "1     40\n",
      "2     75\n",
      "3    188\n",
      "4    104\n",
      "5    164\n",
      "6    192\n",
      "Name: count, dtype: int64\n"
     ]
    },
    {
     "data": {
      "image/png": "[encoded data removed]",
      "text/plain": [
       "<Figure size 1500x800 with 1 Axes>"
      ]
     },
     "metadata": {},
     "output_type": "display_data"
    }
   ],
   "source": [
    "frequency_plot(wrong_answer_df,'wrong_cases')"
   ]
  },
  {
   "cell_type": "code",
   "execution_count": 21,
   "metadata": {},
   "outputs": [],
   "source": [
    "def select_frequency_plot(data,select):\n",
    "    topic_map={0: '생활문화',1:'스포츠',2:'정치',3:'사회',4:'IT과학',5:'경제',6:'세계'}\n",
    "\n",
    "    fig,ax= plt.subplots(1,1,figsize=(15,8))\n",
    "    xlabel=list(set(data[data['predicted_value']==select]['target']))\n",
    "\n",
    "    ax.set_title(f\"selected topic : {topic_map[select]}\")\n",
    "    ax.bar(xlabel,data[data['predicted_value']==select]['target'].value_counts(sort=False))\n",
    "    print(data[data['predicted_value']==select]['target'].value_counts(sort=False))\n",
    "\n",
    "    ax.set_xticks(xlabel)\n",
    "    ax.set_xticklabels([f\"{x} - {topic_map[x]}\" for x in xlabel])  # xlabel의 정수 값을 topic_map에서 매핑하여 라벨로 설정\n",
    "\n"
   ]
  },
  {
   "cell_type": "code",
   "execution_count": 28,
   "metadata": {},
   "outputs": [
    {
     "name": "stdout",
     "output_type": "stream",
     "text": [
      "target\n",
      "0     9\n",
      "1     3\n",
      "2    39\n",
      "3    24\n",
      "4    13\n",
      "5     8\n",
      "Name: count, dtype: int64\n"
     ]
    },
    {
     "data": {
      "image/png": "[encoded data removed]",
      "text/plain": [
       "<Figure size 1500x800 with 1 Axes>"
      ]
     },
     "metadata": {},
     "output_type": "display_data"
    }
   ],
   "source": [
    "select_frequency_plot(wrong_answer_df,6)"
   ]
  },
  {
   "cell_type": "code",
   "execution_count": 29,
   "metadata": {},
   "outputs": [],
   "source": [
    "wrong_answer_df.to_excel(\"wrong_predict.xlsx\",engine='openpyxl')"
   ]
  },
  {
   "cell_type": "code",
   "execution_count": null,
   "metadata": {},
   "outputs": [],
   "source": []
  }
 ],
 "metadata": {
  "kernelspec": {
   "display_name": ".venv",
   "language": "python",
   "name": "python3"
  },
  "language_info": {
   "codemirror_mode": {
    "name": "ipython",
    "version": 3
   },
   "file_extension": ".py",
   "mimetype": "text/x-python",
   "name": "python",
   "nbconvert_exporter": "python",
   "pygments_lexer": "ipython3",
   "version": "3.10.13"
  }
 },
 "nbformat": 4,
 "nbformat_minor": 2
}
